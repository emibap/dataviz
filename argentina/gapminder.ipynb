{
 "metadata": {
  "language_info": {
   "codemirror_mode": {
    "name": "ipython",
    "version": 3
   },
   "file_extension": ".py",
   "mimetype": "text/x-python",
   "name": "python",
   "nbconvert_exporter": "python",
   "pygments_lexer": "ipython3",
   "version": "3.7.4-final"
  },
  "orig_nbformat": 2,
  "kernelspec": {
   "name": "python3",
   "display_name": "Python 3",
   "language": "python"
  }
 },
 "nbformat": 4,
 "nbformat_minor": 2,
 "cells": [
  {
   "cell_type": "code",
   "execution_count": 707,
   "metadata": {},
   "outputs": [],
   "source": [
    "import plotly.graph_objects as go\n",
    "import numpy as np\n",
    "import pandas as pd"
   ]
  },
  {
   "cell_type": "code",
   "execution_count": 708,
   "metadata": {},
   "outputs": [
    {
     "output_type": "execute_result",
     "data": {
      "text/plain": [
       "             1800        1801        1802        1803        1804        1805  \\\n",
       "count  195.000000  195.000000  195.000000  195.000000  195.000000  195.000000   \n",
       "mean    41.411282   41.411282   41.411282   41.411282   41.411282   41.411282   \n",
       "std      9.499868    9.499868    9.499868    9.499868    9.499868    9.499868   \n",
       "min     16.300000   16.300000   16.300000   16.300000   16.300000   16.300000   \n",
       "25%     36.000000   36.000000   36.000000   36.000000   36.000000   36.000000   \n",
       "50%     40.000000   40.000000   40.000000   40.000000   40.000000   40.000000   \n",
       "75%     46.650000   46.650000   46.650000   46.650000   46.650000   46.650000   \n",
       "max     74.200000   74.200000   74.200000   74.200000   74.200000   74.200000   \n",
       "\n",
       "             1806        1807        1808        1809  ...        2031  \\\n",
       "count  195.000000  195.000000  195.000000  195.000000  ...  195.000000   \n",
       "mean    41.411282   41.411282   41.411282   41.411282  ...   38.850769   \n",
       "std      9.499868    9.499868    9.499868    9.499868  ...    7.378433   \n",
       "min     16.300000   16.300000   16.300000   16.300000  ...   25.000000   \n",
       "25%     36.000000   36.000000   36.000000   36.000000  ...   33.500000   \n",
       "50%     40.000000   40.000000   40.000000   40.000000  ...   39.100000   \n",
       "75%     46.650000   46.650000   46.650000   46.650000  ...   42.750000   \n",
       "max     74.200000   74.200000   74.200000   74.200000  ...   63.000000   \n",
       "\n",
       "             2032        2033        2034        2035        2036        2037  \\\n",
       "count  195.000000  195.000000  195.000000  195.000000  195.000000  195.000000   \n",
       "mean    38.850769   38.850769   38.850769   38.850769   38.850769   38.850769   \n",
       "std      7.378433    7.378433    7.378433    7.378433    7.378433    7.378433   \n",
       "min     25.000000   25.000000   25.000000   25.000000   25.000000   25.000000   \n",
       "25%     33.500000   33.500000   33.500000   33.500000   33.500000   33.500000   \n",
       "50%     39.100000   39.100000   39.100000   39.100000   39.100000   39.100000   \n",
       "75%     42.750000   42.750000   42.750000   42.750000   42.750000   42.750000   \n",
       "max     63.000000   63.000000   63.000000   63.000000   63.000000   63.000000   \n",
       "\n",
       "             2038        2039        2040  \n",
       "count  195.000000  195.000000  195.000000  \n",
       "mean    38.850769   38.850769   38.850769  \n",
       "std      7.378433    7.378433    7.378433  \n",
       "min     25.000000   25.000000   25.000000  \n",
       "25%     33.500000   33.500000   33.500000  \n",
       "50%     39.100000   39.100000   39.100000  \n",
       "75%     42.750000   42.750000   42.750000  \n",
       "max     63.000000   63.000000   63.000000  \n",
       "\n",
       "[8 rows x 241 columns]"
      ],
      "text/html": "<div>\n<style scoped>\n    .dataframe tbody tr th:only-of-type {\n        vertical-align: middle;\n    }\n\n    .dataframe tbody tr th {\n        vertical-align: top;\n    }\n\n    .dataframe thead th {\n        text-align: right;\n    }\n</style>\n<table border=\"1\" class=\"dataframe\">\n  <thead>\n    <tr style=\"text-align: right;\">\n      <th></th>\n      <th>1800</th>\n      <th>1801</th>\n      <th>1802</th>\n      <th>1803</th>\n      <th>1804</th>\n      <th>1805</th>\n      <th>1806</th>\n      <th>1807</th>\n      <th>1808</th>\n      <th>1809</th>\n      <th>...</th>\n      <th>2031</th>\n      <th>2032</th>\n      <th>2033</th>\n      <th>2034</th>\n      <th>2035</th>\n      <th>2036</th>\n      <th>2037</th>\n      <th>2038</th>\n      <th>2039</th>\n      <th>2040</th>\n    </tr>\n  </thead>\n  <tbody>\n    <tr>\n      <td>count</td>\n      <td>195.000000</td>\n      <td>195.000000</td>\n      <td>195.000000</td>\n      <td>195.000000</td>\n      <td>195.000000</td>\n      <td>195.000000</td>\n      <td>195.000000</td>\n      <td>195.000000</td>\n      <td>195.000000</td>\n      <td>195.000000</td>\n      <td>...</td>\n      <td>195.000000</td>\n      <td>195.000000</td>\n      <td>195.000000</td>\n      <td>195.000000</td>\n      <td>195.000000</td>\n      <td>195.000000</td>\n      <td>195.000000</td>\n      <td>195.000000</td>\n      <td>195.000000</td>\n      <td>195.000000</td>\n    </tr>\n    <tr>\n      <td>mean</td>\n      <td>41.411282</td>\n      <td>41.411282</td>\n      <td>41.411282</td>\n      <td>41.411282</td>\n      <td>41.411282</td>\n      <td>41.411282</td>\n      <td>41.411282</td>\n      <td>41.411282</td>\n      <td>41.411282</td>\n      <td>41.411282</td>\n      <td>...</td>\n      <td>38.850769</td>\n      <td>38.850769</td>\n      <td>38.850769</td>\n      <td>38.850769</td>\n      <td>38.850769</td>\n      <td>38.850769</td>\n      <td>38.850769</td>\n      <td>38.850769</td>\n      <td>38.850769</td>\n      <td>38.850769</td>\n    </tr>\n    <tr>\n      <td>std</td>\n      <td>9.499868</td>\n      <td>9.499868</td>\n      <td>9.499868</td>\n      <td>9.499868</td>\n      <td>9.499868</td>\n      <td>9.499868</td>\n      <td>9.499868</td>\n      <td>9.499868</td>\n      <td>9.499868</td>\n      <td>9.499868</td>\n      <td>...</td>\n      <td>7.378433</td>\n      <td>7.378433</td>\n      <td>7.378433</td>\n      <td>7.378433</td>\n      <td>7.378433</td>\n      <td>7.378433</td>\n      <td>7.378433</td>\n      <td>7.378433</td>\n      <td>7.378433</td>\n      <td>7.378433</td>\n    </tr>\n    <tr>\n      <td>min</td>\n      <td>16.300000</td>\n      <td>16.300000</td>\n      <td>16.300000</td>\n      <td>16.300000</td>\n      <td>16.300000</td>\n      <td>16.300000</td>\n      <td>16.300000</td>\n      <td>16.300000</td>\n      <td>16.300000</td>\n      <td>16.300000</td>\n      <td>...</td>\n      <td>25.000000</td>\n      <td>25.000000</td>\n      <td>25.000000</td>\n      <td>25.000000</td>\n      <td>25.000000</td>\n      <td>25.000000</td>\n      <td>25.000000</td>\n      <td>25.000000</td>\n      <td>25.000000</td>\n      <td>25.000000</td>\n    </tr>\n    <tr>\n      <td>25%</td>\n      <td>36.000000</td>\n      <td>36.000000</td>\n      <td>36.000000</td>\n      <td>36.000000</td>\n      <td>36.000000</td>\n      <td>36.000000</td>\n      <td>36.000000</td>\n      <td>36.000000</td>\n      <td>36.000000</td>\n      <td>36.000000</td>\n      <td>...</td>\n      <td>33.500000</td>\n      <td>33.500000</td>\n      <td>33.500000</td>\n      <td>33.500000</td>\n      <td>33.500000</td>\n      <td>33.500000</td>\n      <td>33.500000</td>\n      <td>33.500000</td>\n      <td>33.500000</td>\n      <td>33.500000</td>\n    </tr>\n    <tr>\n      <td>50%</td>\n      <td>40.000000</td>\n      <td>40.000000</td>\n      <td>40.000000</td>\n      <td>40.000000</td>\n      <td>40.000000</td>\n      <td>40.000000</td>\n      <td>40.000000</td>\n      <td>40.000000</td>\n      <td>40.000000</td>\n      <td>40.000000</td>\n      <td>...</td>\n      <td>39.100000</td>\n      <td>39.100000</td>\n      <td>39.100000</td>\n      <td>39.100000</td>\n      <td>39.100000</td>\n      <td>39.100000</td>\n      <td>39.100000</td>\n      <td>39.100000</td>\n      <td>39.100000</td>\n      <td>39.100000</td>\n    </tr>\n    <tr>\n      <td>75%</td>\n      <td>46.650000</td>\n      <td>46.650000</td>\n      <td>46.650000</td>\n      <td>46.650000</td>\n      <td>46.650000</td>\n      <td>46.650000</td>\n      <td>46.650000</td>\n      <td>46.650000</td>\n      <td>46.650000</td>\n      <td>46.650000</td>\n      <td>...</td>\n      <td>42.750000</td>\n      <td>42.750000</td>\n      <td>42.750000</td>\n      <td>42.750000</td>\n      <td>42.750000</td>\n      <td>42.750000</td>\n      <td>42.750000</td>\n      <td>42.750000</td>\n      <td>42.750000</td>\n      <td>42.750000</td>\n    </tr>\n    <tr>\n      <td>max</td>\n      <td>74.200000</td>\n      <td>74.200000</td>\n      <td>74.200000</td>\n      <td>74.200000</td>\n      <td>74.200000</td>\n      <td>74.200000</td>\n      <td>74.200000</td>\n      <td>74.200000</td>\n      <td>74.200000</td>\n      <td>74.200000</td>\n      <td>...</td>\n      <td>63.000000</td>\n      <td>63.000000</td>\n      <td>63.000000</td>\n      <td>63.000000</td>\n      <td>63.000000</td>\n      <td>63.000000</td>\n      <td>63.000000</td>\n      <td>63.000000</td>\n      <td>63.000000</td>\n      <td>63.000000</td>\n    </tr>\n  </tbody>\n</table>\n<p>8 rows × 241 columns</p>\n</div>"
     },
     "metadata": {},
     "execution_count": 708
    }
   ],
   "source": [
    "gini = pd.read_csv(\"assets/gini.csv\") \n",
    "# gini = pd.read_csv(\"assets/si_pov_gini.csv\") \n",
    "# gini.head()\n",
    "gini.describe()"
   ]
  },
  {
   "cell_type": "code",
   "execution_count": 709,
   "metadata": {},
   "outputs": [
    {
     "output_type": "execute_result",
     "data": {
      "text/plain": [
       "   1800  1801  1802  1803  1804  1805  1806  1807  1808  1809  ...  2031  \\\n",
       "6  47.7  47.7  47.7  47.7  47.7  47.7  47.7  47.7  47.7  47.7  ...  42.4   \n",
       "\n",
       "   2032  2033  2034  2035  2036  2037  2038  2039  2040  \n",
       "6  42.4  42.4  42.4  42.4  42.4  42.4  42.4  42.4  42.4  \n",
       "\n",
       "[1 rows x 241 columns]"
      ],
      "text/html": "<div>\n<style scoped>\n    .dataframe tbody tr th:only-of-type {\n        vertical-align: middle;\n    }\n\n    .dataframe tbody tr th {\n        vertical-align: top;\n    }\n\n    .dataframe thead th {\n        text-align: right;\n    }\n</style>\n<table border=\"1\" class=\"dataframe\">\n  <thead>\n    <tr style=\"text-align: right;\">\n      <th></th>\n      <th>1800</th>\n      <th>1801</th>\n      <th>1802</th>\n      <th>1803</th>\n      <th>1804</th>\n      <th>1805</th>\n      <th>1806</th>\n      <th>1807</th>\n      <th>1808</th>\n      <th>1809</th>\n      <th>...</th>\n      <th>2031</th>\n      <th>2032</th>\n      <th>2033</th>\n      <th>2034</th>\n      <th>2035</th>\n      <th>2036</th>\n      <th>2037</th>\n      <th>2038</th>\n      <th>2039</th>\n      <th>2040</th>\n    </tr>\n  </thead>\n  <tbody>\n    <tr>\n      <td>6</td>\n      <td>47.7</td>\n      <td>47.7</td>\n      <td>47.7</td>\n      <td>47.7</td>\n      <td>47.7</td>\n      <td>47.7</td>\n      <td>47.7</td>\n      <td>47.7</td>\n      <td>47.7</td>\n      <td>47.7</td>\n      <td>...</td>\n      <td>42.4</td>\n      <td>42.4</td>\n      <td>42.4</td>\n      <td>42.4</td>\n      <td>42.4</td>\n      <td>42.4</td>\n      <td>42.4</td>\n      <td>42.4</td>\n      <td>42.4</td>\n      <td>42.4</td>\n    </tr>\n  </tbody>\n</table>\n<p>1 rows × 241 columns</p>\n</div>"
     },
     "metadata": {},
     "execution_count": 709
    }
   ],
   "source": [
    "gini_arg = gini.loc[(gini.country == \"Argentina\")].copy()\n",
    "\n",
    "gini_arg.drop('country', 1, inplace=True)\n",
    "gini_arg.tail(5)"
   ]
  },
  {
   "cell_type": "code",
   "execution_count": 710,
   "metadata": {},
   "outputs": [
    {
     "output_type": "execute_result",
     "data": {
      "text/plain": [
       "   1800  1801  1802  1803  1804  1805  1806  1807  1808  1809  ...   2031  \\\n",
       "6  1640  1640  1650  1650  1660  1660  1670  1680  1680  1690  ...  20800   \n",
       "\n",
       "    2032   2033   2034   2035   2036   2037   2038   2039   2040  \n",
       "6  21300  21700  22100  22600  23100  23500  24000  24500  25000  \n",
       "\n",
       "[1 rows x 241 columns]"
      ],
      "text/html": "<div>\n<style scoped>\n    .dataframe tbody tr th:only-of-type {\n        vertical-align: middle;\n    }\n\n    .dataframe tbody tr th {\n        vertical-align: top;\n    }\n\n    .dataframe thead th {\n        text-align: right;\n    }\n</style>\n<table border=\"1\" class=\"dataframe\">\n  <thead>\n    <tr style=\"text-align: right;\">\n      <th></th>\n      <th>1800</th>\n      <th>1801</th>\n      <th>1802</th>\n      <th>1803</th>\n      <th>1804</th>\n      <th>1805</th>\n      <th>1806</th>\n      <th>1807</th>\n      <th>1808</th>\n      <th>1809</th>\n      <th>...</th>\n      <th>2031</th>\n      <th>2032</th>\n      <th>2033</th>\n      <th>2034</th>\n      <th>2035</th>\n      <th>2036</th>\n      <th>2037</th>\n      <th>2038</th>\n      <th>2039</th>\n      <th>2040</th>\n    </tr>\n  </thead>\n  <tbody>\n    <tr>\n      <td>6</td>\n      <td>1640</td>\n      <td>1640</td>\n      <td>1650</td>\n      <td>1650</td>\n      <td>1660</td>\n      <td>1660</td>\n      <td>1670</td>\n      <td>1680</td>\n      <td>1680</td>\n      <td>1690</td>\n      <td>...</td>\n      <td>20800</td>\n      <td>21300</td>\n      <td>21700</td>\n      <td>22100</td>\n      <td>22600</td>\n      <td>23100</td>\n      <td>23500</td>\n      <td>24000</td>\n      <td>24500</td>\n      <td>25000</td>\n    </tr>\n  </tbody>\n</table>\n<p>1 rows × 241 columns</p>\n</div>"
     },
     "metadata": {},
     "execution_count": 710
    }
   ],
   "source": [
    "gdp = pd.read_csv(\"assets/income_per_person_gdppercapita_ppp_inflation_adjusted.csv\")\n",
    "# gdp = pd.read_csv(\"assets/gdppercapita_us_inflation_adjusted.csv\")\n",
    "\n",
    "gdp_arg = gdp.loc[(gdp.country == \"Argentina\")].copy()\n",
    "\n",
    "gdp_arg.drop('country', 1, inplace=True)\n",
    "\n",
    "gdp_arg.head()"
   ]
  },
  {
   "cell_type": "code",
   "execution_count": 711,
   "metadata": {},
   "outputs": [
    {
     "output_type": "execute_result",
     "data": {
      "text/plain": [
       "   year   gdp\n",
       "0  1800  1640\n",
       "1  1801  1640\n",
       "2  1802  1650\n",
       "3  1803  1650\n",
       "4  1804  1660"
      ],
      "text/html": "<div>\n<style scoped>\n    .dataframe tbody tr th:only-of-type {\n        vertical-align: middle;\n    }\n\n    .dataframe tbody tr th {\n        vertical-align: top;\n    }\n\n    .dataframe thead th {\n        text-align: right;\n    }\n</style>\n<table border=\"1\" class=\"dataframe\">\n  <thead>\n    <tr style=\"text-align: right;\">\n      <th></th>\n      <th>year</th>\n      <th>gdp</th>\n    </tr>\n  </thead>\n  <tbody>\n    <tr>\n      <td>0</td>\n      <td>1800</td>\n      <td>1640</td>\n    </tr>\n    <tr>\n      <td>1</td>\n      <td>1801</td>\n      <td>1640</td>\n    </tr>\n    <tr>\n      <td>2</td>\n      <td>1802</td>\n      <td>1650</td>\n    </tr>\n    <tr>\n      <td>3</td>\n      <td>1803</td>\n      <td>1650</td>\n    </tr>\n    <tr>\n      <td>4</td>\n      <td>1804</td>\n      <td>1660</td>\n    </tr>\n  </tbody>\n</table>\n</div>"
     },
     "metadata": {},
     "execution_count": 711
    }
   ],
   "source": [
    "gdp_arg2 = pd.melt(gdp_arg, var_name=\"year\", value_name=\"gdp\")\n",
    "gdp_arg2.head()"
   ]
  },
  {
   "cell_type": "code",
   "execution_count": 712,
   "metadata": {},
   "outputs": [
    {
     "output_type": "execute_result",
     "data": {
      "text/plain": [
       "   gini\n",
       "0  47.7\n",
       "1  47.7\n",
       "2  47.7\n",
       "3  47.7\n",
       "4  47.7"
      ],
      "text/html": "<div>\n<style scoped>\n    .dataframe tbody tr th:only-of-type {\n        vertical-align: middle;\n    }\n\n    .dataframe tbody tr th {\n        vertical-align: top;\n    }\n\n    .dataframe thead th {\n        text-align: right;\n    }\n</style>\n<table border=\"1\" class=\"dataframe\">\n  <thead>\n    <tr style=\"text-align: right;\">\n      <th></th>\n      <th>gini</th>\n    </tr>\n  </thead>\n  <tbody>\n    <tr>\n      <td>0</td>\n      <td>47.7</td>\n    </tr>\n    <tr>\n      <td>1</td>\n      <td>47.7</td>\n    </tr>\n    <tr>\n      <td>2</td>\n      <td>47.7</td>\n    </tr>\n    <tr>\n      <td>3</td>\n      <td>47.7</td>\n    </tr>\n    <tr>\n      <td>4</td>\n      <td>47.7</td>\n    </tr>\n  </tbody>\n</table>\n</div>"
     },
     "metadata": {},
     "execution_count": 712
    }
   ],
   "source": [
    "gini_arg2 = pd.melt(gini_arg, var_name=\"year\", value_name=\"gini\")\n",
    "gini_arg2.drop('year', 1, inplace=True)\n",
    "gini_arg2.head()"
   ]
  },
  {
   "cell_type": "code",
   "execution_count": 713,
   "metadata": {},
   "outputs": [
    {
     "output_type": "execute_result",
     "data": {
      "text/plain": [
       "     year    gdp  gini\n",
       "236  2036  23100  42.4\n",
       "237  2037  23500  42.4\n",
       "238  2038  24000  42.4\n",
       "239  2039  24500  42.4\n",
       "240  2040  25000  42.4"
      ],
      "text/html": "<div>\n<style scoped>\n    .dataframe tbody tr th:only-of-type {\n        vertical-align: middle;\n    }\n\n    .dataframe tbody tr th {\n        vertical-align: top;\n    }\n\n    .dataframe thead th {\n        text-align: right;\n    }\n</style>\n<table border=\"1\" class=\"dataframe\">\n  <thead>\n    <tr style=\"text-align: right;\">\n      <th></th>\n      <th>year</th>\n      <th>gdp</th>\n      <th>gini</th>\n    </tr>\n  </thead>\n  <tbody>\n    <tr>\n      <td>236</td>\n      <td>2036</td>\n      <td>23100</td>\n      <td>42.4</td>\n    </tr>\n    <tr>\n      <td>237</td>\n      <td>2037</td>\n      <td>23500</td>\n      <td>42.4</td>\n    </tr>\n    <tr>\n      <td>238</td>\n      <td>2038</td>\n      <td>24000</td>\n      <td>42.4</td>\n    </tr>\n    <tr>\n      <td>239</td>\n      <td>2039</td>\n      <td>24500</td>\n      <td>42.4</td>\n    </tr>\n    <tr>\n      <td>240</td>\n      <td>2040</td>\n      <td>25000</td>\n      <td>42.4</td>\n    </tr>\n  </tbody>\n</table>\n</div>"
     },
     "metadata": {},
     "execution_count": 713
    }
   ],
   "source": [
    "arg = pd.concat([gdp_arg2, gini_arg2], axis=1)\n",
    "arg.tail()"
   ]
  },
  {
   "cell_type": "code",
   "execution_count": 714,
   "metadata": {},
   "outputs": [],
   "source": [
    "arg.year = pd.to_numeric(arg.year)"
   ]
  },
  {
   "cell_type": "code",
   "execution_count": 715,
   "metadata": {},
   "outputs": [],
   "source": [
    "arg = arg.loc[(arg.year > 1985) & (arg.year <= 2020)]"
   ]
  },
  {
   "cell_type": "code",
   "execution_count": 716,
   "metadata": {},
   "outputs": [
    {
     "output_type": "execute_result",
     "data": {
      "text/plain": [
       "              year           gdp       gini\n",
       "count    35.000000     35.000000  35.000000\n",
       "mean   2003.000000  15777.142857  45.877143\n",
       "std      10.246951   2640.308105   3.315745\n",
       "min    1986.000000  11400.000000  41.600000\n",
       "25%    1994.500000  13650.000000  42.400000\n",
       "50%    2003.000000  15600.000000  45.900000\n",
       "75%    2011.500000  18450.000000  48.350000\n",
       "max    2020.000000  19800.000000  51.700000"
      ],
      "text/html": "<div>\n<style scoped>\n    .dataframe tbody tr th:only-of-type {\n        vertical-align: middle;\n    }\n\n    .dataframe tbody tr th {\n        vertical-align: top;\n    }\n\n    .dataframe thead th {\n        text-align: right;\n    }\n</style>\n<table border=\"1\" class=\"dataframe\">\n  <thead>\n    <tr style=\"text-align: right;\">\n      <th></th>\n      <th>year</th>\n      <th>gdp</th>\n      <th>gini</th>\n    </tr>\n  </thead>\n  <tbody>\n    <tr>\n      <td>count</td>\n      <td>35.000000</td>\n      <td>35.000000</td>\n      <td>35.000000</td>\n    </tr>\n    <tr>\n      <td>mean</td>\n      <td>2003.000000</td>\n      <td>15777.142857</td>\n      <td>45.877143</td>\n    </tr>\n    <tr>\n      <td>std</td>\n      <td>10.246951</td>\n      <td>2640.308105</td>\n      <td>3.315745</td>\n    </tr>\n    <tr>\n      <td>min</td>\n      <td>1986.000000</td>\n      <td>11400.000000</td>\n      <td>41.600000</td>\n    </tr>\n    <tr>\n      <td>25%</td>\n      <td>1994.500000</td>\n      <td>13650.000000</td>\n      <td>42.400000</td>\n    </tr>\n    <tr>\n      <td>50%</td>\n      <td>2003.000000</td>\n      <td>15600.000000</td>\n      <td>45.900000</td>\n    </tr>\n    <tr>\n      <td>75%</td>\n      <td>2011.500000</td>\n      <td>18450.000000</td>\n      <td>48.350000</td>\n    </tr>\n    <tr>\n      <td>max</td>\n      <td>2020.000000</td>\n      <td>19800.000000</td>\n      <td>51.700000</td>\n    </tr>\n  </tbody>\n</table>\n</div>"
     },
     "metadata": {},
     "execution_count": 716
    }
   ],
   "source": [
    "arg.describe()"
   ]
  },
  {
   "cell_type": "code",
   "execution_count": 717,
   "metadata": {},
   "outputs": [],
   "source": [
    "arg = arg.reset_index(drop=True)\n",
    "# arg"
   ]
  },
  {
   "cell_type": "code",
   "execution_count": 718,
   "metadata": {},
   "outputs": [],
   "source": [
    "# Períodos presidenciales\n",
    "\n",
    "presidentials = {\n",
    "    \"Alfonsín\": { \"from\": 1986, \"to\": 1989.5, \"end_gdp\": 11450, \"end_gini\": 46.1, \"annotation_x\": 12300, \"annotation_y\": 44.3},\n",
    "    \"Menem (1)\": { \"from\": 1989.5, \"to\": 1993.92, \"end_gdp\": 14400, \"end_gini\": 46.75, \"annotation_x\": 13000, \"annotation_y\": 46.6},\n",
    "    \"Menem (2)\": { \"from\": 1993.92, \"to\": 1998.92, \"end_gdp\": 15390, \"end_gini\": 50.67, \"annotation_x\": 13500, \"annotation_y\": 48.2},\n",
    "    \"De la Rúa\": {  \"from\": 1998.92, \"to\": 2002.22, \"end_gdp\": 12600, \"end_gini\": 51.3, \"annotation_x\": 15900, \"annotation_y\": 51.3},\n",
    "    \"Duhalde\": { \"from\": 2002.22, \"to\": 2003.5, \"end_gdp\": 13900, \"end_gini\": 50.2, \"annotation_x\": 13100, \"annotation_y\": 50.2},\n",
    "    \"Kirchner\": { \"from\": 2003.5, \"to\": 2007.92, \"end_gdp\": 18500, \"end_gini\": 45.2, \"annotation_x\": 16500, \"annotation_y\": 47.5},\n",
    "    \"Fernández C. (1)\": { \"from\": 2007.92, \"to\": 2011.92, \"end_gdp\": 19500, \"end_gini\": 41.9, \"annotation_x\": 18500, \"annotation_y\": 43.8},\n",
    "    \"Fernández C. (2)\": { \"from\": 2011.92, \"to\": 2015.92, \"end_gdp\": 18700, \"end_gini\": 42, \"annotation_x\": 19150, \"annotation_y\": 40.9},\n",
    "    \"Macri\": { \"from\": 2015.92, \"annotation_x\": 17800, \"annotation_y\": 41.7},\n",
    "}\n",
    "\n",
    "# presidentials"
   ]
  },
  {
   "cell_type": "code",
   "execution_count": 719,
   "metadata": {},
   "outputs": [],
   "source": [
    "# https://www.geeksforgeeks.org/insert-row-at-given-position-in-pandas-dataframe/\n",
    "# Function to insert row in the dataframe \n",
    "def insert_row(row_number, df, row_value): \n",
    "\t# Starting value of upper half \n",
    "\tstart_upper = 0\n",
    "\n",
    "\t# End value of upper half \n",
    "\tend_upper = row_number \n",
    "\n",
    "\t# Start value of lower half \n",
    "\tstart_lower = row_number \n",
    "\n",
    "\t# End value of lower half \n",
    "\tend_lower = df.shape[0] \n",
    "\n",
    "\t# Create a list of upper_half index \n",
    "\tupper_half = [*range(start_upper, end_upper, 1)] \n",
    "\n",
    "\t# Create a list of lower_half index \n",
    "\tlower_half = [*range(start_lower, end_lower, 1)] \n",
    "\n",
    "\t# Increment the value of lower half by 1 \n",
    "\tlower_half = [x.__add__(1) for x in lower_half] \n",
    "\n",
    "\t# Combine the two lists \n",
    "\tindex_ = upper_half + lower_half \n",
    "\n",
    "\t# Update the index of the dataframe \n",
    "\tdf.index = index_ \n",
    "\n",
    "\t# Insert a row at the end \n",
    "\tdf.loc[row_number] = row_value \n",
    "\t\n",
    "\t# Sort the index labels \n",
    "\tdf = df.sort_index() \n",
    "\n",
    "\t# return the dataframe \n",
    "\treturn df \n",
    "\n",
    "# Let's create a row which we want to insert \n",
    "# row_number = 2\n",
    "# row_value = ['11/2/2011', 'Wrestling', 12000] \n",
    "\n",
    "# if row_number > df.index.max()+1: \n",
    "# \tprint(\"Invalid row_number\") \n",
    "# else: \n",
    "\t\n",
    "\t## Let's call the function and insert the row \n",
    "\t## at the second position \n",
    "\t#df = Insert_row(row_number, df, row_value) \n",
    "\n",
    "\t# Print the updated dataframe \n",
    "\t#print(df) \n"
   ]
  },
  {
   "cell_type": "code",
   "execution_count": 720,
   "metadata": {},
   "outputs": [],
   "source": [
    "# df = arg.copy()\n",
    "# row_num = df.index[df[\"year\"] == 1989][0] + 1\n",
    "# row_val = df.loc[df[\"year\"] == 1989].copy()\n",
    "# row_val.year = 1989.92\n",
    "# row_val = row_val.values[0]\n",
    "\n",
    "# df = insert_row(row_num, df, row_val) \n",
    "\n",
    "# df\n"
   ]
  },
  {
   "cell_type": "code",
   "execution_count": 721,
   "metadata": {},
   "outputs": [],
   "source": [
    "import math\n",
    "\n",
    "\n",
    "df = arg.copy()\n",
    "\n",
    "df[\"president\"] = list(presidentials.keys())[0]\n",
    "\n",
    "for presi in presidentials:\n",
    "    if \"to\" in presidentials[presi].keys():\n",
    "        \n",
    "        floor_to = math.floor(presidentials[presi][\"to\"])\n",
    "        # print(presi, floor_to)\n",
    "        row_num = df.index[df[\"year\"] == floor_to][0] + 1\n",
    "        row_val = df.loc[df[\"year\"] == floor_to].copy()\n",
    "        row_val.year = presidentials[presi][\"to\"]\n",
    "        row_val.gdp = presidentials[presi][\"end_gdp\"]\n",
    "        row_val.gini = presidentials[presi][\"end_gini\"]\n",
    "\n",
    "        # row_val = row_val.values[0]\n",
    "\n",
    "        df = insert_row(row_num, df, row_val.values[0]) \n",
    "\n",
    "    df.loc[df.year > presidentials[presi][\"from\"], \"president\"] = presi\n",
    "\n",
    "# df\n"
   ]
  },
  {
   "cell_type": "code",
   "execution_count": 722,
   "metadata": {},
   "outputs": [
    {
     "output_type": "display_data",
     "data": {
      "application/vnd.plotly.v1+json": {
       "config": {
        "displayModeBar": false,
        "plotlyServerURL": "https://plot.ly",
        "showTips": false
       },
       "data": [
        {
         "hoverinfo": [
          "text"
         ],
         "line": {
          "color": "rgb(165, 170, 153)",
          "shape": "spline",
          "width": 5
         },
         "mode": "lines",
         "showlegend": false,
         "textfont": {
          "color": "black",
          "family": "Helvetica, Verdana",
          "size": 11
         },
         "type": "scatter",
         "x": [
          12800,
          12900,
          12500,
          11500,
          11450
         ],
         "y": [
          43.7,
          44.5,
          45.3,
          46.1,
          46.1
         ]
        },
        {
         "hoverinfo": [
          "text"
         ],
         "line": {
          "color": "rgb(237, 100, 90)",
          "shape": "spline",
          "width": 5
         },
         "mode": "lines",
         "showlegend": false,
         "textfont": {
          "color": "black",
          "family": "Helvetica, Verdana",
          "size": 11
         },
         "type": "scatter",
         "x": [
          11450,
          11400,
          12200,
          13000,
          13900,
          14400
         ],
         "y": [
          46.1,
          46.1,
          45.9,
          45.9,
          46.4,
          46.75
         ]
        },
        {
         "hoverinfo": [
          "text"
         ],
         "line": {
          "color": "rgb(118, 78, 159)",
          "shape": "spline",
          "width": 5
         },
         "mode": "lines",
         "showlegend": false,
         "textfont": {
          "color": "black",
          "family": "Helvetica, Verdana",
          "size": 11
         },
         "type": "scatter",
         "x": [
          14400,
          14500,
          14000,
          14600,
          15600,
          16000,
          15390
         ],
         "y": [
          46.75,
          46.9,
          47.7,
          48.8,
          49.6,
          50,
          50.67
         ]
        },
        {
         "hoverinfo": [
          "text"
         ],
         "line": {
          "color": "rgb(47, 138, 196)",
          "shape": "spline",
          "width": 5
         },
         "mode": "lines",
         "showlegend": false,
         "textfont": {
          "color": "black",
          "family": "Helvetica, Verdana",
          "size": 11
         },
         "type": "scatter",
         "x": [
          15390,
          15300,
          15000,
          14200,
          12500,
          12600
         ],
         "y": [
          50.67,
          50.8,
          51.7,
          51.7,
          51.4,
          51.3
         ]
        },
        {
         "hoverinfo": [
          "text"
         ],
         "line": {
          "color": "rgb(218, 165, 27)",
          "shape": "spline",
          "width": 5
         },
         "mode": "lines",
         "showlegend": false,
         "textfont": {
          "color": "black",
          "family": "Helvetica, Verdana",
          "size": 11
         },
         "type": "scatter",
         "x": [
          12600,
          13400,
          13900
         ],
         "y": [
          51.3,
          50.8,
          50.2
         ]
        },
        {
         "hoverinfo": [
          "text"
         ],
         "line": {
          "color": "rgb(36, 121, 108)",
          "shape": "spline",
          "width": 5
         },
         "mode": "lines",
         "showlegend": false,
         "textfont": {
          "color": "black",
          "family": "Helvetica, Verdana",
          "size": 11
         },
         "type": "scatter",
         "x": [
          13900,
          14500,
          15600,
          16700,
          18000,
          18500
         ],
         "y": [
          50.2,
          49.4,
          47.9,
          46.7,
          45.8,
          45.2
         ]
        },
        {
         "hoverinfo": [
          "text"
         ],
         "line": {
          "color": "rgb(204, 97, 176)",
          "shape": "spline",
          "width": 5
         },
         "mode": "lines",
         "showlegend": false,
         "textfont": {
          "color": "black",
          "family": "Helvetica, Verdana",
          "size": 11
         },
         "type": "scatter",
         "x": [
          18500,
          18600,
          17300,
          18900,
          19800,
          19500
         ],
         "y": [
          45.2,
          44.9,
          44,
          43,
          42.3,
          41.9
         ]
        },
        {
         "hoverinfo": [
          "text"
         ],
         "line": {
          "color": "rgb(153, 201, 69)",
          "shape": "spline",
          "width": 5
         },
         "mode": "lines",
         "showlegend": false,
         "textfont": {
          "color": "black",
          "family": "Helvetica, Verdana",
          "size": 11
         },
         "type": "scatter",
         "x": [
          19500,
          19400,
          19600,
          18900,
          19200,
          18700
         ],
         "y": [
          41.9,
          41.8,
          41.6,
          41.6,
          41.8,
          42
         ]
        },
        {
         "hoverinfo": [
          "text"
         ],
         "line": {
          "color": "rgb(82, 188, 163)",
          "shape": "spline",
          "width": 5
         },
         "mode": "lines",
         "showlegend": false,
         "textfont": {
          "color": "black",
          "family": "Helvetica, Verdana",
          "size": 11
         },
         "type": "scatter",
         "x": [
          18700,
          18600,
          18900,
          18300,
          17500,
          17100
         ],
         "y": [
          42,
          42.1,
          42.3,
          42.4,
          42.4,
          42.4
         ]
        },
        {
         "hoverinfo": [
          "text"
         ],
         "hovertemplate": "Año: <b>%{text}</b><br>PBI PPP: <b>$%{x:.0f}</b><br>Gini: <b>%{y:.2f}</b><br>",
         "line": {
          "shape": "spline"
         },
         "marker": {
          "color": "white",
          "line": {
           "color": "black",
           "width": 2
          },
          "size": 6
         },
         "mode": "markers+text",
         "showlegend": false,
         "text": [
          1986,
          1987,
          1988,
          1989,
          1990,
          1991,
          1992,
          1993,
          1994,
          1995,
          1996,
          1997,
          1998,
          1999,
          2000,
          2001,
          2002,
          2003,
          2004,
          2005,
          2006,
          2007,
          2008,
          2009,
          2010,
          2011,
          2012,
          2013,
          2014,
          2015,
          2016,
          2017,
          2018,
          2019,
          2020
         ],
         "textfont": {
          "color": "black",
          "family": "Helvetica, Verdana",
          "size": 11
         },
         "textposition": [
          "bottom left",
          "top right",
          "top right",
          "top right",
          "top left",
          "top center",
          "top left",
          "top left",
          "top right",
          "top left",
          "top left",
          "top left",
          "top right",
          "top right",
          "top right",
          "top left",
          "top left",
          "top right",
          "top right",
          "top right",
          "top right",
          "top right",
          "top right",
          "top left",
          "top right",
          "top right",
          "middle right",
          "bottom right",
          "bottom left",
          "top center",
          "bottom left",
          "top right",
          "top left",
          "top left",
          "top left"
         ],
         "texttemplate": "<b>%{text}</b>",
         "type": "scatter",
         "x": [
          12800,
          12900,
          12500,
          11500,
          11400,
          12200,
          13000,
          13900,
          14500,
          14000,
          14600,
          15600,
          16000,
          15300,
          15000,
          14200,
          12500,
          13400,
          14500,
          15600,
          16700,
          18000,
          18600,
          17300,
          18900,
          19800,
          19400,
          19600,
          18900,
          19200,
          18600,
          18900,
          18300,
          17500,
          17100
         ],
         "y": [
          43.7,
          44.5,
          45.3,
          46.1,
          46.1,
          45.9,
          45.9,
          46.4,
          46.9,
          47.7,
          48.8,
          49.6,
          50,
          50.8,
          51.7,
          51.7,
          51.4,
          50.8,
          49.4,
          47.9,
          46.7,
          45.8,
          44.9,
          44,
          43,
          42.3,
          41.8,
          41.6,
          41.6,
          41.8,
          42.1,
          42.3,
          42.4,
          42.4,
          42.4
         ]
        }
       ],
       "layout": {
        "annotations": [
         {
          "font": {
           "color": "rgb(165, 170, 153)",
           "family": "Helvetica, Verdana",
           "size": 12
          },
          "showarrow": false,
          "text": "<b>Alfonsín</b>",
          "x": 12300,
          "xref": "x",
          "y": 44.3,
          "yref": "y",
          "yshift": 10
         },
         {
          "font": {
           "color": "rgb(237, 100, 90)",
           "family": "Helvetica, Verdana",
           "size": 12
          },
          "showarrow": false,
          "text": "<b>Menem (1)</b>",
          "x": 13000,
          "xref": "x",
          "y": 46.6,
          "yref": "y",
          "yshift": 10
         },
         {
          "font": {
           "color": "rgb(118, 78, 159)",
           "family": "Helvetica, Verdana",
           "size": 12
          },
          "showarrow": false,
          "text": "<b>Menem (2)</b>",
          "x": 13500,
          "xref": "x",
          "y": 48.2,
          "yref": "y",
          "yshift": 10
         },
         {
          "font": {
           "color": "rgb(47, 138, 196)",
           "family": "Helvetica, Verdana",
           "size": 12
          },
          "showarrow": false,
          "text": "<b>De la Rúa</b>",
          "x": 15900,
          "xref": "x",
          "y": 51.3,
          "yref": "y",
          "yshift": 10
         },
         {
          "font": {
           "color": "rgb(218, 165, 27)",
           "family": "Helvetica, Verdana",
           "size": 12
          },
          "showarrow": false,
          "text": "<b>Duhalde</b>",
          "x": 13100,
          "xref": "x",
          "y": 50.2,
          "yref": "y",
          "yshift": 10
         },
         {
          "font": {
           "color": "rgb(36, 121, 108)",
           "family": "Helvetica, Verdana",
           "size": 12
          },
          "showarrow": false,
          "text": "<b>Kirchner</b>",
          "x": 16500,
          "xref": "x",
          "y": 47.5,
          "yref": "y",
          "yshift": 10
         },
         {
          "font": {
           "color": "rgb(204, 97, 176)",
           "family": "Helvetica, Verdana",
           "size": 12
          },
          "showarrow": false,
          "text": "<b>Fernández C. (1)</b>",
          "x": 18500,
          "xref": "x",
          "y": 43.8,
          "yref": "y",
          "yshift": 10
         },
         {
          "font": {
           "color": "rgb(153, 201, 69)",
           "family": "Helvetica, Verdana",
           "size": 12
          },
          "showarrow": false,
          "text": "<b>Fernández C. (2)</b>",
          "x": 19150,
          "xref": "x",
          "y": 40.9,
          "yref": "y",
          "yshift": 10
         },
         {
          "font": {
           "color": "rgb(82, 188, 163)",
           "family": "Helvetica, Verdana",
           "size": 12
          },
          "showarrow": false,
          "text": "<b>Macri</b>",
          "x": 17800,
          "xref": "x",
          "y": 41.7,
          "yref": "y",
          "yshift": 10
         },
         {
          "align": "right",
          "font": {
           "family": "Helvetica, Verdana",
           "size": 13
          },
          "showarrow": false,
          "text": "<b>Índice de desigualdad GINI</b><br>Valores más altos indican mayor desigualdad",
          "x": 0.96,
          "xref": "paper",
          "y": 0.935,
          "yref": "paper"
         },
         {
          "align": "center",
          "arrowcolor": "black",
          "arrowhead": 2,
          "arrowsize": 1,
          "arrowwidth": 2,
          "ax": 0,
          "ay": 61,
          "opacity": 1,
          "showarrow": true,
          "x": 0.97,
          "xref": "paper",
          "y": 0.96,
          "yref": "paper"
         },
         {
          "align": "center",
          "arrowcolor": "black",
          "arrowhead": 2,
          "arrowsize": 1,
          "arrowwidth": 2,
          "ax": 0,
          "ay": -61,
          "opacity": 1,
          "showarrow": true,
          "x": 0.97,
          "xref": "paper",
          "y": 0.85,
          "yref": "paper"
         },
         {
          "align": "center",
          "font": {
           "family": "Helvetica, Verdana",
           "size": 13
          },
          "showarrow": false,
          "text": "<b>Producto Bruto Interno per Capita</b><br>USD ajustados por inflación a valor constante 2011",
          "x": 0.352,
          "xref": "paper",
          "y": 0.016,
          "yref": "paper"
         },
         {
          "align": "center",
          "arrowcolor": "black",
          "arrowhead": 2,
          "arrowsize": 1,
          "arrowwidth": 2,
          "ax": -90,
          "ay": 0,
          "opacity": 1,
          "showarrow": true,
          "x": 0.45,
          "xref": "paper",
          "y": 0.09,
          "yref": "paper"
         },
         {
          "align": "center",
          "arrowcolor": "black",
          "arrowhead": 2,
          "arrowsize": 1,
          "arrowwidth": 2,
          "ax": 90,
          "ay": 0,
          "opacity": 1,
          "showarrow": true,
          "x": 0.25,
          "xref": "paper",
          "y": 0.09,
          "yref": "paper"
         }
        ],
        "font": {
         "family": "Helvetica, Verdana"
        },
        "height": 800,
        "hoverdistance": 100,
        "legend": {
         "itemclick": "toggleothers",
         "itemdoubleclick": "toggle"
        },
        "paper_bgcolor": "rgba(0,0,0,0)",
        "plot_bgcolor": "rgba(0,0,0,0)",
        "spikedistance": 1000,
        "template": {
         "data": {
          "bar": [
           {
            "error_x": {
             "color": "#2a3f5f"
            },
            "error_y": {
             "color": "#2a3f5f"
            },
            "marker": {
             "line": {
              "color": "#E5ECF6",
              "width": 0.5
             }
            },
            "type": "bar"
           }
          ],
          "barpolar": [
           {
            "marker": {
             "line": {
              "color": "#E5ECF6",
              "width": 0.5
             }
            },
            "type": "barpolar"
           }
          ],
          "carpet": [
           {
            "aaxis": {
             "endlinecolor": "#2a3f5f",
             "gridcolor": "white",
             "linecolor": "white",
             "minorgridcolor": "white",
             "startlinecolor": "#2a3f5f"
            },
            "baxis": {
             "endlinecolor": "#2a3f5f",
             "gridcolor": "white",
             "linecolor": "white",
             "minorgridcolor": "white",
             "startlinecolor": "#2a3f5f"
            },
            "type": "carpet"
           }
          ],
          "choropleth": [
           {
            "colorbar": {
             "outlinewidth": 0,
             "ticks": ""
            },
            "type": "choropleth"
           }
          ],
          "contour": [
           {
            "colorbar": {
             "outlinewidth": 0,
             "ticks": ""
            },
            "colorscale": [
             [
              0,
              "#0d0887"
             ],
             [
              0.1111111111111111,
              "#46039f"
             ],
             [
              0.2222222222222222,
              "#7201a8"
             ],
             [
              0.3333333333333333,
              "#9c179e"
             ],
             [
              0.4444444444444444,
              "#bd3786"
             ],
             [
              0.5555555555555556,
              "#d8576b"
             ],
             [
              0.6666666666666666,
              "#ed7953"
             ],
             [
              0.7777777777777778,
              "#fb9f3a"
             ],
             [
              0.8888888888888888,
              "#fdca26"
             ],
             [
              1,
              "#f0f921"
             ]
            ],
            "type": "contour"
           }
          ],
          "contourcarpet": [
           {
            "colorbar": {
             "outlinewidth": 0,
             "ticks": ""
            },
            "type": "contourcarpet"
           }
          ],
          "heatmap": [
           {
            "colorbar": {
             "outlinewidth": 0,
             "ticks": ""
            },
            "colorscale": [
             [
              0,
              "#0d0887"
             ],
             [
              0.1111111111111111,
              "#46039f"
             ],
             [
              0.2222222222222222,
              "#7201a8"
             ],
             [
              0.3333333333333333,
              "#9c179e"
             ],
             [
              0.4444444444444444,
              "#bd3786"
             ],
             [
              0.5555555555555556,
              "#d8576b"
             ],
             [
              0.6666666666666666,
              "#ed7953"
             ],
             [
              0.7777777777777778,
              "#fb9f3a"
             ],
             [
              0.8888888888888888,
              "#fdca26"
             ],
             [
              1,
              "#f0f921"
             ]
            ],
            "type": "heatmap"
           }
          ],
          "heatmapgl": [
           {
            "colorbar": {
             "outlinewidth": 0,
             "ticks": ""
            },
            "colorscale": [
             [
              0,
              "#0d0887"
             ],
             [
              0.1111111111111111,
              "#46039f"
             ],
             [
              0.2222222222222222,
              "#7201a8"
             ],
             [
              0.3333333333333333,
              "#9c179e"
             ],
             [
              0.4444444444444444,
              "#bd3786"
             ],
             [
              0.5555555555555556,
              "#d8576b"
             ],
             [
              0.6666666666666666,
              "#ed7953"
             ],
             [
              0.7777777777777778,
              "#fb9f3a"
             ],
             [
              0.8888888888888888,
              "#fdca26"
             ],
             [
              1,
              "#f0f921"
             ]
            ],
            "type": "heatmapgl"
           }
          ],
          "histogram": [
           {
            "marker": {
             "colorbar": {
              "outlinewidth": 0,
              "ticks": ""
             }
            },
            "type": "histogram"
           }
          ],
          "histogram2d": [
           {
            "colorbar": {
             "outlinewidth": 0,
             "ticks": ""
            },
            "colorscale": [
             [
              0,
              "#0d0887"
             ],
             [
              0.1111111111111111,
              "#46039f"
             ],
             [
              0.2222222222222222,
              "#7201a8"
             ],
             [
              0.3333333333333333,
              "#9c179e"
             ],
             [
              0.4444444444444444,
              "#bd3786"
             ],
             [
              0.5555555555555556,
              "#d8576b"
             ],
             [
              0.6666666666666666,
              "#ed7953"
             ],
             [
              0.7777777777777778,
              "#fb9f3a"
             ],
             [
              0.8888888888888888,
              "#fdca26"
             ],
             [
              1,
              "#f0f921"
             ]
            ],
            "type": "histogram2d"
           }
          ],
          "histogram2dcontour": [
           {
            "colorbar": {
             "outlinewidth": 0,
             "ticks": ""
            },
            "colorscale": [
             [
              0,
              "#0d0887"
             ],
             [
              0.1111111111111111,
              "#46039f"
             ],
             [
              0.2222222222222222,
              "#7201a8"
             ],
             [
              0.3333333333333333,
              "#9c179e"
             ],
             [
              0.4444444444444444,
              "#bd3786"
             ],
             [
              0.5555555555555556,
              "#d8576b"
             ],
             [
              0.6666666666666666,
              "#ed7953"
             ],
             [
              0.7777777777777778,
              "#fb9f3a"
             ],
             [
              0.8888888888888888,
              "#fdca26"
             ],
             [
              1,
              "#f0f921"
             ]
            ],
            "type": "histogram2dcontour"
           }
          ],
          "mesh3d": [
           {
            "colorbar": {
             "outlinewidth": 0,
             "ticks": ""
            },
            "type": "mesh3d"
           }
          ],
          "parcoords": [
           {
            "line": {
             "colorbar": {
              "outlinewidth": 0,
              "ticks": ""
             }
            },
            "type": "parcoords"
           }
          ],
          "scatter": [
           {
            "marker": {
             "colorbar": {
              "outlinewidth": 0,
              "ticks": ""
             }
            },
            "type": "scatter"
           }
          ],
          "scatter3d": [
           {
            "line": {
             "colorbar": {
              "outlinewidth": 0,
              "ticks": ""
             }
            },
            "marker": {
             "colorbar": {
              "outlinewidth": 0,
              "ticks": ""
             }
            },
            "type": "scatter3d"
           }
          ],
          "scattercarpet": [
           {
            "marker": {
             "colorbar": {
              "outlinewidth": 0,
              "ticks": ""
             }
            },
            "type": "scattercarpet"
           }
          ],
          "scattergeo": [
           {
            "marker": {
             "colorbar": {
              "outlinewidth": 0,
              "ticks": ""
             }
            },
            "type": "scattergeo"
           }
          ],
          "scattergl": [
           {
            "marker": {
             "colorbar": {
              "outlinewidth": 0,
              "ticks": ""
             }
            },
            "type": "scattergl"
           }
          ],
          "scattermapbox": [
           {
            "marker": {
             "colorbar": {
              "outlinewidth": 0,
              "ticks": ""
             }
            },
            "type": "scattermapbox"
           }
          ],
          "scatterpolar": [
           {
            "marker": {
             "colorbar": {
              "outlinewidth": 0,
              "ticks": ""
             }
            },
            "type": "scatterpolar"
           }
          ],
          "scatterpolargl": [
           {
            "marker": {
             "colorbar": {
              "outlinewidth": 0,
              "ticks": ""
             }
            },
            "type": "scatterpolargl"
           }
          ],
          "scatterternary": [
           {
            "marker": {
             "colorbar": {
              "outlinewidth": 0,
              "ticks": ""
             }
            },
            "type": "scatterternary"
           }
          ],
          "surface": [
           {
            "colorbar": {
             "outlinewidth": 0,
             "ticks": ""
            },
            "colorscale": [
             [
              0,
              "#0d0887"
             ],
             [
              0.1111111111111111,
              "#46039f"
             ],
             [
              0.2222222222222222,
              "#7201a8"
             ],
             [
              0.3333333333333333,
              "#9c179e"
             ],
             [
              0.4444444444444444,
              "#bd3786"
             ],
             [
              0.5555555555555556,
              "#d8576b"
             ],
             [
              0.6666666666666666,
              "#ed7953"
             ],
             [
              0.7777777777777778,
              "#fb9f3a"
             ],
             [
              0.8888888888888888,
              "#fdca26"
             ],
             [
              1,
              "#f0f921"
             ]
            ],
            "type": "surface"
           }
          ],
          "table": [
           {
            "cells": {
             "fill": {
              "color": "#EBF0F8"
             },
             "line": {
              "color": "white"
             }
            },
            "header": {
             "fill": {
              "color": "#C8D4E3"
             },
             "line": {
              "color": "white"
             }
            },
            "type": "table"
           }
          ]
         },
         "layout": {
          "annotationdefaults": {
           "arrowcolor": "#2a3f5f",
           "arrowhead": 0,
           "arrowwidth": 1
          },
          "colorscale": {
           "diverging": [
            [
             0,
             "#8e0152"
            ],
            [
             0.1,
             "#c51b7d"
            ],
            [
             0.2,
             "#de77ae"
            ],
            [
             0.3,
             "#f1b6da"
            ],
            [
             0.4,
             "#fde0ef"
            ],
            [
             0.5,
             "#f7f7f7"
            ],
            [
             0.6,
             "#e6f5d0"
            ],
            [
             0.7,
             "#b8e186"
            ],
            [
             0.8,
             "#7fbc41"
            ],
            [
             0.9,
             "#4d9221"
            ],
            [
             1,
             "#276419"
            ]
           ],
           "sequential": [
            [
             0,
             "#0d0887"
            ],
            [
             0.1111111111111111,
             "#46039f"
            ],
            [
             0.2222222222222222,
             "#7201a8"
            ],
            [
             0.3333333333333333,
             "#9c179e"
            ],
            [
             0.4444444444444444,
             "#bd3786"
            ],
            [
             0.5555555555555556,
             "#d8576b"
            ],
            [
             0.6666666666666666,
             "#ed7953"
            ],
            [
             0.7777777777777778,
             "#fb9f3a"
            ],
            [
             0.8888888888888888,
             "#fdca26"
            ],
            [
             1,
             "#f0f921"
            ]
           ],
           "sequentialminus": [
            [
             0,
             "#0d0887"
            ],
            [
             0.1111111111111111,
             "#46039f"
            ],
            [
             0.2222222222222222,
             "#7201a8"
            ],
            [
             0.3333333333333333,
             "#9c179e"
            ],
            [
             0.4444444444444444,
             "#bd3786"
            ],
            [
             0.5555555555555556,
             "#d8576b"
            ],
            [
             0.6666666666666666,
             "#ed7953"
            ],
            [
             0.7777777777777778,
             "#fb9f3a"
            ],
            [
             0.8888888888888888,
             "#fdca26"
            ],
            [
             1,
             "#f0f921"
            ]
           ]
          },
          "colorway": [
           "#636efa",
           "#EF553B",
           "#00cc96",
           "#ab63fa",
           "#FFA15A",
           "#19d3f3",
           "#FF6692",
           "#B6E880",
           "#FF97FF",
           "#FECB52"
          ],
          "font": {
           "color": "#2a3f5f"
          },
          "geo": {
           "bgcolor": "white",
           "lakecolor": "white",
           "landcolor": "#E5ECF6",
           "showlakes": true,
           "showland": true,
           "subunitcolor": "white"
          },
          "hoverlabel": {
           "align": "left"
          },
          "hovermode": "closest",
          "mapbox": {
           "style": "light"
          },
          "paper_bgcolor": "white",
          "plot_bgcolor": "#E5ECF6",
          "polar": {
           "angularaxis": {
            "gridcolor": "white",
            "linecolor": "white",
            "ticks": ""
           },
           "bgcolor": "#E5ECF6",
           "radialaxis": {
            "gridcolor": "white",
            "linecolor": "white",
            "ticks": ""
           }
          },
          "scene": {
           "xaxis": {
            "backgroundcolor": "#E5ECF6",
            "gridcolor": "white",
            "gridwidth": 2,
            "linecolor": "white",
            "showbackground": true,
            "ticks": "",
            "zerolinecolor": "white"
           },
           "yaxis": {
            "backgroundcolor": "#E5ECF6",
            "gridcolor": "white",
            "gridwidth": 2,
            "linecolor": "white",
            "showbackground": true,
            "ticks": "",
            "zerolinecolor": "white"
           },
           "zaxis": {
            "backgroundcolor": "#E5ECF6",
            "gridcolor": "white",
            "gridwidth": 2,
            "linecolor": "white",
            "showbackground": true,
            "ticks": "",
            "zerolinecolor": "white"
           }
          },
          "shapedefaults": {
           "line": {
            "color": "#2a3f5f"
           }
          },
          "ternary": {
           "aaxis": {
            "gridcolor": "white",
            "linecolor": "white",
            "ticks": ""
           },
           "baxis": {
            "gridcolor": "white",
            "linecolor": "white",
            "ticks": ""
           },
           "bgcolor": "#E5ECF6",
           "caxis": {
            "gridcolor": "white",
            "linecolor": "white",
            "ticks": ""
           }
          },
          "title": {
           "x": 0.05
          },
          "xaxis": {
           "automargin": true,
           "gridcolor": "white",
           "linecolor": "white",
           "ticks": "",
           "zerolinecolor": "white",
           "zerolinewidth": 2
          },
          "yaxis": {
           "automargin": true,
           "gridcolor": "white",
           "linecolor": "white",
           "ticks": "",
           "zerolinecolor": "white",
           "zerolinewidth": 2
          }
         }
        },
        "title": {
         "text": "<b>Evolución económica y desigualdad</b> (Argentina 1986 - 2020)"
        },
        "width": 1000,
        "xaxis": {
         "linecolor": "#BCCCDC",
         "showgrid": false,
         "showspikes": true,
         "spikecolor": "#999999",
         "spikedash": "dot",
         "spikemode": "across",
         "spikethickness": 1
        },
        "yaxis": {
         "linecolor": "#BCCCDC",
         "showgrid": false,
         "showspikes": true,
         "spikecolor": "#999999",
         "spikedash": "dot",
         "spikemode": "across",
         "spikethickness": 1
        }
       }
      }
     },
     "metadata": {}
    }
   ],
   "source": [
    "# sacar\n",
    "# all = pd.read_csv(\"assets/argentina.csv\", sep='\\t')\n",
    "all = df\n",
    "\n",
    "\n",
    "hoverinfo = ['text']\n",
    "line_shape = 'spline'\n",
    "line_shape_presis = 'linear'\n",
    "mode = 'markers+text'\n",
    "mode_presis = 'lines'\n",
    "marker=dict(\n",
    "    color='white',\n",
    "    size=6,\n",
    "    line=dict(\n",
    "        color='black',\n",
    "        width=2\n",
    "    )\n",
    ")\n",
    "\n",
    "years = arg.copy()\n",
    "years[\"textposition\"] = \"top left\"\n",
    "years.loc[years.year.isin([1991, 2015]), \"textposition\"] = \"top center\"\n",
    "years.loc[years.year.isin([1987, 1989, 1988, 1994, 1998, 1999, 2000, 2003, 2004, 2005, 2006, 2007, 2008, 2010, 2011, 2017]), \"textposition\"] = \"top right\"\n",
    "years.loc[years.year.isin([1986, 2014, 2016]), \"textposition\"] = \"bottom left\"\n",
    "years.loc[years.year.isin([2012]), \"textposition\"] = \"middle right\"\n",
    "# years.loc[years.year.isin([2009]), \"textposition\"] = \"middle left\"\n",
    "years.loc[years.year.isin([2013]), \"textposition\"] = \"bottom right\"\n",
    "# years.loc[years.year.isin([2014, 2016]), \"textposition\"] = \"bottom left\"\n",
    "textpositions = years[\"textposition\"].values\n",
    "years = years[\"year\"].values\n",
    "\n",
    "\n",
    "showlegend=False\n",
    "\n",
    "fig = go.Figure()\n",
    "\n",
    "\n",
    "import plotly.express as px\n",
    "# colors = px.colors.qualitative.Pastel.copy()\n",
    "colors = px.colors.qualitative.Vivid.copy()\n",
    "# print(cop)\n",
    "# print(colors.pop())\n",
    "# print(cop)\n",
    "\n",
    "\n",
    "presi_tail = pd.DataFrame()\n",
    "for presi_key in presidentials:\n",
    "    presi_df = all.loc[(all['president'] == presi_key)].copy()\n",
    "\n",
    "    # Agrego el último valor de una presidencia en la otra para segmentar correctamente por color\n",
    "    if not presi_tail.empty:\n",
    "        presi_df = presi_tail.append(presi_df)\n",
    "\n",
    "    presi_tail = presi_df.tail(1)\n",
    "\n",
    "    presi_color = colors.pop()\n",
    "\n",
    "    fig.add_trace(go.Scatter(\n",
    "        x = presi_df.gdp,\n",
    "        y = presi_df.gini,\n",
    "        # text = years_presis,\n",
    "        hoverinfo = hoverinfo,\n",
    "        line_shape = line_shape,\n",
    "        line=dict(color = presi_color, width = 5),\n",
    "        mode = mode_presis,\n",
    "        showlegend = showlegend\n",
    "    ))\n",
    "\n",
    "    fig.add_annotation(x=presidentials[presi_key][\"annotation_x\"], y=presidentials[presi_key][\"annotation_y\"],\n",
    "        text = (\"<b>%s</b>\" % presi_key),\n",
    "        font=dict(\n",
    "            family=\"Helvetica, Verdana\",\n",
    "            size=12,\n",
    "            color=presi_color\n",
    "            ),\n",
    "        # texttemplate = \"<b>%{text}<b>\",\n",
    "        # textfont = {'family': \"Helvetica\", 'size': 12, 'color': \"black\"},\n",
    "        showarrow=False,\n",
    "        xref=\"x\", yref=\"y\",\n",
    "        yshift=10)\n",
    "\n",
    "\n",
    "\n",
    "\n",
    "# text = [\"A\", \"B\", \"C\"],\n",
    "#     texttemplate = \"%{text}<br>(%{a:.2f}, %{b:.2f}, %{c:.2f})\",\n",
    "#     textposition = \"bottom center\",\n",
    "#     textfont = {'family': \"Times\", 'size': [18, 21, 20], 'color': [\"IndianRed\", \"MediumPurple\", \"DarkOrange\"]\n",
    "\n",
    "# Con puntos\n",
    "fig.add_trace(go.Scatter(\n",
    "    x = arg.gdp,\n",
    "    y = arg.gini,\n",
    "    text = years,\n",
    "    texttemplate = \"<b>%{text}</b>\",\n",
    "    hoverinfo = hoverinfo,\n",
    "    hovertemplate = \"Año: <b>%{text}</b><br>PBI PPP: <b>$%{x:.0f}</b><br>Gini: <b>%{y:.2f}</b><br>\",\n",
    "    line_shape = line_shape,\n",
    "    mode = mode,\n",
    "    marker = marker,\n",
    "    textposition = textpositions,\n",
    "    showlegend = showlegend\n",
    "))\n",
    "\n",
    "\n",
    "\n",
    "# fig.update_traces(textposition=textpositions)\n",
    "fig.update_traces(textfont = {'family': \"Helvetica, Verdana\", 'size': 11, 'color': \"black\"})\n",
    "# fig.update_annotations(textfont = {'family': \"Helvetica\", 'size': 11, 'color': \"black\"})\n",
    "\n",
    "# fig.update_layout(showlegend=False)\n",
    "\n",
    "\n",
    "fig.update_layout(\n",
    "    height=800,\n",
    "    width=1000,\n",
    "    title_text= '<b>Evolución económica y desigualdad</b> (Argentina %s - %s)' % (int(all.year.min()), int(all.year.max())),\n",
    "    font=dict(\n",
    "        family=\"Helvetica, Verdana\",\n",
    "        # size=18,\n",
    "    ),\n",
    "    paper_bgcolor='rgba(0,0,0,0)',\n",
    "    plot_bgcolor='rgba(0,0,0,0)',\n",
    "    # hovermode=\"x\",\n",
    "    hoverdistance=100, # Distance to show hover label of data point\n",
    "    spikedistance=1000, # Distance to show spike\n",
    "    xaxis=dict(\n",
    "        # title= \"<b>Producto Bruto Interno per Capita\",\n",
    "        linecolor=\"#BCCCDC\",  # Sets color of X-axis line\n",
    "        showgrid=False,  # Removes X-axis grid lines,\n",
    "        showspikes=True, # Show spike line for X-axis\n",
    "        # Format spike\n",
    "        spikethickness=1,\n",
    "        spikedash=\"dot\",\n",
    "        spikecolor=\"#999999\",\n",
    "        spikemode=\"across\",\n",
    "    ),\n",
    "    yaxis=dict(\n",
    "        # title= \"<b>Índice de desigualdad GINI</b>\",\n",
    "        linecolor=\"#BCCCDC\",  # Sets color of Y-axis line\n",
    "        showgrid=False,  # Removes Y-axis grid lines \n",
    "        showspikes=True, # Show spike line for X-axis\n",
    "        # Format spike\n",
    "        spikethickness=1,\n",
    "        spikedash=\"dot\",\n",
    "        spikecolor=\"#999999\",\n",
    "        spikemode=\"across\",  \n",
    "    ),\n",
    "    legend=dict(\n",
    "        # Adjust click behavior\n",
    "        itemclick=\"toggleothers\",\n",
    "        itemdoubleclick=\"toggle\",\n",
    "    )\n",
    ")\n",
    "\n",
    "\n",
    "\n",
    "\n",
    "\n",
    "# Eje vertical (Título)\n",
    "# #####################\n",
    "fig.add_annotation(\n",
    "    xref=\"paper\",\n",
    "    yref=\"paper\",\n",
    "    x=0.96,\n",
    "    y=0.935,\n",
    "    align=\"right\",\n",
    "    text=\"<b>Índice de desigualdad GINI</b><br>Valores más altos indican mayor desigualdad\",\n",
    "    showarrow=False,\n",
    "    font=dict(\n",
    "        family=\"Helvetica, Verdana\",\n",
    "        size=13\n",
    "    )\n",
    ")\n",
    "\n",
    "# Flecha vertical\n",
    "fig.add_annotation(\n",
    "    x=0.97,\n",
    "    y=0.96,\n",
    "    xref=\"paper\",\n",
    "    yref=\"paper\",\n",
    "    showarrow=True,\n",
    "    align=\"center\",\n",
    "    arrowhead=2,\n",
    "    arrowsize=1,\n",
    "    arrowwidth=2,\n",
    "    arrowcolor=\"black\",\n",
    "    # arrowcolor=\"#636363\",\n",
    "    ax=0,\n",
    "    ay=61,\n",
    "    opacity=1\n",
    ")\n",
    "fig.add_annotation(\n",
    "    x=0.97,\n",
    "    y=0.85,\n",
    "    xref=\"paper\",\n",
    "    yref=\"paper\",\n",
    "    showarrow=True,\n",
    "    align=\"center\",\n",
    "    arrowhead=2,\n",
    "    arrowsize=1,\n",
    "    arrowwidth=2,\n",
    "    arrowcolor=\"black\",\n",
    "    # arrowcolor=\"#636363\",\n",
    "    ax=0,\n",
    "    ay=-61,\n",
    "    opacity=1\n",
    ")\n",
    "\n",
    "# Eje horizontal (Título)\n",
    "# #######################\n",
    "fig.add_annotation(\n",
    "    xref=\"paper\",\n",
    "    yref=\"paper\",\n",
    "    x=0.352,\n",
    "    y=0.016,\n",
    "    align=\"center\",\n",
    "    text=\"<b>Producto Bruto Interno per Capita</b><br>USD ajustados por inflación a valor constante 2011\",\n",
    "    showarrow=False,\n",
    "    font=dict(\n",
    "        family=\"Helvetica, Verdana\",\n",
    "        size=13\n",
    "    )\n",
    ")\n",
    "\n",
    "# Flecha vertical\n",
    "fig.add_annotation(\n",
    "    x=0.45,\n",
    "    y=0.09,\n",
    "    xref=\"paper\",\n",
    "    yref=\"paper\",\n",
    "    showarrow=True,\n",
    "    align=\"center\",\n",
    "    arrowhead=2,\n",
    "    arrowsize=1,\n",
    "    arrowwidth=2,\n",
    "    arrowcolor=\"black\",\n",
    "    # arrowcolor=\"#636363\",\n",
    "    ax=-90,\n",
    "    ay=0,\n",
    "    opacity=1\n",
    ")\n",
    "fig.add_annotation(\n",
    "    x=0.25,\n",
    "    y=0.09,\n",
    "    xref=\"paper\",\n",
    "    yref=\"paper\",\n",
    "    showarrow=True,\n",
    "    align=\"center\",\n",
    "    arrowhead=2,\n",
    "    arrowsize=1,\n",
    "    arrowwidth=2,\n",
    "    arrowcolor=\"black\",\n",
    "    # arrowcolor=\"#636363\",\n",
    "    ax=90,\n",
    "    ay=0,\n",
    "    opacity=1\n",
    ")\n",
    "\n",
    "\n",
    "fig.show(config={\"displayModeBar\": False, \"showTips\": False}) # Remove floating menu and unnecesary dialog box"
   ]
  }
 ]
}