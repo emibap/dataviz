{
 "metadata": {
  "language_info": {
   "codemirror_mode": {
    "name": "ipython",
    "version": 3
   },
   "file_extension": ".py",
   "mimetype": "text/x-python",
   "name": "python",
   "nbconvert_exporter": "python",
   "pygments_lexer": "ipython3",
   "version": "3.7.4-final"
  },
  "orig_nbformat": 2,
  "kernelspec": {
   "name": "python3",
   "display_name": "Python 3",
   "language": "python"
  }
 },
 "nbformat": 4,
 "nbformat_minor": 2,
 "cells": [
  {
   "cell_type": "code",
   "execution_count": 256,
   "metadata": {},
   "outputs": [],
   "source": [
    "import plotly.graph_objects as go\n",
    "import numpy as np\n",
    "import pandas as pd"
   ]
  },
  {
   "cell_type": "code",
   "execution_count": 257,
   "metadata": {},
   "outputs": [
    {
     "output_type": "execute_result",
     "data": {
      "text/plain": [
       "             1800        1801        1802        1803        1804        1805  \\\n",
       "count  195.000000  195.000000  195.000000  195.000000  195.000000  195.000000   \n",
       "mean    41.411282   41.411282   41.411282   41.411282   41.411282   41.411282   \n",
       "std      9.499868    9.499868    9.499868    9.499868    9.499868    9.499868   \n",
       "min     16.300000   16.300000   16.300000   16.300000   16.300000   16.300000   \n",
       "25%     36.000000   36.000000   36.000000   36.000000   36.000000   36.000000   \n",
       "50%     40.000000   40.000000   40.000000   40.000000   40.000000   40.000000   \n",
       "75%     46.650000   46.650000   46.650000   46.650000   46.650000   46.650000   \n",
       "max     74.200000   74.200000   74.200000   74.200000   74.200000   74.200000   \n",
       "\n",
       "             1806        1807        1808        1809  ...        2031  \\\n",
       "count  195.000000  195.000000  195.000000  195.000000  ...  195.000000   \n",
       "mean    41.411282   41.411282   41.411282   41.411282  ...   38.850769   \n",
       "std      9.499868    9.499868    9.499868    9.499868  ...    7.378433   \n",
       "min     16.300000   16.300000   16.300000   16.300000  ...   25.000000   \n",
       "25%     36.000000   36.000000   36.000000   36.000000  ...   33.500000   \n",
       "50%     40.000000   40.000000   40.000000   40.000000  ...   39.100000   \n",
       "75%     46.650000   46.650000   46.650000   46.650000  ...   42.750000   \n",
       "max     74.200000   74.200000   74.200000   74.200000  ...   63.000000   \n",
       "\n",
       "             2032        2033        2034        2035        2036        2037  \\\n",
       "count  195.000000  195.000000  195.000000  195.000000  195.000000  195.000000   \n",
       "mean    38.850769   38.850769   38.850769   38.850769   38.850769   38.850769   \n",
       "std      7.378433    7.378433    7.378433    7.378433    7.378433    7.378433   \n",
       "min     25.000000   25.000000   25.000000   25.000000   25.000000   25.000000   \n",
       "25%     33.500000   33.500000   33.500000   33.500000   33.500000   33.500000   \n",
       "50%     39.100000   39.100000   39.100000   39.100000   39.100000   39.100000   \n",
       "75%     42.750000   42.750000   42.750000   42.750000   42.750000   42.750000   \n",
       "max     63.000000   63.000000   63.000000   63.000000   63.000000   63.000000   \n",
       "\n",
       "             2038        2039        2040  \n",
       "count  195.000000  195.000000  195.000000  \n",
       "mean    38.850769   38.850769   38.850769  \n",
       "std      7.378433    7.378433    7.378433  \n",
       "min     25.000000   25.000000   25.000000  \n",
       "25%     33.500000   33.500000   33.500000  \n",
       "50%     39.100000   39.100000   39.100000  \n",
       "75%     42.750000   42.750000   42.750000  \n",
       "max     63.000000   63.000000   63.000000  \n",
       "\n",
       "[8 rows x 241 columns]"
      ],
      "text/html": "<div>\n<style scoped>\n    .dataframe tbody tr th:only-of-type {\n        vertical-align: middle;\n    }\n\n    .dataframe tbody tr th {\n        vertical-align: top;\n    }\n\n    .dataframe thead th {\n        text-align: right;\n    }\n</style>\n<table border=\"1\" class=\"dataframe\">\n  <thead>\n    <tr style=\"text-align: right;\">\n      <th></th>\n      <th>1800</th>\n      <th>1801</th>\n      <th>1802</th>\n      <th>1803</th>\n      <th>1804</th>\n      <th>1805</th>\n      <th>1806</th>\n      <th>1807</th>\n      <th>1808</th>\n      <th>1809</th>\n      <th>...</th>\n      <th>2031</th>\n      <th>2032</th>\n      <th>2033</th>\n      <th>2034</th>\n      <th>2035</th>\n      <th>2036</th>\n      <th>2037</th>\n      <th>2038</th>\n      <th>2039</th>\n      <th>2040</th>\n    </tr>\n  </thead>\n  <tbody>\n    <tr>\n      <td>count</td>\n      <td>195.000000</td>\n      <td>195.000000</td>\n      <td>195.000000</td>\n      <td>195.000000</td>\n      <td>195.000000</td>\n      <td>195.000000</td>\n      <td>195.000000</td>\n      <td>195.000000</td>\n      <td>195.000000</td>\n      <td>195.000000</td>\n      <td>...</td>\n      <td>195.000000</td>\n      <td>195.000000</td>\n      <td>195.000000</td>\n      <td>195.000000</td>\n      <td>195.000000</td>\n      <td>195.000000</td>\n      <td>195.000000</td>\n      <td>195.000000</td>\n      <td>195.000000</td>\n      <td>195.000000</td>\n    </tr>\n    <tr>\n      <td>mean</td>\n      <td>41.411282</td>\n      <td>41.411282</td>\n      <td>41.411282</td>\n      <td>41.411282</td>\n      <td>41.411282</td>\n      <td>41.411282</td>\n      <td>41.411282</td>\n      <td>41.411282</td>\n      <td>41.411282</td>\n      <td>41.411282</td>\n      <td>...</td>\n      <td>38.850769</td>\n      <td>38.850769</td>\n      <td>38.850769</td>\n      <td>38.850769</td>\n      <td>38.850769</td>\n      <td>38.850769</td>\n      <td>38.850769</td>\n      <td>38.850769</td>\n      <td>38.850769</td>\n      <td>38.850769</td>\n    </tr>\n    <tr>\n      <td>std</td>\n      <td>9.499868</td>\n      <td>9.499868</td>\n      <td>9.499868</td>\n      <td>9.499868</td>\n      <td>9.499868</td>\n      <td>9.499868</td>\n      <td>9.499868</td>\n      <td>9.499868</td>\n      <td>9.499868</td>\n      <td>9.499868</td>\n      <td>...</td>\n      <td>7.378433</td>\n      <td>7.378433</td>\n      <td>7.378433</td>\n      <td>7.378433</td>\n      <td>7.378433</td>\n      <td>7.378433</td>\n      <td>7.378433</td>\n      <td>7.378433</td>\n      <td>7.378433</td>\n      <td>7.378433</td>\n    </tr>\n    <tr>\n      <td>min</td>\n      <td>16.300000</td>\n      <td>16.300000</td>\n      <td>16.300000</td>\n      <td>16.300000</td>\n      <td>16.300000</td>\n      <td>16.300000</td>\n      <td>16.300000</td>\n      <td>16.300000</td>\n      <td>16.300000</td>\n      <td>16.300000</td>\n      <td>...</td>\n      <td>25.000000</td>\n      <td>25.000000</td>\n      <td>25.000000</td>\n      <td>25.000000</td>\n      <td>25.000000</td>\n      <td>25.000000</td>\n      <td>25.000000</td>\n      <td>25.000000</td>\n      <td>25.000000</td>\n      <td>25.000000</td>\n    </tr>\n    <tr>\n      <td>25%</td>\n      <td>36.000000</td>\n      <td>36.000000</td>\n      <td>36.000000</td>\n      <td>36.000000</td>\n      <td>36.000000</td>\n      <td>36.000000</td>\n      <td>36.000000</td>\n      <td>36.000000</td>\n      <td>36.000000</td>\n      <td>36.000000</td>\n      <td>...</td>\n      <td>33.500000</td>\n      <td>33.500000</td>\n      <td>33.500000</td>\n      <td>33.500000</td>\n      <td>33.500000</td>\n      <td>33.500000</td>\n      <td>33.500000</td>\n      <td>33.500000</td>\n      <td>33.500000</td>\n      <td>33.500000</td>\n    </tr>\n    <tr>\n      <td>50%</td>\n      <td>40.000000</td>\n      <td>40.000000</td>\n      <td>40.000000</td>\n      <td>40.000000</td>\n      <td>40.000000</td>\n      <td>40.000000</td>\n      <td>40.000000</td>\n      <td>40.000000</td>\n      <td>40.000000</td>\n      <td>40.000000</td>\n      <td>...</td>\n      <td>39.100000</td>\n      <td>39.100000</td>\n      <td>39.100000</td>\n      <td>39.100000</td>\n      <td>39.100000</td>\n      <td>39.100000</td>\n      <td>39.100000</td>\n      <td>39.100000</td>\n      <td>39.100000</td>\n      <td>39.100000</td>\n    </tr>\n    <tr>\n      <td>75%</td>\n      <td>46.650000</td>\n      <td>46.650000</td>\n      <td>46.650000</td>\n      <td>46.650000</td>\n      <td>46.650000</td>\n      <td>46.650000</td>\n      <td>46.650000</td>\n      <td>46.650000</td>\n      <td>46.650000</td>\n      <td>46.650000</td>\n      <td>...</td>\n      <td>42.750000</td>\n      <td>42.750000</td>\n      <td>42.750000</td>\n      <td>42.750000</td>\n      <td>42.750000</td>\n      <td>42.750000</td>\n      <td>42.750000</td>\n      <td>42.750000</td>\n      <td>42.750000</td>\n      <td>42.750000</td>\n    </tr>\n    <tr>\n      <td>max</td>\n      <td>74.200000</td>\n      <td>74.200000</td>\n      <td>74.200000</td>\n      <td>74.200000</td>\n      <td>74.200000</td>\n      <td>74.200000</td>\n      <td>74.200000</td>\n      <td>74.200000</td>\n      <td>74.200000</td>\n      <td>74.200000</td>\n      <td>...</td>\n      <td>63.000000</td>\n      <td>63.000000</td>\n      <td>63.000000</td>\n      <td>63.000000</td>\n      <td>63.000000</td>\n      <td>63.000000</td>\n      <td>63.000000</td>\n      <td>63.000000</td>\n      <td>63.000000</td>\n      <td>63.000000</td>\n    </tr>\n  </tbody>\n</table>\n<p>8 rows × 241 columns</p>\n</div>"
     },
     "metadata": {},
     "execution_count": 257
    }
   ],
   "source": [
    "gini = pd.read_csv(\"assets/gini.csv\") \n",
    "# gini = pd.read_csv(\"assets/si_pov_gini.csv\") \n",
    "# gini.head()\n",
    "gini.describe()"
   ]
  },
  {
   "cell_type": "code",
   "execution_count": 258,
   "metadata": {},
   "outputs": [
    {
     "output_type": "execute_result",
     "data": {
      "text/plain": [
       "   1800  1801  1802  1803  1804  1805  1806  1807  1808  1809  ...  2031  \\\n",
       "6  47.7  47.7  47.7  47.7  47.7  47.7  47.7  47.7  47.7  47.7  ...  42.4   \n",
       "\n",
       "   2032  2033  2034  2035  2036  2037  2038  2039  2040  \n",
       "6  42.4  42.4  42.4  42.4  42.4  42.4  42.4  42.4  42.4  \n",
       "\n",
       "[1 rows x 241 columns]"
      ],
      "text/html": "<div>\n<style scoped>\n    .dataframe tbody tr th:only-of-type {\n        vertical-align: middle;\n    }\n\n    .dataframe tbody tr th {\n        vertical-align: top;\n    }\n\n    .dataframe thead th {\n        text-align: right;\n    }\n</style>\n<table border=\"1\" class=\"dataframe\">\n  <thead>\n    <tr style=\"text-align: right;\">\n      <th></th>\n      <th>1800</th>\n      <th>1801</th>\n      <th>1802</th>\n      <th>1803</th>\n      <th>1804</th>\n      <th>1805</th>\n      <th>1806</th>\n      <th>1807</th>\n      <th>1808</th>\n      <th>1809</th>\n      <th>...</th>\n      <th>2031</th>\n      <th>2032</th>\n      <th>2033</th>\n      <th>2034</th>\n      <th>2035</th>\n      <th>2036</th>\n      <th>2037</th>\n      <th>2038</th>\n      <th>2039</th>\n      <th>2040</th>\n    </tr>\n  </thead>\n  <tbody>\n    <tr>\n      <td>6</td>\n      <td>47.7</td>\n      <td>47.7</td>\n      <td>47.7</td>\n      <td>47.7</td>\n      <td>47.7</td>\n      <td>47.7</td>\n      <td>47.7</td>\n      <td>47.7</td>\n      <td>47.7</td>\n      <td>47.7</td>\n      <td>...</td>\n      <td>42.4</td>\n      <td>42.4</td>\n      <td>42.4</td>\n      <td>42.4</td>\n      <td>42.4</td>\n      <td>42.4</td>\n      <td>42.4</td>\n      <td>42.4</td>\n      <td>42.4</td>\n      <td>42.4</td>\n    </tr>\n  </tbody>\n</table>\n<p>1 rows × 241 columns</p>\n</div>"
     },
     "metadata": {},
     "execution_count": 258
    }
   ],
   "source": [
    "gini_arg = gini.loc[(gini.country == \"Argentina\")].copy()\n",
    "\n",
    "gini_arg.drop('country', 1, inplace=True)\n",
    "gini_arg.head()"
   ]
  },
  {
   "cell_type": "code",
   "execution_count": 259,
   "metadata": {},
   "outputs": [
    {
     "output_type": "execute_result",
     "data": {
      "text/plain": [
       "   1800  1801  1802  1803  1804  1805  1806  1807  1808  1809  ...   2031  \\\n",
       "6  1640  1640  1650  1650  1660  1660  1670  1680  1680  1690  ...  20800   \n",
       "\n",
       "    2032   2033   2034   2035   2036   2037   2038   2039   2040  \n",
       "6  21300  21700  22100  22600  23100  23500  24000  24500  25000  \n",
       "\n",
       "[1 rows x 241 columns]"
      ],
      "text/html": "<div>\n<style scoped>\n    .dataframe tbody tr th:only-of-type {\n        vertical-align: middle;\n    }\n\n    .dataframe tbody tr th {\n        vertical-align: top;\n    }\n\n    .dataframe thead th {\n        text-align: right;\n    }\n</style>\n<table border=\"1\" class=\"dataframe\">\n  <thead>\n    <tr style=\"text-align: right;\">\n      <th></th>\n      <th>1800</th>\n      <th>1801</th>\n      <th>1802</th>\n      <th>1803</th>\n      <th>1804</th>\n      <th>1805</th>\n      <th>1806</th>\n      <th>1807</th>\n      <th>1808</th>\n      <th>1809</th>\n      <th>...</th>\n      <th>2031</th>\n      <th>2032</th>\n      <th>2033</th>\n      <th>2034</th>\n      <th>2035</th>\n      <th>2036</th>\n      <th>2037</th>\n      <th>2038</th>\n      <th>2039</th>\n      <th>2040</th>\n    </tr>\n  </thead>\n  <tbody>\n    <tr>\n      <td>6</td>\n      <td>1640</td>\n      <td>1640</td>\n      <td>1650</td>\n      <td>1650</td>\n      <td>1660</td>\n      <td>1660</td>\n      <td>1670</td>\n      <td>1680</td>\n      <td>1680</td>\n      <td>1690</td>\n      <td>...</td>\n      <td>20800</td>\n      <td>21300</td>\n      <td>21700</td>\n      <td>22100</td>\n      <td>22600</td>\n      <td>23100</td>\n      <td>23500</td>\n      <td>24000</td>\n      <td>24500</td>\n      <td>25000</td>\n    </tr>\n  </tbody>\n</table>\n<p>1 rows × 241 columns</p>\n</div>"
     },
     "metadata": {},
     "execution_count": 259
    }
   ],
   "source": [
    "gdp = pd.read_csv(\"assets/income_per_person_gdppercapita_ppp_inflation_adjusted.csv\")\n",
    "# gdp = pd.read_csv(\"assets/gdppercapita_us_inflation_adjusted.csv\")\n",
    "\n",
    "gdp_arg = gdp.loc[(gdp.country == \"Argentina\")].copy()\n",
    "\n",
    "gdp_arg.drop('country', 1, inplace=True)\n",
    "\n",
    "gdp_arg.head()"
   ]
  },
  {
   "cell_type": "code",
   "execution_count": 260,
   "metadata": {},
   "outputs": [
    {
     "output_type": "execute_result",
     "data": {
      "text/plain": [
       "   year   gdp\n",
       "0  1800  1640\n",
       "1  1801  1640\n",
       "2  1802  1650\n",
       "3  1803  1650\n",
       "4  1804  1660"
      ],
      "text/html": "<div>\n<style scoped>\n    .dataframe tbody tr th:only-of-type {\n        vertical-align: middle;\n    }\n\n    .dataframe tbody tr th {\n        vertical-align: top;\n    }\n\n    .dataframe thead th {\n        text-align: right;\n    }\n</style>\n<table border=\"1\" class=\"dataframe\">\n  <thead>\n    <tr style=\"text-align: right;\">\n      <th></th>\n      <th>year</th>\n      <th>gdp</th>\n    </tr>\n  </thead>\n  <tbody>\n    <tr>\n      <td>0</td>\n      <td>1800</td>\n      <td>1640</td>\n    </tr>\n    <tr>\n      <td>1</td>\n      <td>1801</td>\n      <td>1640</td>\n    </tr>\n    <tr>\n      <td>2</td>\n      <td>1802</td>\n      <td>1650</td>\n    </tr>\n    <tr>\n      <td>3</td>\n      <td>1803</td>\n      <td>1650</td>\n    </tr>\n    <tr>\n      <td>4</td>\n      <td>1804</td>\n      <td>1660</td>\n    </tr>\n  </tbody>\n</table>\n</div>"
     },
     "metadata": {},
     "execution_count": 260
    }
   ],
   "source": [
    "gdp_arg2 = pd.melt(gdp_arg, var_name=\"year\", value_name=\"gdp\")\n",
    "gdp_arg2.head()"
   ]
  },
  {
   "cell_type": "code",
   "execution_count": 261,
   "metadata": {},
   "outputs": [
    {
     "output_type": "execute_result",
     "data": {
      "text/plain": [
       "   gini\n",
       "0  47.7\n",
       "1  47.7\n",
       "2  47.7\n",
       "3  47.7\n",
       "4  47.7"
      ],
      "text/html": "<div>\n<style scoped>\n    .dataframe tbody tr th:only-of-type {\n        vertical-align: middle;\n    }\n\n    .dataframe tbody tr th {\n        vertical-align: top;\n    }\n\n    .dataframe thead th {\n        text-align: right;\n    }\n</style>\n<table border=\"1\" class=\"dataframe\">\n  <thead>\n    <tr style=\"text-align: right;\">\n      <th></th>\n      <th>gini</th>\n    </tr>\n  </thead>\n  <tbody>\n    <tr>\n      <td>0</td>\n      <td>47.7</td>\n    </tr>\n    <tr>\n      <td>1</td>\n      <td>47.7</td>\n    </tr>\n    <tr>\n      <td>2</td>\n      <td>47.7</td>\n    </tr>\n    <tr>\n      <td>3</td>\n      <td>47.7</td>\n    </tr>\n    <tr>\n      <td>4</td>\n      <td>47.7</td>\n    </tr>\n  </tbody>\n</table>\n</div>"
     },
     "metadata": {},
     "execution_count": 261
    }
   ],
   "source": [
    "gini_arg2 = pd.melt(gini_arg, var_name=\"year\", value_name=\"gini\")\n",
    "gini_arg2.drop('year', 1, inplace=True)\n",
    "gini_arg2.head()"
   ]
  },
  {
   "cell_type": "code",
   "execution_count": 262,
   "metadata": {},
   "outputs": [
    {
     "output_type": "execute_result",
     "data": {
      "text/plain": [
       "     year    gdp  gini\n",
       "236  2036  23100  42.4\n",
       "237  2037  23500  42.4\n",
       "238  2038  24000  42.4\n",
       "239  2039  24500  42.4\n",
       "240  2040  25000  42.4"
      ],
      "text/html": "<div>\n<style scoped>\n    .dataframe tbody tr th:only-of-type {\n        vertical-align: middle;\n    }\n\n    .dataframe tbody tr th {\n        vertical-align: top;\n    }\n\n    .dataframe thead th {\n        text-align: right;\n    }\n</style>\n<table border=\"1\" class=\"dataframe\">\n  <thead>\n    <tr style=\"text-align: right;\">\n      <th></th>\n      <th>year</th>\n      <th>gdp</th>\n      <th>gini</th>\n    </tr>\n  </thead>\n  <tbody>\n    <tr>\n      <td>236</td>\n      <td>2036</td>\n      <td>23100</td>\n      <td>42.4</td>\n    </tr>\n    <tr>\n      <td>237</td>\n      <td>2037</td>\n      <td>23500</td>\n      <td>42.4</td>\n    </tr>\n    <tr>\n      <td>238</td>\n      <td>2038</td>\n      <td>24000</td>\n      <td>42.4</td>\n    </tr>\n    <tr>\n      <td>239</td>\n      <td>2039</td>\n      <td>24500</td>\n      <td>42.4</td>\n    </tr>\n    <tr>\n      <td>240</td>\n      <td>2040</td>\n      <td>25000</td>\n      <td>42.4</td>\n    </tr>\n  </tbody>\n</table>\n</div>"
     },
     "metadata": {},
     "execution_count": 262
    }
   ],
   "source": [
    "arg = pd.concat([gdp_arg2, gini_arg2], axis=1)\n",
    "arg.tail()"
   ]
  },
  {
   "cell_type": "code",
   "execution_count": 263,
   "metadata": {},
   "outputs": [],
   "source": [
    "arg.year = pd.to_numeric(arg.year)"
   ]
  },
  {
   "cell_type": "code",
   "execution_count": 264,
   "metadata": {},
   "outputs": [],
   "source": [
    "arg = arg.loc[(arg.year > 1985) & (arg.year <= 2019)]"
   ]
  },
  {
   "cell_type": "code",
   "execution_count": 265,
   "metadata": {},
   "outputs": [
    {
     "output_type": "execute_result",
     "data": {
      "text/plain": [
       "              year           gdp       gini\n",
       "count    34.000000     34.000000  34.000000\n",
       "mean   2002.500000  15738.235294  45.979412\n",
       "std       9.958246   2669.810424   3.309104\n",
       "min    1986.000000  11400.000000  41.600000\n",
       "25%    1994.250000  13525.000000  42.550000\n",
       "50%    2002.500000  15450.000000  45.900000\n",
       "75%    2010.750000  18525.000000  48.575000\n",
       "max    2019.000000  19800.000000  51.700000"
      ],
      "text/html": "<div>\n<style scoped>\n    .dataframe tbody tr th:only-of-type {\n        vertical-align: middle;\n    }\n\n    .dataframe tbody tr th {\n        vertical-align: top;\n    }\n\n    .dataframe thead th {\n        text-align: right;\n    }\n</style>\n<table border=\"1\" class=\"dataframe\">\n  <thead>\n    <tr style=\"text-align: right;\">\n      <th></th>\n      <th>year</th>\n      <th>gdp</th>\n      <th>gini</th>\n    </tr>\n  </thead>\n  <tbody>\n    <tr>\n      <td>count</td>\n      <td>34.000000</td>\n      <td>34.000000</td>\n      <td>34.000000</td>\n    </tr>\n    <tr>\n      <td>mean</td>\n      <td>2002.500000</td>\n      <td>15738.235294</td>\n      <td>45.979412</td>\n    </tr>\n    <tr>\n      <td>std</td>\n      <td>9.958246</td>\n      <td>2669.810424</td>\n      <td>3.309104</td>\n    </tr>\n    <tr>\n      <td>min</td>\n      <td>1986.000000</td>\n      <td>11400.000000</td>\n      <td>41.600000</td>\n    </tr>\n    <tr>\n      <td>25%</td>\n      <td>1994.250000</td>\n      <td>13525.000000</td>\n      <td>42.550000</td>\n    </tr>\n    <tr>\n      <td>50%</td>\n      <td>2002.500000</td>\n      <td>15450.000000</td>\n      <td>45.900000</td>\n    </tr>\n    <tr>\n      <td>75%</td>\n      <td>2010.750000</td>\n      <td>18525.000000</td>\n      <td>48.575000</td>\n    </tr>\n    <tr>\n      <td>max</td>\n      <td>2019.000000</td>\n      <td>19800.000000</td>\n      <td>51.700000</td>\n    </tr>\n  </tbody>\n</table>\n</div>"
     },
     "metadata": {},
     "execution_count": 265
    }
   ],
   "source": [
    "arg.describe()"
   ]
  },
  {
   "cell_type": "code",
   "execution_count": 266,
   "metadata": {},
   "outputs": [
    {
     "output_type": "execute_result",
     "data": {
      "text/plain": [
       "    year    gdp  gini\n",
       "0   1986  12800  43.7\n",
       "1   1987  12900  44.5\n",
       "2   1988  12500  45.3\n",
       "3   1989  11500  46.1\n",
       "4   1990  11400  46.1\n",
       "5   1991  12200  45.9\n",
       "6   1992  13000  45.9\n",
       "7   1993  13900  46.4\n",
       "8   1994  14500  46.9\n",
       "9   1995  14000  47.7\n",
       "10  1996  14600  48.8\n",
       "11  1997  15600  49.6\n",
       "12  1998  16000  50.0\n",
       "13  1999  15300  50.8\n",
       "14  2000  15000  51.7\n",
       "15  2001  14200  51.7\n",
       "16  2002  12500  51.4\n",
       "17  2003  13400  50.8\n",
       "18  2004  14500  49.4\n",
       "19  2005  15600  47.9\n",
       "20  2006  16700  46.7\n",
       "21  2007  18000  45.8\n",
       "22  2008  18600  44.9\n",
       "23  2009  17300  44.0\n",
       "24  2010  18900  43.0\n",
       "25  2011  19800  42.3\n",
       "26  2012  19400  41.8\n",
       "27  2013  19600  41.6\n",
       "28  2014  18900  41.6\n",
       "29  2015  19200  41.8\n",
       "30  2016  18600  42.1\n",
       "31  2017  18900  42.3\n",
       "32  2018  18300  42.4\n",
       "33  2019  17500  42.4"
      ],
      "text/html": "<div>\n<style scoped>\n    .dataframe tbody tr th:only-of-type {\n        vertical-align: middle;\n    }\n\n    .dataframe tbody tr th {\n        vertical-align: top;\n    }\n\n    .dataframe thead th {\n        text-align: right;\n    }\n</style>\n<table border=\"1\" class=\"dataframe\">\n  <thead>\n    <tr style=\"text-align: right;\">\n      <th></th>\n      <th>year</th>\n      <th>gdp</th>\n      <th>gini</th>\n    </tr>\n  </thead>\n  <tbody>\n    <tr>\n      <td>0</td>\n      <td>1986</td>\n      <td>12800</td>\n      <td>43.7</td>\n    </tr>\n    <tr>\n      <td>1</td>\n      <td>1987</td>\n      <td>12900</td>\n      <td>44.5</td>\n    </tr>\n    <tr>\n      <td>2</td>\n      <td>1988</td>\n      <td>12500</td>\n      <td>45.3</td>\n    </tr>\n    <tr>\n      <td>3</td>\n      <td>1989</td>\n      <td>11500</td>\n      <td>46.1</td>\n    </tr>\n    <tr>\n      <td>4</td>\n      <td>1990</td>\n      <td>11400</td>\n      <td>46.1</td>\n    </tr>\n    <tr>\n      <td>5</td>\n      <td>1991</td>\n      <td>12200</td>\n      <td>45.9</td>\n    </tr>\n    <tr>\n      <td>6</td>\n      <td>1992</td>\n      <td>13000</td>\n      <td>45.9</td>\n    </tr>\n    <tr>\n      <td>7</td>\n      <td>1993</td>\n      <td>13900</td>\n      <td>46.4</td>\n    </tr>\n    <tr>\n      <td>8</td>\n      <td>1994</td>\n      <td>14500</td>\n      <td>46.9</td>\n    </tr>\n    <tr>\n      <td>9</td>\n      <td>1995</td>\n      <td>14000</td>\n      <td>47.7</td>\n    </tr>\n    <tr>\n      <td>10</td>\n      <td>1996</td>\n      <td>14600</td>\n      <td>48.8</td>\n    </tr>\n    <tr>\n      <td>11</td>\n      <td>1997</td>\n      <td>15600</td>\n      <td>49.6</td>\n    </tr>\n    <tr>\n      <td>12</td>\n      <td>1998</td>\n      <td>16000</td>\n      <td>50.0</td>\n    </tr>\n    <tr>\n      <td>13</td>\n      <td>1999</td>\n      <td>15300</td>\n      <td>50.8</td>\n    </tr>\n    <tr>\n      <td>14</td>\n      <td>2000</td>\n      <td>15000</td>\n      <td>51.7</td>\n    </tr>\n    <tr>\n      <td>15</td>\n      <td>2001</td>\n      <td>14200</td>\n      <td>51.7</td>\n    </tr>\n    <tr>\n      <td>16</td>\n      <td>2002</td>\n      <td>12500</td>\n      <td>51.4</td>\n    </tr>\n    <tr>\n      <td>17</td>\n      <td>2003</td>\n      <td>13400</td>\n      <td>50.8</td>\n    </tr>\n    <tr>\n      <td>18</td>\n      <td>2004</td>\n      <td>14500</td>\n      <td>49.4</td>\n    </tr>\n    <tr>\n      <td>19</td>\n      <td>2005</td>\n      <td>15600</td>\n      <td>47.9</td>\n    </tr>\n    <tr>\n      <td>20</td>\n      <td>2006</td>\n      <td>16700</td>\n      <td>46.7</td>\n    </tr>\n    <tr>\n      <td>21</td>\n      <td>2007</td>\n      <td>18000</td>\n      <td>45.8</td>\n    </tr>\n    <tr>\n      <td>22</td>\n      <td>2008</td>\n      <td>18600</td>\n      <td>44.9</td>\n    </tr>\n    <tr>\n      <td>23</td>\n      <td>2009</td>\n      <td>17300</td>\n      <td>44.0</td>\n    </tr>\n    <tr>\n      <td>24</td>\n      <td>2010</td>\n      <td>18900</td>\n      <td>43.0</td>\n    </tr>\n    <tr>\n      <td>25</td>\n      <td>2011</td>\n      <td>19800</td>\n      <td>42.3</td>\n    </tr>\n    <tr>\n      <td>26</td>\n      <td>2012</td>\n      <td>19400</td>\n      <td>41.8</td>\n    </tr>\n    <tr>\n      <td>27</td>\n      <td>2013</td>\n      <td>19600</td>\n      <td>41.6</td>\n    </tr>\n    <tr>\n      <td>28</td>\n      <td>2014</td>\n      <td>18900</td>\n      <td>41.6</td>\n    </tr>\n    <tr>\n      <td>29</td>\n      <td>2015</td>\n      <td>19200</td>\n      <td>41.8</td>\n    </tr>\n    <tr>\n      <td>30</td>\n      <td>2016</td>\n      <td>18600</td>\n      <td>42.1</td>\n    </tr>\n    <tr>\n      <td>31</td>\n      <td>2017</td>\n      <td>18900</td>\n      <td>42.3</td>\n    </tr>\n    <tr>\n      <td>32</td>\n      <td>2018</td>\n      <td>18300</td>\n      <td>42.4</td>\n    </tr>\n    <tr>\n      <td>33</td>\n      <td>2019</td>\n      <td>17500</td>\n      <td>42.4</td>\n    </tr>\n  </tbody>\n</table>\n</div>"
     },
     "metadata": {},
     "execution_count": 266
    }
   ],
   "source": [
    "arg = arg.reset_index(drop=True)\n",
    "arg"
   ]
  },
  {
   "cell_type": "code",
   "execution_count": 280,
   "metadata": {},
   "outputs": [
    {
     "output_type": "execute_result",
     "data": {
      "text/plain": [
       "{'Alfonsín': {'from': 1986,\n",
       "  'to': 1989.5,\n",
       "  'end_gdp': 11450,\n",
       "  'end_gini': 46.1,\n",
       "  'color': 'red'},\n",
       " 'Menem (1)': {'from': 1989.5,\n",
       "  'to': 1993.92,\n",
       "  'end_gdp': 14400,\n",
       "  'end_gini': 46.75,\n",
       "  'color': 'green'},\n",
       " 'Menem (2)': {'from': 1993.92,\n",
       "  'to': 1998.92,\n",
       "  'end_gdp': 15390,\n",
       "  'end_gini': 50.67,\n",
       "  'color': 'MediumPurple'},\n",
       " 'De la Rúa': {'from': 1998.92,\n",
       "  'to': 2001.92,\n",
       "  'end_gdp': 14200,\n",
       "  'end_gini': 51.7,\n",
       "  'color': 'blue'},\n",
       " 'Duhalde': {'from': 2001.92,\n",
       "  'to': 2003.5,\n",
       "  'end_gdp': 13900,\n",
       "  'end_gini': 50.2,\n",
       "  'color': 'purple'},\n",
       " 'Kirchner': {'from': 2003.5,\n",
       "  'to': 2007.92,\n",
       "  'end_gdp': 18500,\n",
       "  'end_gini': 45.2,\n",
       "  'color': '#636EFA'},\n",
       " 'Cristina F. (1)': {'from': 2007.92,\n",
       "  'to': 2011.92,\n",
       "  'end_gdp': 19500,\n",
       "  'end_gini': 41.9,\n",
       "  'color': 'brown'},\n",
       " 'Cristina F. (2)': {'from': 2011.92,\n",
       "  'to': 2014.92,\n",
       "  'end_gdp': 19150,\n",
       "  'end_gini': 41.75,\n",
       "  'color': 'pink'},\n",
       " 'Macri': {'from': 2014.92, 'color': 'yellow'}}"
      ]
     },
     "metadata": {},
     "execution_count": 280
    }
   ],
   "source": [
    "# Períodos presidenciales\n",
    "\n",
    "presidentials = {\n",
    "    \"Alfonsín\": { \"from\": 1986, \"to\": 1989.5, \"end_gdp\": 11450, \"end_gini\": 46.1, \"color\": \"red\" },\n",
    "    \"Menem (1)\": { \"from\": 1989.5, \"to\": 1993.92, \"end_gdp\": 14400, \"end_gini\": 46.75, \"color\": \"green\" },\n",
    "    \"Menem (2)\": { \"from\": 1993.92, \"to\": 1998.92, \"end_gdp\": 15390, \"end_gini\": 50.67, \"color\": \"MediumPurple\" },\n",
    "    \"De la Rúa\": {  \"from\": 1998.92, \"to\": 2001.92, \"end_gdp\": 14200, \"end_gini\": 51.7, \"color\": \"blue\" },\n",
    "    \"Duhalde\": { \"from\": 2001.92, \"to\": 2003.5, \"end_gdp\": 13900, \"end_gini\": 50.2, \"color\": \"purple\" },\n",
    "    \"Kirchner\": { \"from\": 2003.5, \"to\": 2007.92, \"end_gdp\": 18500, \"end_gini\": 45.2, \"color\": \"#636EFA\" },\n",
    "    \"Cristina F. (1)\": { \"from\": 2007.92, \"to\": 2011.92, \"end_gdp\": 19500, \"end_gini\": 41.9, \"color\": \"brown\" },\n",
    "    \"Cristina F. (2)\": { \"from\": 2011.92, \"to\": 2014.92, \"end_gdp\": 19150, \"end_gini\": 41.75, \"color\": \"pink\" },\n",
    "    \"Macri\": { \"from\": 2014.92, \"color\": \"yellow\" },\n",
    "}\n",
    "\n",
    "presidentials"
   ]
  },
  {
   "cell_type": "code",
   "execution_count": 281,
   "metadata": {},
   "outputs": [],
   "source": [
    "# https://www.geeksforgeeks.org/insert-row-at-given-position-in-pandas-dataframe/\n",
    "# Function to insert row in the dataframe \n",
    "def insert_row(row_number, df, row_value): \n",
    "\t# Starting value of upper half \n",
    "\tstart_upper = 0\n",
    "\n",
    "\t# End value of upper half \n",
    "\tend_upper = row_number \n",
    "\n",
    "\t# Start value of lower half \n",
    "\tstart_lower = row_number \n",
    "\n",
    "\t# End value of lower half \n",
    "\tend_lower = df.shape[0] \n",
    "\n",
    "\t# Create a list of upper_half index \n",
    "\tupper_half = [*range(start_upper, end_upper, 1)] \n",
    "\n",
    "\t# Create a list of lower_half index \n",
    "\tlower_half = [*range(start_lower, end_lower, 1)] \n",
    "\n",
    "\t# Increment the value of lower half by 1 \n",
    "\tlower_half = [x.__add__(1) for x in lower_half] \n",
    "\n",
    "\t# Combine the two lists \n",
    "\tindex_ = upper_half + lower_half \n",
    "\n",
    "\t# Update the index of the dataframe \n",
    "\tdf.index = index_ \n",
    "\n",
    "\t# Insert a row at the end \n",
    "\tdf.loc[row_number] = row_value \n",
    "\t\n",
    "\t# Sort the index labels \n",
    "\tdf = df.sort_index() \n",
    "\n",
    "\t# return the dataframe \n",
    "\treturn df \n",
    "\n",
    "# Let's create a row which we want to insert \n",
    "# row_number = 2\n",
    "# row_value = ['11/2/2011', 'Wrestling', 12000] \n",
    "\n",
    "# if row_number > df.index.max()+1: \n",
    "# \tprint(\"Invalid row_number\") \n",
    "# else: \n",
    "\t\n",
    "\t## Let's call the function and insert the row \n",
    "\t## at the second position \n",
    "\t#df = Insert_row(row_number, df, row_value) \n",
    "\n",
    "\t# Print the updated dataframe \n",
    "\t#print(df) \n"
   ]
  },
  {
   "cell_type": "code",
   "execution_count": 282,
   "metadata": {},
   "outputs": [
    {
     "output_type": "execute_result",
     "data": {
      "text/plain": [
       "       year      gdp  gini\n",
       "0   1986.00  12800.0  43.7\n",
       "1   1987.00  12900.0  44.5\n",
       "2   1988.00  12500.0  45.3\n",
       "3   1989.00  11500.0  46.1\n",
       "4   1989.92  11500.0  46.1\n",
       "5   1990.00  11400.0  46.1\n",
       "6   1991.00  12200.0  45.9\n",
       "7   1992.00  13000.0  45.9\n",
       "8   1993.00  13900.0  46.4\n",
       "9   1994.00  14500.0  46.9\n",
       "10  1995.00  14000.0  47.7\n",
       "11  1996.00  14600.0  48.8\n",
       "12  1997.00  15600.0  49.6\n",
       "13  1998.00  16000.0  50.0\n",
       "14  1999.00  15300.0  50.8\n",
       "15  2000.00  15000.0  51.7\n",
       "16  2001.00  14200.0  51.7\n",
       "17  2002.00  12500.0  51.4\n",
       "18  2003.00  13400.0  50.8\n",
       "19  2004.00  14500.0  49.4\n",
       "20  2005.00  15600.0  47.9\n",
       "21  2006.00  16700.0  46.7\n",
       "22  2007.00  18000.0  45.8\n",
       "23  2008.00  18600.0  44.9\n",
       "24  2009.00  17300.0  44.0\n",
       "25  2010.00  18900.0  43.0\n",
       "26  2011.00  19800.0  42.3\n",
       "27  2012.00  19400.0  41.8\n",
       "28  2013.00  19600.0  41.6\n",
       "29  2014.00  18900.0  41.6\n",
       "30  2015.00  19200.0  41.8\n",
       "31  2016.00  18600.0  42.1\n",
       "32  2017.00  18900.0  42.3\n",
       "33  2018.00  18300.0  42.4\n",
       "34  2019.00  17500.0  42.4"
      ],
      "text/html": "<div>\n<style scoped>\n    .dataframe tbody tr th:only-of-type {\n        vertical-align: middle;\n    }\n\n    .dataframe tbody tr th {\n        vertical-align: top;\n    }\n\n    .dataframe thead th {\n        text-align: right;\n    }\n</style>\n<table border=\"1\" class=\"dataframe\">\n  <thead>\n    <tr style=\"text-align: right;\">\n      <th></th>\n      <th>year</th>\n      <th>gdp</th>\n      <th>gini</th>\n    </tr>\n  </thead>\n  <tbody>\n    <tr>\n      <td>0</td>\n      <td>1986.00</td>\n      <td>12800.0</td>\n      <td>43.7</td>\n    </tr>\n    <tr>\n      <td>1</td>\n      <td>1987.00</td>\n      <td>12900.0</td>\n      <td>44.5</td>\n    </tr>\n    <tr>\n      <td>2</td>\n      <td>1988.00</td>\n      <td>12500.0</td>\n      <td>45.3</td>\n    </tr>\n    <tr>\n      <td>3</td>\n      <td>1989.00</td>\n      <td>11500.0</td>\n      <td>46.1</td>\n    </tr>\n    <tr>\n      <td>4</td>\n      <td>1989.92</td>\n      <td>11500.0</td>\n      <td>46.1</td>\n    </tr>\n    <tr>\n      <td>5</td>\n      <td>1990.00</td>\n      <td>11400.0</td>\n      <td>46.1</td>\n    </tr>\n    <tr>\n      <td>6</td>\n      <td>1991.00</td>\n      <td>12200.0</td>\n      <td>45.9</td>\n    </tr>\n    <tr>\n      <td>7</td>\n      <td>1992.00</td>\n      <td>13000.0</td>\n      <td>45.9</td>\n    </tr>\n    <tr>\n      <td>8</td>\n      <td>1993.00</td>\n      <td>13900.0</td>\n      <td>46.4</td>\n    </tr>\n    <tr>\n      <td>9</td>\n      <td>1994.00</td>\n      <td>14500.0</td>\n      <td>46.9</td>\n    </tr>\n    <tr>\n      <td>10</td>\n      <td>1995.00</td>\n      <td>14000.0</td>\n      <td>47.7</td>\n    </tr>\n    <tr>\n      <td>11</td>\n      <td>1996.00</td>\n      <td>14600.0</td>\n      <td>48.8</td>\n    </tr>\n    <tr>\n      <td>12</td>\n      <td>1997.00</td>\n      <td>15600.0</td>\n      <td>49.6</td>\n    </tr>\n    <tr>\n      <td>13</td>\n      <td>1998.00</td>\n      <td>16000.0</td>\n      <td>50.0</td>\n    </tr>\n    <tr>\n      <td>14</td>\n      <td>1999.00</td>\n      <td>15300.0</td>\n      <td>50.8</td>\n    </tr>\n    <tr>\n      <td>15</td>\n      <td>2000.00</td>\n      <td>15000.0</td>\n      <td>51.7</td>\n    </tr>\n    <tr>\n      <td>16</td>\n      <td>2001.00</td>\n      <td>14200.0</td>\n      <td>51.7</td>\n    </tr>\n    <tr>\n      <td>17</td>\n      <td>2002.00</td>\n      <td>12500.0</td>\n      <td>51.4</td>\n    </tr>\n    <tr>\n      <td>18</td>\n      <td>2003.00</td>\n      <td>13400.0</td>\n      <td>50.8</td>\n    </tr>\n    <tr>\n      <td>19</td>\n      <td>2004.00</td>\n      <td>14500.0</td>\n      <td>49.4</td>\n    </tr>\n    <tr>\n      <td>20</td>\n      <td>2005.00</td>\n      <td>15600.0</td>\n      <td>47.9</td>\n    </tr>\n    <tr>\n      <td>21</td>\n      <td>2006.00</td>\n      <td>16700.0</td>\n      <td>46.7</td>\n    </tr>\n    <tr>\n      <td>22</td>\n      <td>2007.00</td>\n      <td>18000.0</td>\n      <td>45.8</td>\n    </tr>\n    <tr>\n      <td>23</td>\n      <td>2008.00</td>\n      <td>18600.0</td>\n      <td>44.9</td>\n    </tr>\n    <tr>\n      <td>24</td>\n      <td>2009.00</td>\n      <td>17300.0</td>\n      <td>44.0</td>\n    </tr>\n    <tr>\n      <td>25</td>\n      <td>2010.00</td>\n      <td>18900.0</td>\n      <td>43.0</td>\n    </tr>\n    <tr>\n      <td>26</td>\n      <td>2011.00</td>\n      <td>19800.0</td>\n      <td>42.3</td>\n    </tr>\n    <tr>\n      <td>27</td>\n      <td>2012.00</td>\n      <td>19400.0</td>\n      <td>41.8</td>\n    </tr>\n    <tr>\n      <td>28</td>\n      <td>2013.00</td>\n      <td>19600.0</td>\n      <td>41.6</td>\n    </tr>\n    <tr>\n      <td>29</td>\n      <td>2014.00</td>\n      <td>18900.0</td>\n      <td>41.6</td>\n    </tr>\n    <tr>\n      <td>30</td>\n      <td>2015.00</td>\n      <td>19200.0</td>\n      <td>41.8</td>\n    </tr>\n    <tr>\n      <td>31</td>\n      <td>2016.00</td>\n      <td>18600.0</td>\n      <td>42.1</td>\n    </tr>\n    <tr>\n      <td>32</td>\n      <td>2017.00</td>\n      <td>18900.0</td>\n      <td>42.3</td>\n    </tr>\n    <tr>\n      <td>33</td>\n      <td>2018.00</td>\n      <td>18300.0</td>\n      <td>42.4</td>\n    </tr>\n    <tr>\n      <td>34</td>\n      <td>2019.00</td>\n      <td>17500.0</td>\n      <td>42.4</td>\n    </tr>\n  </tbody>\n</table>\n</div>"
     },
     "metadata": {},
     "execution_count": 282
    }
   ],
   "source": [
    "df = arg.copy()\n",
    "row_num = df.index[df[\"year\"] == 1989][0] + 1\n",
    "row_val = df.loc[df[\"year\"] == 1989].copy()\n",
    "row_val.year = 1989.92\n",
    "row_val = row_val.values[0]\n",
    "\n",
    "df = insert_row(row_num, df, row_val) \n",
    "\n",
    "df\n"
   ]
  },
  {
   "cell_type": "code",
   "execution_count": 283,
   "metadata": {},
   "outputs": [
    {
     "output_type": "execute_result",
     "data": {
      "text/plain": [
       "       year    gdp   gini        president\n",
       "0   1986.00  12800  43.70         Alfonsín\n",
       "1   1987.00  12900  44.50         Alfonsín\n",
       "2   1988.00  12500  45.30         Alfonsín\n",
       "3   1989.00  11500  46.10         Alfonsín\n",
       "4   1989.50  11450  46.10         Alfonsín\n",
       "5   1990.00  11400  46.10        Menem (1)\n",
       "6   1991.00  12200  45.90        Menem (1)\n",
       "7   1992.00  13000  45.90        Menem (1)\n",
       "8   1993.00  13900  46.40        Menem (1)\n",
       "9   1993.92  14400  46.75        Menem (1)\n",
       "10  1994.00  14500  46.90        Menem (2)\n",
       "11  1995.00  14000  47.70        Menem (2)\n",
       "12  1996.00  14600  48.80        Menem (2)\n",
       "13  1997.00  15600  49.60        Menem (2)\n",
       "14  1998.00  16000  50.00        Menem (2)\n",
       "15  1998.92  15390  50.67        Menem (2)\n",
       "16  1999.00  15300  50.80        De la Rúa\n",
       "17  2000.00  15000  51.70        De la Rúa\n",
       "18  2001.00  14200  51.70        De la Rúa\n",
       "19  2001.92  14200  51.70        De la Rúa\n",
       "20  2002.00  12500  51.40          Duhalde\n",
       "21  2003.00  13400  50.80          Duhalde\n",
       "22  2003.50  13900  50.20          Duhalde\n",
       "23  2004.00  14500  49.40         Kirchner\n",
       "24  2005.00  15600  47.90         Kirchner\n",
       "25  2006.00  16700  46.70         Kirchner\n",
       "26  2007.00  18000  45.80         Kirchner\n",
       "27  2007.92  18500  45.20         Kirchner\n",
       "28  2008.00  18600  44.90  Cristina F. (1)\n",
       "29  2009.00  17300  44.00  Cristina F. (1)\n",
       "30  2010.00  18900  43.00  Cristina F. (1)\n",
       "31  2011.00  19800  42.30  Cristina F. (1)\n",
       "32  2011.92  19500  41.90  Cristina F. (1)\n",
       "33  2012.00  19400  41.80  Cristina F. (2)\n",
       "34  2013.00  19600  41.60  Cristina F. (2)\n",
       "35  2014.00  18900  41.60  Cristina F. (2)\n",
       "36  2014.92  19150  41.75  Cristina F. (2)\n",
       "37  2015.00  19200  41.80            Macri\n",
       "38  2016.00  18600  42.10            Macri\n",
       "39  2017.00  18900  42.30            Macri\n",
       "40  2018.00  18300  42.40            Macri\n",
       "41  2019.00  17500  42.40            Macri"
      ],
      "text/html": "<div>\n<style scoped>\n    .dataframe tbody tr th:only-of-type {\n        vertical-align: middle;\n    }\n\n    .dataframe tbody tr th {\n        vertical-align: top;\n    }\n\n    .dataframe thead th {\n        text-align: right;\n    }\n</style>\n<table border=\"1\" class=\"dataframe\">\n  <thead>\n    <tr style=\"text-align: right;\">\n      <th></th>\n      <th>year</th>\n      <th>gdp</th>\n      <th>gini</th>\n      <th>president</th>\n    </tr>\n  </thead>\n  <tbody>\n    <tr>\n      <td>0</td>\n      <td>1986.00</td>\n      <td>12800</td>\n      <td>43.70</td>\n      <td>Alfonsín</td>\n    </tr>\n    <tr>\n      <td>1</td>\n      <td>1987.00</td>\n      <td>12900</td>\n      <td>44.50</td>\n      <td>Alfonsín</td>\n    </tr>\n    <tr>\n      <td>2</td>\n      <td>1988.00</td>\n      <td>12500</td>\n      <td>45.30</td>\n      <td>Alfonsín</td>\n    </tr>\n    <tr>\n      <td>3</td>\n      <td>1989.00</td>\n      <td>11500</td>\n      <td>46.10</td>\n      <td>Alfonsín</td>\n    </tr>\n    <tr>\n      <td>4</td>\n      <td>1989.50</td>\n      <td>11450</td>\n      <td>46.10</td>\n      <td>Alfonsín</td>\n    </tr>\n    <tr>\n      <td>5</td>\n      <td>1990.00</td>\n      <td>11400</td>\n      <td>46.10</td>\n      <td>Menem (1)</td>\n    </tr>\n    <tr>\n      <td>6</td>\n      <td>1991.00</td>\n      <td>12200</td>\n      <td>45.90</td>\n      <td>Menem (1)</td>\n    </tr>\n    <tr>\n      <td>7</td>\n      <td>1992.00</td>\n      <td>13000</td>\n      <td>45.90</td>\n      <td>Menem (1)</td>\n    </tr>\n    <tr>\n      <td>8</td>\n      <td>1993.00</td>\n      <td>13900</td>\n      <td>46.40</td>\n      <td>Menem (1)</td>\n    </tr>\n    <tr>\n      <td>9</td>\n      <td>1993.92</td>\n      <td>14400</td>\n      <td>46.75</td>\n      <td>Menem (1)</td>\n    </tr>\n    <tr>\n      <td>10</td>\n      <td>1994.00</td>\n      <td>14500</td>\n      <td>46.90</td>\n      <td>Menem (2)</td>\n    </tr>\n    <tr>\n      <td>11</td>\n      <td>1995.00</td>\n      <td>14000</td>\n      <td>47.70</td>\n      <td>Menem (2)</td>\n    </tr>\n    <tr>\n      <td>12</td>\n      <td>1996.00</td>\n      <td>14600</td>\n      <td>48.80</td>\n      <td>Menem (2)</td>\n    </tr>\n    <tr>\n      <td>13</td>\n      <td>1997.00</td>\n      <td>15600</td>\n      <td>49.60</td>\n      <td>Menem (2)</td>\n    </tr>\n    <tr>\n      <td>14</td>\n      <td>1998.00</td>\n      <td>16000</td>\n      <td>50.00</td>\n      <td>Menem (2)</td>\n    </tr>\n    <tr>\n      <td>15</td>\n      <td>1998.92</td>\n      <td>15390</td>\n      <td>50.67</td>\n      <td>Menem (2)</td>\n    </tr>\n    <tr>\n      <td>16</td>\n      <td>1999.00</td>\n      <td>15300</td>\n      <td>50.80</td>\n      <td>De la Rúa</td>\n    </tr>\n    <tr>\n      <td>17</td>\n      <td>2000.00</td>\n      <td>15000</td>\n      <td>51.70</td>\n      <td>De la Rúa</td>\n    </tr>\n    <tr>\n      <td>18</td>\n      <td>2001.00</td>\n      <td>14200</td>\n      <td>51.70</td>\n      <td>De la Rúa</td>\n    </tr>\n    <tr>\n      <td>19</td>\n      <td>2001.92</td>\n      <td>14200</td>\n      <td>51.70</td>\n      <td>De la Rúa</td>\n    </tr>\n    <tr>\n      <td>20</td>\n      <td>2002.00</td>\n      <td>12500</td>\n      <td>51.40</td>\n      <td>Duhalde</td>\n    </tr>\n    <tr>\n      <td>21</td>\n      <td>2003.00</td>\n      <td>13400</td>\n      <td>50.80</td>\n      <td>Duhalde</td>\n    </tr>\n    <tr>\n      <td>22</td>\n      <td>2003.50</td>\n      <td>13900</td>\n      <td>50.20</td>\n      <td>Duhalde</td>\n    </tr>\n    <tr>\n      <td>23</td>\n      <td>2004.00</td>\n      <td>14500</td>\n      <td>49.40</td>\n      <td>Kirchner</td>\n    </tr>\n    <tr>\n      <td>24</td>\n      <td>2005.00</td>\n      <td>15600</td>\n      <td>47.90</td>\n      <td>Kirchner</td>\n    </tr>\n    <tr>\n      <td>25</td>\n      <td>2006.00</td>\n      <td>16700</td>\n      <td>46.70</td>\n      <td>Kirchner</td>\n    </tr>\n    <tr>\n      <td>26</td>\n      <td>2007.00</td>\n      <td>18000</td>\n      <td>45.80</td>\n      <td>Kirchner</td>\n    </tr>\n    <tr>\n      <td>27</td>\n      <td>2007.92</td>\n      <td>18500</td>\n      <td>45.20</td>\n      <td>Kirchner</td>\n    </tr>\n    <tr>\n      <td>28</td>\n      <td>2008.00</td>\n      <td>18600</td>\n      <td>44.90</td>\n      <td>Cristina F. (1)</td>\n    </tr>\n    <tr>\n      <td>29</td>\n      <td>2009.00</td>\n      <td>17300</td>\n      <td>44.00</td>\n      <td>Cristina F. (1)</td>\n    </tr>\n    <tr>\n      <td>30</td>\n      <td>2010.00</td>\n      <td>18900</td>\n      <td>43.00</td>\n      <td>Cristina F. (1)</td>\n    </tr>\n    <tr>\n      <td>31</td>\n      <td>2011.00</td>\n      <td>19800</td>\n      <td>42.30</td>\n      <td>Cristina F. (1)</td>\n    </tr>\n    <tr>\n      <td>32</td>\n      <td>2011.92</td>\n      <td>19500</td>\n      <td>41.90</td>\n      <td>Cristina F. (1)</td>\n    </tr>\n    <tr>\n      <td>33</td>\n      <td>2012.00</td>\n      <td>19400</td>\n      <td>41.80</td>\n      <td>Cristina F. (2)</td>\n    </tr>\n    <tr>\n      <td>34</td>\n      <td>2013.00</td>\n      <td>19600</td>\n      <td>41.60</td>\n      <td>Cristina F. (2)</td>\n    </tr>\n    <tr>\n      <td>35</td>\n      <td>2014.00</td>\n      <td>18900</td>\n      <td>41.60</td>\n      <td>Cristina F. (2)</td>\n    </tr>\n    <tr>\n      <td>36</td>\n      <td>2014.92</td>\n      <td>19150</td>\n      <td>41.75</td>\n      <td>Cristina F. (2)</td>\n    </tr>\n    <tr>\n      <td>37</td>\n      <td>2015.00</td>\n      <td>19200</td>\n      <td>41.80</td>\n      <td>Macri</td>\n    </tr>\n    <tr>\n      <td>38</td>\n      <td>2016.00</td>\n      <td>18600</td>\n      <td>42.10</td>\n      <td>Macri</td>\n    </tr>\n    <tr>\n      <td>39</td>\n      <td>2017.00</td>\n      <td>18900</td>\n      <td>42.30</td>\n      <td>Macri</td>\n    </tr>\n    <tr>\n      <td>40</td>\n      <td>2018.00</td>\n      <td>18300</td>\n      <td>42.40</td>\n      <td>Macri</td>\n    </tr>\n    <tr>\n      <td>41</td>\n      <td>2019.00</td>\n      <td>17500</td>\n      <td>42.40</td>\n      <td>Macri</td>\n    </tr>\n  </tbody>\n</table>\n</div>"
     },
     "metadata": {},
     "execution_count": 283
    }
   ],
   "source": [
    "import math\n",
    "\n",
    "\n",
    "df = arg.copy()\n",
    "# row_num = df.index[df[\"year\"] == 1989][0] + 1\n",
    "# row_val = df.loc[df[\"year\"] == 1989].copy()\n",
    "# row_val.year = 1989.92\n",
    "# row_val = row_val.values[0]\n",
    "\n",
    "# df = insert_row(row_num, df, row_val) \n",
    "\n",
    "# df\n",
    "\n",
    "df[\"president\"] = list(presidentials.keys())[0]\n",
    "\n",
    "for presi in presidentials:\n",
    "    if \"to\" in presidentials[presi].keys():\n",
    "        \n",
    "        floor_to = math.floor(presidentials[presi][\"to\"])\n",
    "        # print(presi, floor_to)\n",
    "        row_num = df.index[df[\"year\"] == floor_to][0] + 1\n",
    "        row_val = df.loc[df[\"year\"] == floor_to].copy()\n",
    "        row_val.year = presidentials[presi][\"to\"]\n",
    "        row_val.gdp = presidentials[presi][\"end_gdp\"]\n",
    "        row_val.gini = presidentials[presi][\"end_gini\"]\n",
    "\n",
    "        # row_val = row_val.values[0]\n",
    "\n",
    "        df = insert_row(row_num, df, row_val.values[0]) \n",
    "\n",
    "    df.loc[df.year > presidentials[presi][\"from\"], \"president\"] = presi\n",
    "\n",
    "df\n"
   ]
  },
  {
   "cell_type": "code",
   "execution_count": 284,
   "metadata": {},
   "outputs": [
    {
     "output_type": "execute_result",
     "data": {
      "text/plain": [
       "     year    gdp  gini president\n",
       "0  1986.0  12800  43.7  Alfonsín\n",
       "1  1987.0  12900  44.5  Alfonsín\n",
       "2  1988.0  12500  45.3  Alfonsín\n",
       "3  1989.0  11500  46.1  Alfonsín\n",
       "4  1989.5  11450  46.1  Alfonsín"
      ],
      "text/html": "<div>\n<style scoped>\n    .dataframe tbody tr th:only-of-type {\n        vertical-align: middle;\n    }\n\n    .dataframe tbody tr th {\n        vertical-align: top;\n    }\n\n    .dataframe thead th {\n        text-align: right;\n    }\n</style>\n<table border=\"1\" class=\"dataframe\">\n  <thead>\n    <tr style=\"text-align: right;\">\n      <th></th>\n      <th>year</th>\n      <th>gdp</th>\n      <th>gini</th>\n      <th>president</th>\n    </tr>\n  </thead>\n  <tbody>\n    <tr>\n      <td>0</td>\n      <td>1986.0</td>\n      <td>12800</td>\n      <td>43.7</td>\n      <td>Alfonsín</td>\n    </tr>\n    <tr>\n      <td>1</td>\n      <td>1987.0</td>\n      <td>12900</td>\n      <td>44.5</td>\n      <td>Alfonsín</td>\n    </tr>\n    <tr>\n      <td>2</td>\n      <td>1988.0</td>\n      <td>12500</td>\n      <td>45.3</td>\n      <td>Alfonsín</td>\n    </tr>\n    <tr>\n      <td>3</td>\n      <td>1989.0</td>\n      <td>11500</td>\n      <td>46.1</td>\n      <td>Alfonsín</td>\n    </tr>\n    <tr>\n      <td>4</td>\n      <td>1989.5</td>\n      <td>11450</td>\n      <td>46.1</td>\n      <td>Alfonsín</td>\n    </tr>\n  </tbody>\n</table>\n</div>"
     },
     "metadata": {},
     "execution_count": 284
    }
   ],
   "source": [
    "# all = pd.read_csv(\"assets/argentina.csv\", sep='\\t')\n",
    "all = df\n",
    "\n",
    "all.head()"
   ]
  },
  {
   "cell_type": "code",
   "execution_count": 285,
   "metadata": {},
   "outputs": [
    {
     "output_type": "display_data",
     "data": {
      "application/vnd.plotly.v1+json": {
       "config": {
        "plotlyServerURL": "https://plot.ly"
       },
       "data": [
        {
         "hoverinfo": [
          "text"
         ],
         "line": {
          "shape": "spline"
         },
         "marker": {
          "color": "LightSkyBlue",
          "line": {
           "color": "MediumPurple",
           "width": 1
          },
          "size": 5
         },
         "mode": "lines+markers+text",
         "showlegend": false,
         "text": [
          "1986",
          "",
          "1988",
          "",
          "1990",
          "1991",
          "1992",
          "1993",
          "1994",
          "1995",
          "",
          "1997",
          "1998",
          "1999",
          "2000",
          "2001",
          "2002",
          "2003",
          "2004",
          "2005",
          "2006",
          "2007",
          "2008",
          "2009",
          "2010",
          "2011",
          "",
          "2013",
          "2014",
          "",
          "",
          "2017",
          "2018"
         ],
         "textposition": "top center",
         "type": "scatter",
         "x": [
          12800,
          12900,
          12500,
          11500,
          11400,
          12200,
          13000,
          13900,
          14500,
          14000,
          14600,
          15600,
          16000,
          15300,
          15000,
          14200,
          12500,
          13400,
          14500,
          15600,
          16700,
          18000,
          18600,
          17300,
          18900,
          19800,
          19400,
          19600,
          18900,
          19200,
          18600,
          18900,
          18300,
          17500
         ],
         "y": [
          43.7,
          44.5,
          45.3,
          46.1,
          46.1,
          45.9,
          45.9,
          46.4,
          46.9,
          47.7,
          48.8,
          49.6,
          50,
          50.8,
          51.7,
          51.7,
          51.4,
          50.8,
          49.4,
          47.9,
          46.7,
          45.8,
          44.9,
          44,
          43,
          42.3,
          41.8,
          41.6,
          41.6,
          41.8,
          42.1,
          42.3,
          42.4,
          42.4
         ]
        }
       ],
       "layout": {
        "height": 600,
        "template": {
         "data": {
          "bar": [
           {
            "error_x": {
             "color": "#2a3f5f"
            },
            "error_y": {
             "color": "#2a3f5f"
            },
            "marker": {
             "line": {
              "color": "#E5ECF6",
              "width": 0.5
             }
            },
            "type": "bar"
           }
          ],
          "barpolar": [
           {
            "marker": {
             "line": {
              "color": "#E5ECF6",
              "width": 0.5
             }
            },
            "type": "barpolar"
           }
          ],
          "carpet": [
           {
            "aaxis": {
             "endlinecolor": "#2a3f5f",
             "gridcolor": "white",
             "linecolor": "white",
             "minorgridcolor": "white",
             "startlinecolor": "#2a3f5f"
            },
            "baxis": {
             "endlinecolor": "#2a3f5f",
             "gridcolor": "white",
             "linecolor": "white",
             "minorgridcolor": "white",
             "startlinecolor": "#2a3f5f"
            },
            "type": "carpet"
           }
          ],
          "choropleth": [
           {
            "colorbar": {
             "outlinewidth": 0,
             "ticks": ""
            },
            "type": "choropleth"
           }
          ],
          "contour": [
           {
            "colorbar": {
             "outlinewidth": 0,
             "ticks": ""
            },
            "colorscale": [
             [
              0,
              "#0d0887"
             ],
             [
              0.1111111111111111,
              "#46039f"
             ],
             [
              0.2222222222222222,
              "#7201a8"
             ],
             [
              0.3333333333333333,
              "#9c179e"
             ],
             [
              0.4444444444444444,
              "#bd3786"
             ],
             [
              0.5555555555555556,
              "#d8576b"
             ],
             [
              0.6666666666666666,
              "#ed7953"
             ],
             [
              0.7777777777777778,
              "#fb9f3a"
             ],
             [
              0.8888888888888888,
              "#fdca26"
             ],
             [
              1,
              "#f0f921"
             ]
            ],
            "type": "contour"
           }
          ],
          "contourcarpet": [
           {
            "colorbar": {
             "outlinewidth": 0,
             "ticks": ""
            },
            "type": "contourcarpet"
           }
          ],
          "heatmap": [
           {
            "colorbar": {
             "outlinewidth": 0,
             "ticks": ""
            },
            "colorscale": [
             [
              0,
              "#0d0887"
             ],
             [
              0.1111111111111111,
              "#46039f"
             ],
             [
              0.2222222222222222,
              "#7201a8"
             ],
             [
              0.3333333333333333,
              "#9c179e"
             ],
             [
              0.4444444444444444,
              "#bd3786"
             ],
             [
              0.5555555555555556,
              "#d8576b"
             ],
             [
              0.6666666666666666,
              "#ed7953"
             ],
             [
              0.7777777777777778,
              "#fb9f3a"
             ],
             [
              0.8888888888888888,
              "#fdca26"
             ],
             [
              1,
              "#f0f921"
             ]
            ],
            "type": "heatmap"
           }
          ],
          "heatmapgl": [
           {
            "colorbar": {
             "outlinewidth": 0,
             "ticks": ""
            },
            "colorscale": [
             [
              0,
              "#0d0887"
             ],
             [
              0.1111111111111111,
              "#46039f"
             ],
             [
              0.2222222222222222,
              "#7201a8"
             ],
             [
              0.3333333333333333,
              "#9c179e"
             ],
             [
              0.4444444444444444,
              "#bd3786"
             ],
             [
              0.5555555555555556,
              "#d8576b"
             ],
             [
              0.6666666666666666,
              "#ed7953"
             ],
             [
              0.7777777777777778,
              "#fb9f3a"
             ],
             [
              0.8888888888888888,
              "#fdca26"
             ],
             [
              1,
              "#f0f921"
             ]
            ],
            "type": "heatmapgl"
           }
          ],
          "histogram": [
           {
            "marker": {
             "colorbar": {
              "outlinewidth": 0,
              "ticks": ""
             }
            },
            "type": "histogram"
           }
          ],
          "histogram2d": [
           {
            "colorbar": {
             "outlinewidth": 0,
             "ticks": ""
            },
            "colorscale": [
             [
              0,
              "#0d0887"
             ],
             [
              0.1111111111111111,
              "#46039f"
             ],
             [
              0.2222222222222222,
              "#7201a8"
             ],
             [
              0.3333333333333333,
              "#9c179e"
             ],
             [
              0.4444444444444444,
              "#bd3786"
             ],
             [
              0.5555555555555556,
              "#d8576b"
             ],
             [
              0.6666666666666666,
              "#ed7953"
             ],
             [
              0.7777777777777778,
              "#fb9f3a"
             ],
             [
              0.8888888888888888,
              "#fdca26"
             ],
             [
              1,
              "#f0f921"
             ]
            ],
            "type": "histogram2d"
           }
          ],
          "histogram2dcontour": [
           {
            "colorbar": {
             "outlinewidth": 0,
             "ticks": ""
            },
            "colorscale": [
             [
              0,
              "#0d0887"
             ],
             [
              0.1111111111111111,
              "#46039f"
             ],
             [
              0.2222222222222222,
              "#7201a8"
             ],
             [
              0.3333333333333333,
              "#9c179e"
             ],
             [
              0.4444444444444444,
              "#bd3786"
             ],
             [
              0.5555555555555556,
              "#d8576b"
             ],
             [
              0.6666666666666666,
              "#ed7953"
             ],
             [
              0.7777777777777778,
              "#fb9f3a"
             ],
             [
              0.8888888888888888,
              "#fdca26"
             ],
             [
              1,
              "#f0f921"
             ]
            ],
            "type": "histogram2dcontour"
           }
          ],
          "mesh3d": [
           {
            "colorbar": {
             "outlinewidth": 0,
             "ticks": ""
            },
            "type": "mesh3d"
           }
          ],
          "parcoords": [
           {
            "line": {
             "colorbar": {
              "outlinewidth": 0,
              "ticks": ""
             }
            },
            "type": "parcoords"
           }
          ],
          "scatter": [
           {
            "marker": {
             "colorbar": {
              "outlinewidth": 0,
              "ticks": ""
             }
            },
            "type": "scatter"
           }
          ],
          "scatter3d": [
           {
            "line": {
             "colorbar": {
              "outlinewidth": 0,
              "ticks": ""
             }
            },
            "marker": {
             "colorbar": {
              "outlinewidth": 0,
              "ticks": ""
             }
            },
            "type": "scatter3d"
           }
          ],
          "scattercarpet": [
           {
            "marker": {
             "colorbar": {
              "outlinewidth": 0,
              "ticks": ""
             }
            },
            "type": "scattercarpet"
           }
          ],
          "scattergeo": [
           {
            "marker": {
             "colorbar": {
              "outlinewidth": 0,
              "ticks": ""
             }
            },
            "type": "scattergeo"
           }
          ],
          "scattergl": [
           {
            "marker": {
             "colorbar": {
              "outlinewidth": 0,
              "ticks": ""
             }
            },
            "type": "scattergl"
           }
          ],
          "scattermapbox": [
           {
            "marker": {
             "colorbar": {
              "outlinewidth": 0,
              "ticks": ""
             }
            },
            "type": "scattermapbox"
           }
          ],
          "scatterpolar": [
           {
            "marker": {
             "colorbar": {
              "outlinewidth": 0,
              "ticks": ""
             }
            },
            "type": "scatterpolar"
           }
          ],
          "scatterpolargl": [
           {
            "marker": {
             "colorbar": {
              "outlinewidth": 0,
              "ticks": ""
             }
            },
            "type": "scatterpolargl"
           }
          ],
          "scatterternary": [
           {
            "marker": {
             "colorbar": {
              "outlinewidth": 0,
              "ticks": ""
             }
            },
            "type": "scatterternary"
           }
          ],
          "surface": [
           {
            "colorbar": {
             "outlinewidth": 0,
             "ticks": ""
            },
            "colorscale": [
             [
              0,
              "#0d0887"
             ],
             [
              0.1111111111111111,
              "#46039f"
             ],
             [
              0.2222222222222222,
              "#7201a8"
             ],
             [
              0.3333333333333333,
              "#9c179e"
             ],
             [
              0.4444444444444444,
              "#bd3786"
             ],
             [
              0.5555555555555556,
              "#d8576b"
             ],
             [
              0.6666666666666666,
              "#ed7953"
             ],
             [
              0.7777777777777778,
              "#fb9f3a"
             ],
             [
              0.8888888888888888,
              "#fdca26"
             ],
             [
              1,
              "#f0f921"
             ]
            ],
            "type": "surface"
           }
          ],
          "table": [
           {
            "cells": {
             "fill": {
              "color": "#EBF0F8"
             },
             "line": {
              "color": "white"
             }
            },
            "header": {
             "fill": {
              "color": "#C8D4E3"
             },
             "line": {
              "color": "white"
             }
            },
            "type": "table"
           }
          ]
         },
         "layout": {
          "annotationdefaults": {
           "arrowcolor": "#2a3f5f",
           "arrowhead": 0,
           "arrowwidth": 1
          },
          "colorscale": {
           "diverging": [
            [
             0,
             "#8e0152"
            ],
            [
             0.1,
             "#c51b7d"
            ],
            [
             0.2,
             "#de77ae"
            ],
            [
             0.3,
             "#f1b6da"
            ],
            [
             0.4,
             "#fde0ef"
            ],
            [
             0.5,
             "#f7f7f7"
            ],
            [
             0.6,
             "#e6f5d0"
            ],
            [
             0.7,
             "#b8e186"
            ],
            [
             0.8,
             "#7fbc41"
            ],
            [
             0.9,
             "#4d9221"
            ],
            [
             1,
             "#276419"
            ]
           ],
           "sequential": [
            [
             0,
             "#0d0887"
            ],
            [
             0.1111111111111111,
             "#46039f"
            ],
            [
             0.2222222222222222,
             "#7201a8"
            ],
            [
             0.3333333333333333,
             "#9c179e"
            ],
            [
             0.4444444444444444,
             "#bd3786"
            ],
            [
             0.5555555555555556,
             "#d8576b"
            ],
            [
             0.6666666666666666,
             "#ed7953"
            ],
            [
             0.7777777777777778,
             "#fb9f3a"
            ],
            [
             0.8888888888888888,
             "#fdca26"
            ],
            [
             1,
             "#f0f921"
            ]
           ],
           "sequentialminus": [
            [
             0,
             "#0d0887"
            ],
            [
             0.1111111111111111,
             "#46039f"
            ],
            [
             0.2222222222222222,
             "#7201a8"
            ],
            [
             0.3333333333333333,
             "#9c179e"
            ],
            [
             0.4444444444444444,
             "#bd3786"
            ],
            [
             0.5555555555555556,
             "#d8576b"
            ],
            [
             0.6666666666666666,
             "#ed7953"
            ],
            [
             0.7777777777777778,
             "#fb9f3a"
            ],
            [
             0.8888888888888888,
             "#fdca26"
            ],
            [
             1,
             "#f0f921"
            ]
           ]
          },
          "colorway": [
           "#636efa",
           "#EF553B",
           "#00cc96",
           "#ab63fa",
           "#FFA15A",
           "#19d3f3",
           "#FF6692",
           "#B6E880",
           "#FF97FF",
           "#FECB52"
          ],
          "font": {
           "color": "#2a3f5f"
          },
          "geo": {
           "bgcolor": "white",
           "lakecolor": "white",
           "landcolor": "#E5ECF6",
           "showlakes": true,
           "showland": true,
           "subunitcolor": "white"
          },
          "hoverlabel": {
           "align": "left"
          },
          "hovermode": "closest",
          "mapbox": {
           "style": "light"
          },
          "paper_bgcolor": "white",
          "plot_bgcolor": "#E5ECF6",
          "polar": {
           "angularaxis": {
            "gridcolor": "white",
            "linecolor": "white",
            "ticks": ""
           },
           "bgcolor": "#E5ECF6",
           "radialaxis": {
            "gridcolor": "white",
            "linecolor": "white",
            "ticks": ""
           }
          },
          "scene": {
           "xaxis": {
            "backgroundcolor": "#E5ECF6",
            "gridcolor": "white",
            "gridwidth": 2,
            "linecolor": "white",
            "showbackground": true,
            "ticks": "",
            "zerolinecolor": "white"
           },
           "yaxis": {
            "backgroundcolor": "#E5ECF6",
            "gridcolor": "white",
            "gridwidth": 2,
            "linecolor": "white",
            "showbackground": true,
            "ticks": "",
            "zerolinecolor": "white"
           },
           "zaxis": {
            "backgroundcolor": "#E5ECF6",
            "gridcolor": "white",
            "gridwidth": 2,
            "linecolor": "white",
            "showbackground": true,
            "ticks": "",
            "zerolinecolor": "white"
           }
          },
          "shapedefaults": {
           "line": {
            "color": "#2a3f5f"
           }
          },
          "ternary": {
           "aaxis": {
            "gridcolor": "white",
            "linecolor": "white",
            "ticks": ""
           },
           "baxis": {
            "gridcolor": "white",
            "linecolor": "white",
            "ticks": ""
           },
           "bgcolor": "#E5ECF6",
           "caxis": {
            "gridcolor": "white",
            "linecolor": "white",
            "ticks": ""
           }
          },
          "title": {
           "x": 0.05
          },
          "xaxis": {
           "automargin": true,
           "gridcolor": "white",
           "linecolor": "white",
           "ticks": "",
           "zerolinecolor": "white",
           "zerolinewidth": 2
          },
          "yaxis": {
           "automargin": true,
           "gridcolor": "white",
           "linecolor": "white",
           "ticks": "",
           "zerolinecolor": "white",
           "zerolinewidth": 2
          }
         }
        },
        "title": {
         "text": "GDP and Gini (Argentina 1986 - 2019)"
        },
        "width": 1000
       }
      }
     },
     "metadata": {}
    }
   ],
   "source": [
    "hoverinfo = ['text']\n",
    "line_shape = 'spline'\n",
    "mode = 'lines+markers+text'\n",
    "marker=dict(\n",
    "    color='LightSkyBlue',\n",
    "    size=5,\n",
    "    line=dict(\n",
    "        color='MediumPurple',\n",
    "        width=1\n",
    "    )\n",
    ")\n",
    "showlegend=False\n",
    "\n",
    "fig = go.Figure()\n",
    "\n",
    "years = np.array([1986,'',1988,'',1990,1991,1992,1993,1994,1995,'',1997,1998,1999,2000,2001,2002,2003,2004,2005,2006,2007,2008,2009,2010,2011,'',2013,2014,'','',2017,2018])\n",
    "\n",
    "\n",
    "fig.add_trace(go.Scatter(\n",
    "    x = arg.gdp,\n",
    "    y = arg.gini,\n",
    "    text = years,\n",
    "    hoverinfo = hoverinfo,\n",
    "    line_shape = line_shape,\n",
    "    mode = mode,\n",
    "    marker = marker,\n",
    "    showlegend = showlegend\n",
    "))\n",
    "\n",
    "# fig.update_annotations(visible=True)\n",
    "fig.update_traces(textposition='top center')\n",
    "\n",
    "\n",
    "\n",
    "fig.update_layout(\n",
    "    height=600,\n",
    "    width=1000,\n",
    "    title_text='GDP and Gini (Argentina 1986 - 2019)'\n",
    ")\n",
    "\n",
    "\n",
    "fig.show()"
   ]
  },
  {
   "cell_type": "code",
   "execution_count": 286,
   "metadata": {},
   "outputs": [],
   "source": [
    "years_presis = np.array([1986, 1987, 1988, 1989, 189.5, 1990, 1991, 1992, 1993, 1993.92, 1994, 1995, 1996, 1997, 1998, 1998.92, 1999, 2000, 2001, 2002, 2003, 2003.5, 2004, 2005, 2006, 2007, 2007.92, 2008, 2009, 2010, 2011, 2011.92, 2012, 2013, 2014, 2014.92, 2015, 2016, 2017, 2018])\n",
    "\n",
    "years = np.array([1986,'',1988,'',1990,1991,1992,1993,1994,1995,'',1997,1998,1999,2000,2001,2002,2003,2004,2005,2006,2007,2008,2009,2010,2011,'',2013,2014,'','',2017,2018])"
   ]
  },
  {
   "cell_type": "code",
   "execution_count": 287,
   "metadata": {},
   "outputs": [
    {
     "output_type": "display_data",
     "data": {
      "application/vnd.plotly.v1+json": {
       "config": {
        "plotlyServerURL": "https://plot.ly"
       },
       "data": [
        {
         "hoverinfo": [
          "text"
         ],
         "line": {
          "shape": "spline"
         },
         "marker": {
          "color": "LightSkyBlue",
          "line": {
           "color": "MediumPurple",
           "width": 1
          },
          "size": 5
         },
         "mode": "lines+markers+text",
         "showlegend": false,
         "text": [
          "1986",
          "",
          "1988",
          "",
          "1990",
          "1991",
          "1992",
          "1993",
          "1994",
          "1995",
          "",
          "1997",
          "1998",
          "1999",
          "2000",
          "2001",
          "2002",
          "2003",
          "2004",
          "2005",
          "2006",
          "2007",
          "2008",
          "2009",
          "2010",
          "2011",
          "",
          "2013",
          "2014",
          "",
          "",
          "2017",
          "2018"
         ],
         "textposition": "top center",
         "type": "scatter",
         "x": [
          12800,
          12900,
          12500,
          11500,
          11400,
          12200,
          13000,
          13900,
          14500,
          14000,
          14600,
          15600,
          16000,
          15300,
          15000,
          14200,
          12500,
          13400,
          14500,
          15600,
          16700,
          18000,
          18600,
          17300,
          18900,
          19800,
          19400,
          19600,
          18900,
          19200,
          18600,
          18900,
          18300,
          17500
         ],
         "y": [
          43.7,
          44.5,
          45.3,
          46.1,
          46.1,
          45.9,
          45.9,
          46.4,
          46.9,
          47.7,
          48.8,
          49.6,
          50,
          50.8,
          51.7,
          51.7,
          51.4,
          50.8,
          49.4,
          47.9,
          46.7,
          45.8,
          44.9,
          44,
          43,
          42.3,
          41.8,
          41.6,
          41.6,
          41.8,
          42.1,
          42.3,
          42.4,
          42.4
         ]
        }
       ],
       "layout": {
        "height": 600,
        "template": {
         "data": {
          "bar": [
           {
            "error_x": {
             "color": "#2a3f5f"
            },
            "error_y": {
             "color": "#2a3f5f"
            },
            "marker": {
             "line": {
              "color": "#E5ECF6",
              "width": 0.5
             }
            },
            "type": "bar"
           }
          ],
          "barpolar": [
           {
            "marker": {
             "line": {
              "color": "#E5ECF6",
              "width": 0.5
             }
            },
            "type": "barpolar"
           }
          ],
          "carpet": [
           {
            "aaxis": {
             "endlinecolor": "#2a3f5f",
             "gridcolor": "white",
             "linecolor": "white",
             "minorgridcolor": "white",
             "startlinecolor": "#2a3f5f"
            },
            "baxis": {
             "endlinecolor": "#2a3f5f",
             "gridcolor": "white",
             "linecolor": "white",
             "minorgridcolor": "white",
             "startlinecolor": "#2a3f5f"
            },
            "type": "carpet"
           }
          ],
          "choropleth": [
           {
            "colorbar": {
             "outlinewidth": 0,
             "ticks": ""
            },
            "type": "choropleth"
           }
          ],
          "contour": [
           {
            "colorbar": {
             "outlinewidth": 0,
             "ticks": ""
            },
            "colorscale": [
             [
              0,
              "#0d0887"
             ],
             [
              0.1111111111111111,
              "#46039f"
             ],
             [
              0.2222222222222222,
              "#7201a8"
             ],
             [
              0.3333333333333333,
              "#9c179e"
             ],
             [
              0.4444444444444444,
              "#bd3786"
             ],
             [
              0.5555555555555556,
              "#d8576b"
             ],
             [
              0.6666666666666666,
              "#ed7953"
             ],
             [
              0.7777777777777778,
              "#fb9f3a"
             ],
             [
              0.8888888888888888,
              "#fdca26"
             ],
             [
              1,
              "#f0f921"
             ]
            ],
            "type": "contour"
           }
          ],
          "contourcarpet": [
           {
            "colorbar": {
             "outlinewidth": 0,
             "ticks": ""
            },
            "type": "contourcarpet"
           }
          ],
          "heatmap": [
           {
            "colorbar": {
             "outlinewidth": 0,
             "ticks": ""
            },
            "colorscale": [
             [
              0,
              "#0d0887"
             ],
             [
              0.1111111111111111,
              "#46039f"
             ],
             [
              0.2222222222222222,
              "#7201a8"
             ],
             [
              0.3333333333333333,
              "#9c179e"
             ],
             [
              0.4444444444444444,
              "#bd3786"
             ],
             [
              0.5555555555555556,
              "#d8576b"
             ],
             [
              0.6666666666666666,
              "#ed7953"
             ],
             [
              0.7777777777777778,
              "#fb9f3a"
             ],
             [
              0.8888888888888888,
              "#fdca26"
             ],
             [
              1,
              "#f0f921"
             ]
            ],
            "type": "heatmap"
           }
          ],
          "heatmapgl": [
           {
            "colorbar": {
             "outlinewidth": 0,
             "ticks": ""
            },
            "colorscale": [
             [
              0,
              "#0d0887"
             ],
             [
              0.1111111111111111,
              "#46039f"
             ],
             [
              0.2222222222222222,
              "#7201a8"
             ],
             [
              0.3333333333333333,
              "#9c179e"
             ],
             [
              0.4444444444444444,
              "#bd3786"
             ],
             [
              0.5555555555555556,
              "#d8576b"
             ],
             [
              0.6666666666666666,
              "#ed7953"
             ],
             [
              0.7777777777777778,
              "#fb9f3a"
             ],
             [
              0.8888888888888888,
              "#fdca26"
             ],
             [
              1,
              "#f0f921"
             ]
            ],
            "type": "heatmapgl"
           }
          ],
          "histogram": [
           {
            "marker": {
             "colorbar": {
              "outlinewidth": 0,
              "ticks": ""
             }
            },
            "type": "histogram"
           }
          ],
          "histogram2d": [
           {
            "colorbar": {
             "outlinewidth": 0,
             "ticks": ""
            },
            "colorscale": [
             [
              0,
              "#0d0887"
             ],
             [
              0.1111111111111111,
              "#46039f"
             ],
             [
              0.2222222222222222,
              "#7201a8"
             ],
             [
              0.3333333333333333,
              "#9c179e"
             ],
             [
              0.4444444444444444,
              "#bd3786"
             ],
             [
              0.5555555555555556,
              "#d8576b"
             ],
             [
              0.6666666666666666,
              "#ed7953"
             ],
             [
              0.7777777777777778,
              "#fb9f3a"
             ],
             [
              0.8888888888888888,
              "#fdca26"
             ],
             [
              1,
              "#f0f921"
             ]
            ],
            "type": "histogram2d"
           }
          ],
          "histogram2dcontour": [
           {
            "colorbar": {
             "outlinewidth": 0,
             "ticks": ""
            },
            "colorscale": [
             [
              0,
              "#0d0887"
             ],
             [
              0.1111111111111111,
              "#46039f"
             ],
             [
              0.2222222222222222,
              "#7201a8"
             ],
             [
              0.3333333333333333,
              "#9c179e"
             ],
             [
              0.4444444444444444,
              "#bd3786"
             ],
             [
              0.5555555555555556,
              "#d8576b"
             ],
             [
              0.6666666666666666,
              "#ed7953"
             ],
             [
              0.7777777777777778,
              "#fb9f3a"
             ],
             [
              0.8888888888888888,
              "#fdca26"
             ],
             [
              1,
              "#f0f921"
             ]
            ],
            "type": "histogram2dcontour"
           }
          ],
          "mesh3d": [
           {
            "colorbar": {
             "outlinewidth": 0,
             "ticks": ""
            },
            "type": "mesh3d"
           }
          ],
          "parcoords": [
           {
            "line": {
             "colorbar": {
              "outlinewidth": 0,
              "ticks": ""
             }
            },
            "type": "parcoords"
           }
          ],
          "scatter": [
           {
            "marker": {
             "colorbar": {
              "outlinewidth": 0,
              "ticks": ""
             }
            },
            "type": "scatter"
           }
          ],
          "scatter3d": [
           {
            "line": {
             "colorbar": {
              "outlinewidth": 0,
              "ticks": ""
             }
            },
            "marker": {
             "colorbar": {
              "outlinewidth": 0,
              "ticks": ""
             }
            },
            "type": "scatter3d"
           }
          ],
          "scattercarpet": [
           {
            "marker": {
             "colorbar": {
              "outlinewidth": 0,
              "ticks": ""
             }
            },
            "type": "scattercarpet"
           }
          ],
          "scattergeo": [
           {
            "marker": {
             "colorbar": {
              "outlinewidth": 0,
              "ticks": ""
             }
            },
            "type": "scattergeo"
           }
          ],
          "scattergl": [
           {
            "marker": {
             "colorbar": {
              "outlinewidth": 0,
              "ticks": ""
             }
            },
            "type": "scattergl"
           }
          ],
          "scattermapbox": [
           {
            "marker": {
             "colorbar": {
              "outlinewidth": 0,
              "ticks": ""
             }
            },
            "type": "scattermapbox"
           }
          ],
          "scatterpolar": [
           {
            "marker": {
             "colorbar": {
              "outlinewidth": 0,
              "ticks": ""
             }
            },
            "type": "scatterpolar"
           }
          ],
          "scatterpolargl": [
           {
            "marker": {
             "colorbar": {
              "outlinewidth": 0,
              "ticks": ""
             }
            },
            "type": "scatterpolargl"
           }
          ],
          "scatterternary": [
           {
            "marker": {
             "colorbar": {
              "outlinewidth": 0,
              "ticks": ""
             }
            },
            "type": "scatterternary"
           }
          ],
          "surface": [
           {
            "colorbar": {
             "outlinewidth": 0,
             "ticks": ""
            },
            "colorscale": [
             [
              0,
              "#0d0887"
             ],
             [
              0.1111111111111111,
              "#46039f"
             ],
             [
              0.2222222222222222,
              "#7201a8"
             ],
             [
              0.3333333333333333,
              "#9c179e"
             ],
             [
              0.4444444444444444,
              "#bd3786"
             ],
             [
              0.5555555555555556,
              "#d8576b"
             ],
             [
              0.6666666666666666,
              "#ed7953"
             ],
             [
              0.7777777777777778,
              "#fb9f3a"
             ],
             [
              0.8888888888888888,
              "#fdca26"
             ],
             [
              1,
              "#f0f921"
             ]
            ],
            "type": "surface"
           }
          ],
          "table": [
           {
            "cells": {
             "fill": {
              "color": "#EBF0F8"
             },
             "line": {
              "color": "white"
             }
            },
            "header": {
             "fill": {
              "color": "#C8D4E3"
             },
             "line": {
              "color": "white"
             }
            },
            "type": "table"
           }
          ]
         },
         "layout": {
          "annotationdefaults": {
           "arrowcolor": "#2a3f5f",
           "arrowhead": 0,
           "arrowwidth": 1
          },
          "colorscale": {
           "diverging": [
            [
             0,
             "#8e0152"
            ],
            [
             0.1,
             "#c51b7d"
            ],
            [
             0.2,
             "#de77ae"
            ],
            [
             0.3,
             "#f1b6da"
            ],
            [
             0.4,
             "#fde0ef"
            ],
            [
             0.5,
             "#f7f7f7"
            ],
            [
             0.6,
             "#e6f5d0"
            ],
            [
             0.7,
             "#b8e186"
            ],
            [
             0.8,
             "#7fbc41"
            ],
            [
             0.9,
             "#4d9221"
            ],
            [
             1,
             "#276419"
            ]
           ],
           "sequential": [
            [
             0,
             "#0d0887"
            ],
            [
             0.1111111111111111,
             "#46039f"
            ],
            [
             0.2222222222222222,
             "#7201a8"
            ],
            [
             0.3333333333333333,
             "#9c179e"
            ],
            [
             0.4444444444444444,
             "#bd3786"
            ],
            [
             0.5555555555555556,
             "#d8576b"
            ],
            [
             0.6666666666666666,
             "#ed7953"
            ],
            [
             0.7777777777777778,
             "#fb9f3a"
            ],
            [
             0.8888888888888888,
             "#fdca26"
            ],
            [
             1,
             "#f0f921"
            ]
           ],
           "sequentialminus": [
            [
             0,
             "#0d0887"
            ],
            [
             0.1111111111111111,
             "#46039f"
            ],
            [
             0.2222222222222222,
             "#7201a8"
            ],
            [
             0.3333333333333333,
             "#9c179e"
            ],
            [
             0.4444444444444444,
             "#bd3786"
            ],
            [
             0.5555555555555556,
             "#d8576b"
            ],
            [
             0.6666666666666666,
             "#ed7953"
            ],
            [
             0.7777777777777778,
             "#fb9f3a"
            ],
            [
             0.8888888888888888,
             "#fdca26"
            ],
            [
             1,
             "#f0f921"
            ]
           ]
          },
          "colorway": [
           "#636efa",
           "#EF553B",
           "#00cc96",
           "#ab63fa",
           "#FFA15A",
           "#19d3f3",
           "#FF6692",
           "#B6E880",
           "#FF97FF",
           "#FECB52"
          ],
          "font": {
           "color": "#2a3f5f"
          },
          "geo": {
           "bgcolor": "white",
           "lakecolor": "white",
           "landcolor": "#E5ECF6",
           "showlakes": true,
           "showland": true,
           "subunitcolor": "white"
          },
          "hoverlabel": {
           "align": "left"
          },
          "hovermode": "closest",
          "mapbox": {
           "style": "light"
          },
          "paper_bgcolor": "white",
          "plot_bgcolor": "#E5ECF6",
          "polar": {
           "angularaxis": {
            "gridcolor": "white",
            "linecolor": "white",
            "ticks": ""
           },
           "bgcolor": "#E5ECF6",
           "radialaxis": {
            "gridcolor": "white",
            "linecolor": "white",
            "ticks": ""
           }
          },
          "scene": {
           "xaxis": {
            "backgroundcolor": "#E5ECF6",
            "gridcolor": "white",
            "gridwidth": 2,
            "linecolor": "white",
            "showbackground": true,
            "ticks": "",
            "zerolinecolor": "white"
           },
           "yaxis": {
            "backgroundcolor": "#E5ECF6",
            "gridcolor": "white",
            "gridwidth": 2,
            "linecolor": "white",
            "showbackground": true,
            "ticks": "",
            "zerolinecolor": "white"
           },
           "zaxis": {
            "backgroundcolor": "#E5ECF6",
            "gridcolor": "white",
            "gridwidth": 2,
            "linecolor": "white",
            "showbackground": true,
            "ticks": "",
            "zerolinecolor": "white"
           }
          },
          "shapedefaults": {
           "line": {
            "color": "#2a3f5f"
           }
          },
          "ternary": {
           "aaxis": {
            "gridcolor": "white",
            "linecolor": "white",
            "ticks": ""
           },
           "baxis": {
            "gridcolor": "white",
            "linecolor": "white",
            "ticks": ""
           },
           "bgcolor": "#E5ECF6",
           "caxis": {
            "gridcolor": "white",
            "linecolor": "white",
            "ticks": ""
           }
          },
          "title": {
           "x": 0.05
          },
          "xaxis": {
           "automargin": true,
           "gridcolor": "white",
           "linecolor": "white",
           "ticks": "",
           "zerolinecolor": "white",
           "zerolinewidth": 2
          },
          "yaxis": {
           "automargin": true,
           "gridcolor": "white",
           "linecolor": "white",
           "ticks": "",
           "zerolinecolor": "white",
           "zerolinewidth": 2
          }
         }
        },
        "title": {
         "text": "GDP and Gini (Argentina 1986 - 2018)"
        },
        "width": 1000
       }
      }
     },
     "metadata": {}
    }
   ],
   "source": [
    "# sacar\n",
    "# all = pd.read_csv(\"assets/argentina.csv\", sep='\\t')\n",
    "all = pd\n",
    "\n",
    "\n",
    "hoverinfo = ['text']\n",
    "line_shape = 'spline'\n",
    "line_shape_presis = 'linear'\n",
    "mode = 'lines+markers+text'\n",
    "mode_presis = 'lines'\n",
    "marker=dict(\n",
    "    color='LightSkyBlue',\n",
    "    size=5,\n",
    "    line=dict(\n",
    "        color='MediumPurple',\n",
    "        width=1\n",
    "    )\n",
    ")\n",
    "\n",
    "marker_presis=dict(\n",
    "    color='red',\n",
    "    size=5,\n",
    "    line=dict(\n",
    "        color='red',\n",
    "        width=10\n",
    "    )\n",
    ")\n",
    "\n",
    "\n",
    "showlegend=False\n",
    "\n",
    "fig = go.Figure()\n",
    "\n",
    "# Con puntos\n",
    "fig.add_trace(go.Scatter(\n",
    "    x = arg.gdp,\n",
    "    y = arg.gini,\n",
    "    text = years,\n",
    "    hoverinfo = hoverinfo,\n",
    "    line_shape = line_shape,\n",
    "    mode = mode,\n",
    "    marker = marker,\n",
    "    showlegend = showlegend\n",
    "))\n",
    "\n",
    "\n",
    "# Presis\n",
    "# fig.add_trace(go.Scatter(\n",
    "#     x = all.gdp,\n",
    "#     y = all.gini,\n",
    "#     text = years_presis,\n",
    "#     hoverinfo = hoverinfo,\n",
    "#     line_shape = line_shape,\n",
    "#     mode = mode_presis,\n",
    "#     marker = marker_presis,\n",
    "#     showlegend = showlegend\n",
    "# ))\n",
    "\n",
    "\n",
    "\n",
    "\n",
    "\n",
    "\n",
    "# fig.update_annotations(visible=True)\n",
    "fig.update_traces(textposition='top center')\n",
    "\n",
    "\n",
    "\n",
    "fig.update_layout(\n",
    "    height=600,\n",
    "    width=1000,\n",
    "    title_text='GDP and Gini (Argentina 1986 - 2018)'\n",
    ")\n",
    "\n",
    "\n",
    "fig.show()"
   ]
  },
  {
   "cell_type": "code",
   "execution_count": 297,
   "metadata": {},
   "outputs": [
    {
     "output_type": "display_data",
     "data": {
      "application/vnd.plotly.v1+json": {
       "config": {
        "plotlyServerURL": "https://plot.ly"
       },
       "data": [
        {
         "hoverinfo": [
          "text"
         ],
         "line": {
          "color": "rgb(179, 179, 179)",
          "shape": "spline",
          "width": 5
         },
         "mode": "lines",
         "showlegend": false,
         "textfont": {
          "color": "black",
          "family": "Helvetica",
          "size": 11
         },
         "type": "scatter",
         "x": [
          12800,
          12900,
          12500,
          11500,
          11450
         ],
         "y": [
          43.7,
          44.5,
          45.3,
          46.1,
          46.1
         ]
        },
        {
         "hoverinfo": [
          "text"
         ],
         "line": {
          "color": "rgb(180, 151, 231)",
          "shape": "spline",
          "width": 5
         },
         "mode": "lines",
         "showlegend": false,
         "textfont": {
          "color": "black",
          "family": "Helvetica",
          "size": 11
         },
         "type": "scatter",
         "x": [
          11450,
          11400,
          12200,
          13000,
          13900,
          14400
         ],
         "y": [
          46.1,
          46.1,
          45.9,
          45.9,
          46.4,
          46.75
         ]
        },
        {
         "hoverinfo": [
          "text"
         ],
         "line": {
          "color": "rgb(139, 224, 164)",
          "shape": "spline",
          "width": 5
         },
         "mode": "lines",
         "showlegend": false,
         "textfont": {
          "color": "black",
          "family": "Helvetica",
          "size": 11
         },
         "type": "scatter",
         "x": [
          14400,
          14500,
          14000,
          14600,
          15600,
          16000,
          15390
         ],
         "y": [
          46.75,
          46.9,
          47.7,
          48.8,
          49.6,
          50,
          50.67
         ]
        },
        {
         "hoverinfo": [
          "text"
         ],
         "line": {
          "color": "rgb(201, 219, 116)",
          "shape": "spline",
          "width": 5
         },
         "mode": "lines",
         "showlegend": false,
         "textfont": {
          "color": "black",
          "family": "Helvetica",
          "size": 11
         },
         "type": "scatter",
         "x": [
          15390,
          15300,
          15000,
          14200,
          14200
         ],
         "y": [
          50.67,
          50.8,
          51.7,
          51.7,
          51.7
         ]
        },
        {
         "hoverinfo": [
          "text"
         ],
         "line": {
          "color": "rgb(254, 136, 177)",
          "shape": "spline",
          "width": 5
         },
         "mode": "lines",
         "showlegend": false,
         "textfont": {
          "color": "black",
          "family": "Helvetica",
          "size": 11
         },
         "type": "scatter",
         "x": [
          14200,
          12500,
          13400,
          13900
         ],
         "y": [
          51.7,
          51.4,
          50.8,
          50.2
         ]
        },
        {
         "hoverinfo": [
          "text"
         ],
         "line": {
          "color": "rgb(158, 185, 243)",
          "shape": "spline",
          "width": 5
         },
         "mode": "lines",
         "showlegend": false,
         "textfont": {
          "color": "black",
          "family": "Helvetica",
          "size": 11
         },
         "type": "scatter",
         "x": [
          13900,
          14500,
          15600,
          16700,
          18000,
          18500
         ],
         "y": [
          50.2,
          49.4,
          47.9,
          46.7,
          45.8,
          45.2
         ]
        },
        {
         "hoverinfo": [
          "text"
         ],
         "line": {
          "color": "rgb(135, 197, 95)",
          "shape": "spline",
          "width": 5
         },
         "mode": "lines",
         "showlegend": false,
         "textfont": {
          "color": "black",
          "family": "Helvetica",
          "size": 11
         },
         "type": "scatter",
         "x": [
          18500,
          18600,
          17300,
          18900,
          19800,
          19500
         ],
         "y": [
          45.2,
          44.9,
          44,
          43,
          42.3,
          41.9
         ]
        },
        {
         "hoverinfo": [
          "text"
         ],
         "line": {
          "color": "rgb(220, 176, 242)",
          "shape": "spline",
          "width": 5
         },
         "mode": "lines",
         "showlegend": false,
         "textfont": {
          "color": "black",
          "family": "Helvetica",
          "size": 11
         },
         "type": "scatter",
         "x": [
          19500,
          19400,
          19600,
          18900,
          19150
         ],
         "y": [
          41.9,
          41.8,
          41.6,
          41.6,
          41.75
         ]
        },
        {
         "hoverinfo": [
          "text"
         ],
         "line": {
          "color": "rgb(248, 156, 116)",
          "shape": "spline",
          "width": 5
         },
         "mode": "lines",
         "showlegend": false,
         "textfont": {
          "color": "black",
          "family": "Helvetica",
          "size": 11
         },
         "type": "scatter",
         "x": [
          19150,
          19200,
          18600,
          18900,
          18300,
          17500
         ],
         "y": [
          41.75,
          41.8,
          42.1,
          42.3,
          42.4,
          42.4
         ]
        },
        {
         "hoverinfo": [
          "text"
         ],
         "hovertemplate": "Año: <b>%{text}</b><br>PBI PPP: <b>$%{x:.0f}</b><br>Gini: <b>%{y:.2f}</b><br>",
         "line": {
          "shape": "spline"
         },
         "marker": {
          "color": "white",
          "line": {
           "color": "black",
           "width": 2
          },
          "size": 6
         },
         "mode": "markers+text",
         "showlegend": false,
         "text": [
          1986,
          1987,
          1988,
          1989,
          1990,
          1991,
          1992,
          1993,
          1994,
          1995,
          1996,
          1997,
          1998,
          1999,
          2000,
          2001,
          2002,
          2003,
          2004,
          2005,
          2006,
          2007,
          2008,
          2009,
          2010,
          2011,
          2012,
          2013,
          2014,
          2015,
          2016,
          2017,
          2018,
          2019
         ],
         "textfont": {
          "color": "black",
          "family": "Helvetica",
          "size": 11
         },
         "textposition": [
          "bottom left",
          "top right",
          "top right",
          "top right",
          "top left",
          "top center",
          "top left",
          "top left",
          "top right",
          "top left",
          "top left",
          "top left",
          "top right",
          "top right",
          "top right",
          "top left",
          "top left",
          "top right",
          "top right",
          "top right",
          "top right",
          "top right",
          "top right",
          "top left",
          "top right",
          "top right",
          "middle right",
          "bottom right",
          "bottom left",
          "top center",
          "bottom left",
          "top right",
          "top left",
          "top left"
         ],
         "texttemplate": "<b>%{text}</b>",
         "type": "scatter",
         "x": [
          12800,
          12900,
          12500,
          11500,
          11400,
          12200,
          13000,
          13900,
          14500,
          14000,
          14600,
          15600,
          16000,
          15300,
          15000,
          14200,
          12500,
          13400,
          14500,
          15600,
          16700,
          18000,
          18600,
          17300,
          18900,
          19800,
          19400,
          19600,
          18900,
          19200,
          18600,
          18900,
          18300,
          17500
         ],
         "y": [
          43.7,
          44.5,
          45.3,
          46.1,
          46.1,
          45.9,
          45.9,
          46.4,
          46.9,
          47.7,
          48.8,
          49.6,
          50,
          50.8,
          51.7,
          51.7,
          51.4,
          50.8,
          49.4,
          47.9,
          46.7,
          45.8,
          44.9,
          44,
          43,
          42.3,
          41.8,
          41.6,
          41.6,
          41.8,
          42.1,
          42.3,
          42.4,
          42.4
         ]
        }
       ],
       "layout": {
        "height": 800,
        "template": {
         "data": {
          "bar": [
           {
            "error_x": {
             "color": "#2a3f5f"
            },
            "error_y": {
             "color": "#2a3f5f"
            },
            "marker": {
             "line": {
              "color": "#E5ECF6",
              "width": 0.5
             }
            },
            "type": "bar"
           }
          ],
          "barpolar": [
           {
            "marker": {
             "line": {
              "color": "#E5ECF6",
              "width": 0.5
             }
            },
            "type": "barpolar"
           }
          ],
          "carpet": [
           {
            "aaxis": {
             "endlinecolor": "#2a3f5f",
             "gridcolor": "white",
             "linecolor": "white",
             "minorgridcolor": "white",
             "startlinecolor": "#2a3f5f"
            },
            "baxis": {
             "endlinecolor": "#2a3f5f",
             "gridcolor": "white",
             "linecolor": "white",
             "minorgridcolor": "white",
             "startlinecolor": "#2a3f5f"
            },
            "type": "carpet"
           }
          ],
          "choropleth": [
           {
            "colorbar": {
             "outlinewidth": 0,
             "ticks": ""
            },
            "type": "choropleth"
           }
          ],
          "contour": [
           {
            "colorbar": {
             "outlinewidth": 0,
             "ticks": ""
            },
            "colorscale": [
             [
              0,
              "#0d0887"
             ],
             [
              0.1111111111111111,
              "#46039f"
             ],
             [
              0.2222222222222222,
              "#7201a8"
             ],
             [
              0.3333333333333333,
              "#9c179e"
             ],
             [
              0.4444444444444444,
              "#bd3786"
             ],
             [
              0.5555555555555556,
              "#d8576b"
             ],
             [
              0.6666666666666666,
              "#ed7953"
             ],
             [
              0.7777777777777778,
              "#fb9f3a"
             ],
             [
              0.8888888888888888,
              "#fdca26"
             ],
             [
              1,
              "#f0f921"
             ]
            ],
            "type": "contour"
           }
          ],
          "contourcarpet": [
           {
            "colorbar": {
             "outlinewidth": 0,
             "ticks": ""
            },
            "type": "contourcarpet"
           }
          ],
          "heatmap": [
           {
            "colorbar": {
             "outlinewidth": 0,
             "ticks": ""
            },
            "colorscale": [
             [
              0,
              "#0d0887"
             ],
             [
              0.1111111111111111,
              "#46039f"
             ],
             [
              0.2222222222222222,
              "#7201a8"
             ],
             [
              0.3333333333333333,
              "#9c179e"
             ],
             [
              0.4444444444444444,
              "#bd3786"
             ],
             [
              0.5555555555555556,
              "#d8576b"
             ],
             [
              0.6666666666666666,
              "#ed7953"
             ],
             [
              0.7777777777777778,
              "#fb9f3a"
             ],
             [
              0.8888888888888888,
              "#fdca26"
             ],
             [
              1,
              "#f0f921"
             ]
            ],
            "type": "heatmap"
           }
          ],
          "heatmapgl": [
           {
            "colorbar": {
             "outlinewidth": 0,
             "ticks": ""
            },
            "colorscale": [
             [
              0,
              "#0d0887"
             ],
             [
              0.1111111111111111,
              "#46039f"
             ],
             [
              0.2222222222222222,
              "#7201a8"
             ],
             [
              0.3333333333333333,
              "#9c179e"
             ],
             [
              0.4444444444444444,
              "#bd3786"
             ],
             [
              0.5555555555555556,
              "#d8576b"
             ],
             [
              0.6666666666666666,
              "#ed7953"
             ],
             [
              0.7777777777777778,
              "#fb9f3a"
             ],
             [
              0.8888888888888888,
              "#fdca26"
             ],
             [
              1,
              "#f0f921"
             ]
            ],
            "type": "heatmapgl"
           }
          ],
          "histogram": [
           {
            "marker": {
             "colorbar": {
              "outlinewidth": 0,
              "ticks": ""
             }
            },
            "type": "histogram"
           }
          ],
          "histogram2d": [
           {
            "colorbar": {
             "outlinewidth": 0,
             "ticks": ""
            },
            "colorscale": [
             [
              0,
              "#0d0887"
             ],
             [
              0.1111111111111111,
              "#46039f"
             ],
             [
              0.2222222222222222,
              "#7201a8"
             ],
             [
              0.3333333333333333,
              "#9c179e"
             ],
             [
              0.4444444444444444,
              "#bd3786"
             ],
             [
              0.5555555555555556,
              "#d8576b"
             ],
             [
              0.6666666666666666,
              "#ed7953"
             ],
             [
              0.7777777777777778,
              "#fb9f3a"
             ],
             [
              0.8888888888888888,
              "#fdca26"
             ],
             [
              1,
              "#f0f921"
             ]
            ],
            "type": "histogram2d"
           }
          ],
          "histogram2dcontour": [
           {
            "colorbar": {
             "outlinewidth": 0,
             "ticks": ""
            },
            "colorscale": [
             [
              0,
              "#0d0887"
             ],
             [
              0.1111111111111111,
              "#46039f"
             ],
             [
              0.2222222222222222,
              "#7201a8"
             ],
             [
              0.3333333333333333,
              "#9c179e"
             ],
             [
              0.4444444444444444,
              "#bd3786"
             ],
             [
              0.5555555555555556,
              "#d8576b"
             ],
             [
              0.6666666666666666,
              "#ed7953"
             ],
             [
              0.7777777777777778,
              "#fb9f3a"
             ],
             [
              0.8888888888888888,
              "#fdca26"
             ],
             [
              1,
              "#f0f921"
             ]
            ],
            "type": "histogram2dcontour"
           }
          ],
          "mesh3d": [
           {
            "colorbar": {
             "outlinewidth": 0,
             "ticks": ""
            },
            "type": "mesh3d"
           }
          ],
          "parcoords": [
           {
            "line": {
             "colorbar": {
              "outlinewidth": 0,
              "ticks": ""
             }
            },
            "type": "parcoords"
           }
          ],
          "scatter": [
           {
            "marker": {
             "colorbar": {
              "outlinewidth": 0,
              "ticks": ""
             }
            },
            "type": "scatter"
           }
          ],
          "scatter3d": [
           {
            "line": {
             "colorbar": {
              "outlinewidth": 0,
              "ticks": ""
             }
            },
            "marker": {
             "colorbar": {
              "outlinewidth": 0,
              "ticks": ""
             }
            },
            "type": "scatter3d"
           }
          ],
          "scattercarpet": [
           {
            "marker": {
             "colorbar": {
              "outlinewidth": 0,
              "ticks": ""
             }
            },
            "type": "scattercarpet"
           }
          ],
          "scattergeo": [
           {
            "marker": {
             "colorbar": {
              "outlinewidth": 0,
              "ticks": ""
             }
            },
            "type": "scattergeo"
           }
          ],
          "scattergl": [
           {
            "marker": {
             "colorbar": {
              "outlinewidth": 0,
              "ticks": ""
             }
            },
            "type": "scattergl"
           }
          ],
          "scattermapbox": [
           {
            "marker": {
             "colorbar": {
              "outlinewidth": 0,
              "ticks": ""
             }
            },
            "type": "scattermapbox"
           }
          ],
          "scatterpolar": [
           {
            "marker": {
             "colorbar": {
              "outlinewidth": 0,
              "ticks": ""
             }
            },
            "type": "scatterpolar"
           }
          ],
          "scatterpolargl": [
           {
            "marker": {
             "colorbar": {
              "outlinewidth": 0,
              "ticks": ""
             }
            },
            "type": "scatterpolargl"
           }
          ],
          "scatterternary": [
           {
            "marker": {
             "colorbar": {
              "outlinewidth": 0,
              "ticks": ""
             }
            },
            "type": "scatterternary"
           }
          ],
          "surface": [
           {
            "colorbar": {
             "outlinewidth": 0,
             "ticks": ""
            },
            "colorscale": [
             [
              0,
              "#0d0887"
             ],
             [
              0.1111111111111111,
              "#46039f"
             ],
             [
              0.2222222222222222,
              "#7201a8"
             ],
             [
              0.3333333333333333,
              "#9c179e"
             ],
             [
              0.4444444444444444,
              "#bd3786"
             ],
             [
              0.5555555555555556,
              "#d8576b"
             ],
             [
              0.6666666666666666,
              "#ed7953"
             ],
             [
              0.7777777777777778,
              "#fb9f3a"
             ],
             [
              0.8888888888888888,
              "#fdca26"
             ],
             [
              1,
              "#f0f921"
             ]
            ],
            "type": "surface"
           }
          ],
          "table": [
           {
            "cells": {
             "fill": {
              "color": "#EBF0F8"
             },
             "line": {
              "color": "white"
             }
            },
            "header": {
             "fill": {
              "color": "#C8D4E3"
             },
             "line": {
              "color": "white"
             }
            },
            "type": "table"
           }
          ]
         },
         "layout": {
          "annotationdefaults": {
           "arrowcolor": "#2a3f5f",
           "arrowhead": 0,
           "arrowwidth": 1
          },
          "colorscale": {
           "diverging": [
            [
             0,
             "#8e0152"
            ],
            [
             0.1,
             "#c51b7d"
            ],
            [
             0.2,
             "#de77ae"
            ],
            [
             0.3,
             "#f1b6da"
            ],
            [
             0.4,
             "#fde0ef"
            ],
            [
             0.5,
             "#f7f7f7"
            ],
            [
             0.6,
             "#e6f5d0"
            ],
            [
             0.7,
             "#b8e186"
            ],
            [
             0.8,
             "#7fbc41"
            ],
            [
             0.9,
             "#4d9221"
            ],
            [
             1,
             "#276419"
            ]
           ],
           "sequential": [
            [
             0,
             "#0d0887"
            ],
            [
             0.1111111111111111,
             "#46039f"
            ],
            [
             0.2222222222222222,
             "#7201a8"
            ],
            [
             0.3333333333333333,
             "#9c179e"
            ],
            [
             0.4444444444444444,
             "#bd3786"
            ],
            [
             0.5555555555555556,
             "#d8576b"
            ],
            [
             0.6666666666666666,
             "#ed7953"
            ],
            [
             0.7777777777777778,
             "#fb9f3a"
            ],
            [
             0.8888888888888888,
             "#fdca26"
            ],
            [
             1,
             "#f0f921"
            ]
           ],
           "sequentialminus": [
            [
             0,
             "#0d0887"
            ],
            [
             0.1111111111111111,
             "#46039f"
            ],
            [
             0.2222222222222222,
             "#7201a8"
            ],
            [
             0.3333333333333333,
             "#9c179e"
            ],
            [
             0.4444444444444444,
             "#bd3786"
            ],
            [
             0.5555555555555556,
             "#d8576b"
            ],
            [
             0.6666666666666666,
             "#ed7953"
            ],
            [
             0.7777777777777778,
             "#fb9f3a"
            ],
            [
             0.8888888888888888,
             "#fdca26"
            ],
            [
             1,
             "#f0f921"
            ]
           ]
          },
          "colorway": [
           "#636efa",
           "#EF553B",
           "#00cc96",
           "#ab63fa",
           "#FFA15A",
           "#19d3f3",
           "#FF6692",
           "#B6E880",
           "#FF97FF",
           "#FECB52"
          ],
          "font": {
           "color": "#2a3f5f"
          },
          "geo": {
           "bgcolor": "white",
           "lakecolor": "white",
           "landcolor": "#E5ECF6",
           "showlakes": true,
           "showland": true,
           "subunitcolor": "white"
          },
          "hoverlabel": {
           "align": "left"
          },
          "hovermode": "closest",
          "mapbox": {
           "style": "light"
          },
          "paper_bgcolor": "white",
          "plot_bgcolor": "#E5ECF6",
          "polar": {
           "angularaxis": {
            "gridcolor": "white",
            "linecolor": "white",
            "ticks": ""
           },
           "bgcolor": "#E5ECF6",
           "radialaxis": {
            "gridcolor": "white",
            "linecolor": "white",
            "ticks": ""
           }
          },
          "scene": {
           "xaxis": {
            "backgroundcolor": "#E5ECF6",
            "gridcolor": "white",
            "gridwidth": 2,
            "linecolor": "white",
            "showbackground": true,
            "ticks": "",
            "zerolinecolor": "white"
           },
           "yaxis": {
            "backgroundcolor": "#E5ECF6",
            "gridcolor": "white",
            "gridwidth": 2,
            "linecolor": "white",
            "showbackground": true,
            "ticks": "",
            "zerolinecolor": "white"
           },
           "zaxis": {
            "backgroundcolor": "#E5ECF6",
            "gridcolor": "white",
            "gridwidth": 2,
            "linecolor": "white",
            "showbackground": true,
            "ticks": "",
            "zerolinecolor": "white"
           }
          },
          "shapedefaults": {
           "line": {
            "color": "#2a3f5f"
           }
          },
          "ternary": {
           "aaxis": {
            "gridcolor": "white",
            "linecolor": "white",
            "ticks": ""
           },
           "baxis": {
            "gridcolor": "white",
            "linecolor": "white",
            "ticks": ""
           },
           "bgcolor": "#E5ECF6",
           "caxis": {
            "gridcolor": "white",
            "linecolor": "white",
            "ticks": ""
           }
          },
          "title": {
           "x": 0.05
          },
          "xaxis": {
           "automargin": true,
           "gridcolor": "white",
           "linecolor": "white",
           "ticks": "",
           "zerolinecolor": "white",
           "zerolinewidth": 2
          },
          "yaxis": {
           "automargin": true,
           "gridcolor": "white",
           "linecolor": "white",
           "ticks": "",
           "zerolinecolor": "white",
           "zerolinewidth": 2
          }
         }
        },
        "title": {
         "text": "GDP and Gini (Argentina 1986 - 2018)"
        },
        "width": 1000
       }
      }
     },
     "metadata": {}
    }
   ],
   "source": [
    "# sacar\n",
    "# all = pd.read_csv(\"assets/argentina.csv\", sep='\\t')\n",
    "all = df\n",
    "\n",
    "\n",
    "hoverinfo = ['text']\n",
    "line_shape = 'spline'\n",
    "line_shape_presis = 'linear'\n",
    "mode = 'markers+text'\n",
    "mode_presis = 'lines'\n",
    "marker=dict(\n",
    "    color='white',\n",
    "    size=6,\n",
    "    line=dict(\n",
    "        color='black',\n",
    "        width=2\n",
    "    )\n",
    ")\n",
    "\n",
    "years = arg.copy()\n",
    "years[\"textposition\"] = \"top left\"\n",
    "years.loc[years.year.isin([1991, 2015]), \"textposition\"] = \"top center\"\n",
    "years.loc[years.year.isin([1987, 1989, 1988, 1994, 1998, 1999, 2000, 2003, 2004, 2005, 2006, 2007, 2008, 2010, 2011, 2017]), \"textposition\"] = \"top right\"\n",
    "years.loc[years.year.isin([1986, 2014, 2016]), \"textposition\"] = \"bottom left\"\n",
    "years.loc[years.year.isin([2012]), \"textposition\"] = \"middle right\"\n",
    "# years.loc[years.year.isin([2009]), \"textposition\"] = \"middle left\"\n",
    "years.loc[years.year.isin([2013]), \"textposition\"] = \"bottom right\"\n",
    "# years.loc[years.year.isin([2014, 2016]), \"textposition\"] = \"bottom left\"\n",
    "textpositions = years[\"textposition\"].values\n",
    "years = years[\"year\"].values\n",
    "\n",
    "\n",
    "showlegend=False\n",
    "\n",
    "fig = go.Figure()\n",
    "\n",
    "\n",
    "import plotly.express as px\n",
    "# colors = px.colors.qualitative.Pastel.copy()\n",
    "colors = px.colors.qualitative.Vivid.copy()\n",
    "# print(cop)\n",
    "# print(colors.pop())\n",
    "# print(cop)\n",
    "\n",
    "\n",
    "presi_tail = pd.DataFrame()\n",
    "for presi_key in presidentials:\n",
    "    presi_df = all.loc[(all['president'] == presi_key)].copy()\n",
    "\n",
    "    # Agrego el último valor de una presidencia en la otra para segmentar correctamente por color\n",
    "    if not presi_tail.empty:\n",
    "        presi_df = presi_tail.append(presi_df)\n",
    "\n",
    "    presi_tail = presi_df.tail(1)\n",
    "\n",
    "    fig.add_trace(go.Scatter(\n",
    "        x = presi_df.gdp,\n",
    "        y = presi_df.gini,\n",
    "        # text = years_presis,\n",
    "        hoverinfo = hoverinfo,\n",
    "        line_shape = line_shape,\n",
    "        line=dict(color=colors.pop(), width=5),\n",
    "        mode = mode_presis,\n",
    "        showlegend = showlegend\n",
    "    ))\n",
    "# text = [\"A\", \"B\", \"C\"],\n",
    "#     texttemplate = \"%{text}<br>(%{a:.2f}, %{b:.2f}, %{c:.2f})\",\n",
    "#     textposition = \"bottom center\",\n",
    "#     textfont = {'family': \"Times\", 'size': [18, 21, 20], 'color': [\"IndianRed\", \"MediumPurple\", \"DarkOrange\"]\n",
    "\n",
    "# Con puntos\n",
    "fig.add_trace(go.Scatter(\n",
    "    x = arg.gdp,\n",
    "    y = arg.gini,\n",
    "    text = years,\n",
    "    texttemplate = \"<b>%{text}</b>\",\n",
    "    hoverinfo = hoverinfo,\n",
    "    hovertemplate = \"Año: <b>%{text}</b><br>PBI PPP: <b>$%{x:.0f}</b><br>Gini: <b>%{y:.2f}</b><br>\",\n",
    "    line_shape = line_shape,\n",
    "    mode = mode,\n",
    "    marker = marker,\n",
    "    textposition = textpositions,\n",
    "    showlegend = showlegend\n",
    "))\n",
    "\n",
    "# fig.update_annotations(visible=True)\n",
    "# fig.update_traces(textposition=textpositions)\n",
    "fig.update_traces(textfont = {'family': \"Helvetica\", 'size': 11, 'color': \"black\"})\n",
    "# fig.update_annotations(textfont = {'family': \"Helvetica\", 'size': 11, 'color': \"black\"})\n",
    "\n",
    "\n",
    "\n",
    "fig.update_layout(\n",
    "    height=800,\n",
    "    width=1000,\n",
    "    title_text='GDP and Gini (Argentina 1986 - 2018)'\n",
    ")\n",
    "\n",
    "\n",
    "fig.show()"
   ]
  },
  {
   "cell_type": "code",
   "execution_count": 289,
   "metadata": {},
   "outputs": [
    {
     "output_type": "error",
     "ename": "IndentationError",
     "evalue": "unexpected indent (<ipython-input-289-8e2e4200dd86>, line 2)",
     "traceback": [
      "\u001b[0;36m  File \u001b[0;32m\"<ipython-input-289-8e2e4200dd86>\"\u001b[0;36m, line \u001b[0;32m2\u001b[0m\n\u001b[0;31m    texttemplate = \"%{text}<br>(%{a:.2f}, %{b:.2f}, %{c:.2f})\",\u001b[0m\n\u001b[0m    ^\u001b[0m\n\u001b[0;31mIndentationError\u001b[0m\u001b[0;31m:\u001b[0m unexpected indent\n"
     ]
    }
   ],
   "source": [
    "text = [\"A\", \"B\", \"C\"],\n",
    "    texttemplate = \"%{text}<br>(%{a:.2f}, %{b:.2f}, %{c:.2f})\",\n",
    "    textposition = \"bottom center\",\n",
    "    textfont = {'family': \"Times\", 'size': [18, 21, 20], 'color': [\"IndianRed\", \"MediumPurple\", \"DarkOrange\"]"
   ]
  },
  {
   "cell_type": "code",
   "execution_count": 295,
   "metadata": {},
   "outputs": [
    {
     "output_type": "stream",
     "name": "stdout",
     "text": [
      "['#636EFA', '#EF553B', '#00CC96', '#AB63FA', '#FFA15A', '#19D3F3', '#FF6692', '#B6E880', '#FF97FF', '#FECB52']\n#FECB52\n['#636EFA', '#EF553B', '#00CC96', '#AB63FA', '#FFA15A', '#19D3F3', '#FF6692', '#B6E880', '#FF97FF']\n"
     ]
    }
   ],
   "source": [
    "import plotly.express as px\n",
    "cop = px.colors.qualitative.Plotly.copy()\n",
    "print(cop)\n",
    "print(cop.pop())\n",
    "print(cop)"
   ]
  },
  {
   "cell_type": "code",
   "execution_count": 290,
   "metadata": {},
   "outputs": [
    {
     "output_type": "display_data",
     "data": {
      "application/vnd.plotly.v1+json": {
       "config": {
        "plotlyServerURL": "https://plot.ly"
       },
       "data": [
        {
         "customdata": [
          0,
          1,
          2,
          3,
          4,
          5,
          6,
          7,
          8,
          9,
          10
         ],
         "hovertemplate": "%{y}[%{customdata}] = %{marker.color}<extra></extra>",
         "marker": {
          "color": [
           "rgb(229, 134, 6)",
           "rgb(93, 105, 177)",
           "rgb(82, 188, 163)",
           "rgb(153, 201, 69)",
           "rgb(204, 97, 176)",
           "rgb(36, 121, 108)",
           "rgb(218, 165, 27)",
           "rgb(47, 138, 196)",
           "rgb(118, 78, 159)",
           "rgb(237, 100, 90)",
           "rgb(165, 170, 153)"
          ]
         },
         "orientation": "h",
         "type": "bar",
         "x": [
          1,
          1,
          1,
          1,
          1,
          1,
          1,
          1,
          1,
          1,
          1
         ],
         "y": [
          "Vivid",
          "Vivid",
          "Vivid",
          "Vivid",
          "Vivid",
          "Vivid",
          "Vivid",
          "Vivid",
          "Vivid",
          "Vivid",
          "Vivid"
         ]
        },
        {
         "customdata": [
          0,
          1,
          2,
          3,
          4,
          5,
          6,
          7,
          8,
          9,
          10
         ],
         "hovertemplate": "%{y}[%{customdata}] = %{marker.color}<extra></extra>",
         "marker": {
          "color": [
           "rgb(136, 204, 238)",
           "rgb(204, 102, 119)",
           "rgb(221, 204, 119)",
           "rgb(17, 119, 51)",
           "rgb(51, 34, 136)",
           "rgb(170, 68, 153)",
           "rgb(68, 170, 153)",
           "rgb(153, 153, 51)",
           "rgb(136, 34, 85)",
           "rgb(102, 17, 0)",
           "rgb(136, 136, 136)"
          ]
         },
         "orientation": "h",
         "type": "bar",
         "x": [
          1,
          1,
          1,
          1,
          1,
          1,
          1,
          1,
          1,
          1,
          1
         ],
         "y": [
          "Safe",
          "Safe",
          "Safe",
          "Safe",
          "Safe",
          "Safe",
          "Safe",
          "Safe",
          "Safe",
          "Safe",
          "Safe"
         ]
        },
        {
         "customdata": [
          0,
          1,
          2,
          3,
          4,
          5,
          6,
          7,
          8,
          9,
          10
         ],
         "hovertemplate": "%{y}[%{customdata}] = %{marker.color}<extra></extra>",
         "marker": {
          "color": [
           "rgb(95, 70, 144)",
           "rgb(29, 105, 150)",
           "rgb(56, 166, 165)",
           "rgb(15, 133, 84)",
           "rgb(115, 175, 72)",
           "rgb(237, 173, 8)",
           "rgb(225, 124, 5)",
           "rgb(204, 80, 62)",
           "rgb(148, 52, 110)",
           "rgb(111, 64, 112)",
           "rgb(102, 102, 102)"
          ]
         },
         "orientation": "h",
         "type": "bar",
         "x": [
          1,
          1,
          1,
          1,
          1,
          1,
          1,
          1,
          1,
          1,
          1
         ],
         "y": [
          "Prism",
          "Prism",
          "Prism",
          "Prism",
          "Prism",
          "Prism",
          "Prism",
          "Prism",
          "Prism",
          "Prism",
          "Prism"
         ]
        },
        {
         "customdata": [
          0,
          1,
          2,
          3,
          4,
          5,
          6,
          7,
          8,
          9,
          10
         ],
         "hovertemplate": "%{y}[%{customdata}] = %{marker.color}<extra></extra>",
         "marker": {
          "color": [
           "rgb(102, 197, 204)",
           "rgb(246, 207, 113)",
           "rgb(248, 156, 116)",
           "rgb(220, 176, 242)",
           "rgb(135, 197, 95)",
           "rgb(158, 185, 243)",
           "rgb(254, 136, 177)",
           "rgb(201, 219, 116)",
           "rgb(139, 224, 164)",
           "rgb(180, 151, 231)",
           "rgb(179, 179, 179)"
          ]
         },
         "orientation": "h",
         "type": "bar",
         "x": [
          1,
          1,
          1,
          1,
          1,
          1,
          1,
          1,
          1,
          1,
          1
         ],
         "y": [
          "Pastel",
          "Pastel",
          "Pastel",
          "Pastel",
          "Pastel",
          "Pastel",
          "Pastel",
          "Pastel",
          "Pastel",
          "Pastel",
          "Pastel"
         ]
        },
        {
         "customdata": [
          0,
          1,
          2,
          3,
          4,
          5,
          6,
          7,
          8,
          9,
          10
         ],
         "hovertemplate": "%{y}[%{customdata}] = %{marker.color}<extra></extra>",
         "marker": {
          "color": [
           "rgb(127, 60, 141)",
           "rgb(17, 165, 121)",
           "rgb(57, 105, 172)",
           "rgb(242, 183, 1)",
           "rgb(231, 63, 116)",
           "rgb(128, 186, 90)",
           "rgb(230, 131, 16)",
           "rgb(0, 134, 149)",
           "rgb(207, 28, 144)",
           "rgb(249, 123, 114)",
           "rgb(165, 170, 153)"
          ]
         },
         "orientation": "h",
         "type": "bar",
         "x": [
          1,
          1,
          1,
          1,
          1,
          1,
          1,
          1,
          1,
          1,
          1
         ],
         "y": [
          "Bold",
          "Bold",
          "Bold",
          "Bold",
          "Bold",
          "Bold",
          "Bold",
          "Bold",
          "Bold",
          "Bold",
          "Bold"
         ]
        },
        {
         "customdata": [
          0,
          1,
          2,
          3,
          4,
          5,
          6,
          7,
          8,
          9,
          10
         ],
         "hovertemplate": "%{y}[%{customdata}] = %{marker.color}<extra></extra>",
         "marker": {
          "color": [
           "rgb(133, 92, 117)",
           "rgb(217, 175, 107)",
           "rgb(175, 100, 88)",
           "rgb(115, 111, 76)",
           "rgb(82, 106, 131)",
           "rgb(98, 83, 119)",
           "rgb(104, 133, 92)",
           "rgb(156, 156, 94)",
           "rgb(160, 97, 119)",
           "rgb(140, 120, 93)",
           "rgb(124, 124, 124)"
          ]
         },
         "orientation": "h",
         "type": "bar",
         "x": [
          1,
          1,
          1,
          1,
          1,
          1,
          1,
          1,
          1,
          1,
          1
         ],
         "y": [
          "Antique",
          "Antique",
          "Antique",
          "Antique",
          "Antique",
          "Antique",
          "Antique",
          "Antique",
          "Antique",
          "Antique",
          "Antique"
         ]
        },
        {
         "customdata": [
          0,
          1,
          2,
          3,
          4,
          5,
          6,
          7,
          8,
          9,
          10,
          11
         ],
         "hovertemplate": "%{y}[%{customdata}] = %{marker.color}<extra></extra>",
         "marker": {
          "color": [
           "rgb(141,211,199)",
           "rgb(255,255,179)",
           "rgb(190,186,218)",
           "rgb(251,128,114)",
           "rgb(128,177,211)",
           "rgb(253,180,98)",
           "rgb(179,222,105)",
           "rgb(252,205,229)",
           "rgb(217,217,217)",
           "rgb(188,128,189)",
           "rgb(204,235,197)",
           "rgb(255,237,111)"
          ]
         },
         "orientation": "h",
         "type": "bar",
         "x": [
          1,
          1,
          1,
          1,
          1,
          1,
          1,
          1,
          1,
          1,
          1,
          1
         ],
         "y": [
          "Set3",
          "Set3",
          "Set3",
          "Set3",
          "Set3",
          "Set3",
          "Set3",
          "Set3",
          "Set3",
          "Set3",
          "Set3",
          "Set3"
         ]
        },
        {
         "customdata": [
          0,
          1,
          2,
          3,
          4,
          5,
          6,
          7
         ],
         "hovertemplate": "%{y}[%{customdata}] = %{marker.color}<extra></extra>",
         "marker": {
          "color": [
           "rgb(179,226,205)",
           "rgb(253,205,172)",
           "rgb(203,213,232)",
           "rgb(244,202,228)",
           "rgb(230,245,201)",
           "rgb(255,242,174)",
           "rgb(241,226,204)",
           "rgb(204,204,204)"
          ]
         },
         "orientation": "h",
         "type": "bar",
         "x": [
          1,
          1,
          1,
          1,
          1,
          1,
          1,
          1
         ],
         "y": [
          "Pastel2",
          "Pastel2",
          "Pastel2",
          "Pastel2",
          "Pastel2",
          "Pastel2",
          "Pastel2",
          "Pastel2"
         ]
        },
        {
         "customdata": [
          0,
          1,
          2,
          3,
          4,
          5,
          6,
          7
         ],
         "hovertemplate": "%{y}[%{customdata}] = %{marker.color}<extra></extra>",
         "marker": {
          "color": [
           "rgb(102,194,165)",
           "rgb(252,141,98)",
           "rgb(141,160,203)",
           "rgb(231,138,195)",
           "rgb(166,216,84)",
           "rgb(255,217,47)",
           "rgb(229,196,148)",
           "rgb(179,179,179)"
          ]
         },
         "orientation": "h",
         "type": "bar",
         "x": [
          1,
          1,
          1,
          1,
          1,
          1,
          1,
          1
         ],
         "y": [
          "Set2",
          "Set2",
          "Set2",
          "Set2",
          "Set2",
          "Set2",
          "Set2",
          "Set2"
         ]
        },
        {
         "customdata": [
          0,
          1,
          2,
          3,
          4,
          5,
          6,
          7
         ],
         "hovertemplate": "%{y}[%{customdata}] = %{marker.color}<extra></extra>",
         "marker": {
          "color": [
           "rgb(27,158,119)",
           "rgb(217,95,2)",
           "rgb(117,112,179)",
           "rgb(231,41,138)",
           "rgb(102,166,30)",
           "rgb(230,171,2)",
           "rgb(166,118,29)",
           "rgb(102,102,102)"
          ]
         },
         "orientation": "h",
         "type": "bar",
         "x": [
          1,
          1,
          1,
          1,
          1,
          1,
          1,
          1
         ],
         "y": [
          "Dark2",
          "Dark2",
          "Dark2",
          "Dark2",
          "Dark2",
          "Dark2",
          "Dark2",
          "Dark2"
         ]
        },
        {
         "customdata": [
          0,
          1,
          2,
          3,
          4,
          5,
          6,
          7,
          8
         ],
         "hovertemplate": "%{y}[%{customdata}] = %{marker.color}<extra></extra>",
         "marker": {
          "color": [
           "rgb(251,180,174)",
           "rgb(179,205,227)",
           "rgb(204,235,197)",
           "rgb(222,203,228)",
           "rgb(254,217,166)",
           "rgb(255,255,204)",
           "rgb(229,216,189)",
           "rgb(253,218,236)",
           "rgb(242,242,242)"
          ]
         },
         "orientation": "h",
         "type": "bar",
         "x": [
          1,
          1,
          1,
          1,
          1,
          1,
          1,
          1,
          1
         ],
         "y": [
          "Pastel1",
          "Pastel1",
          "Pastel1",
          "Pastel1",
          "Pastel1",
          "Pastel1",
          "Pastel1",
          "Pastel1",
          "Pastel1"
         ]
        },
        {
         "customdata": [
          0,
          1,
          2,
          3,
          4,
          5,
          6,
          7,
          8
         ],
         "hovertemplate": "%{y}[%{customdata}] = %{marker.color}<extra></extra>",
         "marker": {
          "color": [
           "rgb(228,26,28)",
           "rgb(55,126,184)",
           "rgb(77,175,74)",
           "rgb(152,78,163)",
           "rgb(255,127,0)",
           "rgb(255,255,51)",
           "rgb(166,86,40)",
           "rgb(247,129,191)",
           "rgb(153,153,153)"
          ]
         },
         "orientation": "h",
         "type": "bar",
         "x": [
          1,
          1,
          1,
          1,
          1,
          1,
          1,
          1,
          1
         ],
         "y": [
          "Set1",
          "Set1",
          "Set1",
          "Set1",
          "Set1",
          "Set1",
          "Set1",
          "Set1",
          "Set1"
         ]
        },
        {
         "customdata": [
          0,
          1,
          2,
          3,
          4,
          5,
          6,
          7,
          8,
          9,
          10,
          11,
          12,
          13,
          14,
          15,
          16,
          17,
          18,
          19,
          20,
          21,
          22,
          23
         ],
         "hovertemplate": "%{y}[%{customdata}] = %{marker.color}<extra></extra>",
         "marker": {
          "color": [
           "#FD3216",
           "#00FE35",
           "#6A76FC",
           "#FED4C4",
           "#FE00CE",
           "#0DF9FF",
           "#F6F926",
           "#FF9616",
           "#479B55",
           "#EEA6FB",
           "#DC587D",
           "#D626FF",
           "#6E899C",
           "#00B5F7",
           "#B68E00",
           "#C9FBE5",
           "#FF0092",
           "#22FFA7",
           "#E3EE9E",
           "#86CE00",
           "#BC7196",
           "#7E7DCD",
           "#FC6955",
           "#E48F72"
          ]
         },
         "orientation": "h",
         "type": "bar",
         "x": [
          1,
          1,
          1,
          1,
          1,
          1,
          1,
          1,
          1,
          1,
          1,
          1,
          1,
          1,
          1,
          1,
          1,
          1,
          1,
          1,
          1,
          1,
          1,
          1
         ],
         "y": [
          "Light24",
          "Light24",
          "Light24",
          "Light24",
          "Light24",
          "Light24",
          "Light24",
          "Light24",
          "Light24",
          "Light24",
          "Light24",
          "Light24",
          "Light24",
          "Light24",
          "Light24",
          "Light24",
          "Light24",
          "Light24",
          "Light24",
          "Light24",
          "Light24",
          "Light24",
          "Light24",
          "Light24"
         ]
        },
        {
         "customdata": [
          0,
          1,
          2,
          3,
          4,
          5,
          6,
          7,
          8,
          9,
          10,
          11,
          12,
          13,
          14,
          15,
          16,
          17,
          18,
          19,
          20,
          21,
          22,
          23
         ],
         "hovertemplate": "%{y}[%{customdata}] = %{marker.color}<extra></extra>",
         "marker": {
          "color": [
           "#2E91E5",
           "#E15F99",
           "#1CA71C",
           "#FB0D0D",
           "#DA16FF",
           "#222A2A",
           "#B68100",
           "#750D86",
           "#EB663B",
           "#511CFB",
           "#00A08B",
           "#FB00D1",
           "#FC0080",
           "#B2828D",
           "#6C7C32",
           "#778AAE",
           "#862A16",
           "#A777F1",
           "#620042",
           "#1616A7",
           "#DA60CA",
           "#6C4516",
           "#0D2A63",
           "#AF0038"
          ]
         },
         "orientation": "h",
         "type": "bar",
         "x": [
          1,
          1,
          1,
          1,
          1,
          1,
          1,
          1,
          1,
          1,
          1,
          1,
          1,
          1,
          1,
          1,
          1,
          1,
          1,
          1,
          1,
          1,
          1,
          1
         ],
         "y": [
          "Dark24",
          "Dark24",
          "Dark24",
          "Dark24",
          "Dark24",
          "Dark24",
          "Dark24",
          "Dark24",
          "Dark24",
          "Dark24",
          "Dark24",
          "Dark24",
          "Dark24",
          "Dark24",
          "Dark24",
          "Dark24",
          "Dark24",
          "Dark24",
          "Dark24",
          "Dark24",
          "Dark24",
          "Dark24",
          "Dark24",
          "Dark24"
         ]
        },
        {
         "customdata": [
          0,
          1,
          2,
          3,
          4,
          5,
          6,
          7,
          8,
          9,
          10,
          11,
          12,
          13,
          14,
          15,
          16,
          17,
          18,
          19,
          20,
          21,
          22,
          23,
          24,
          25
         ],
         "hovertemplate": "%{y}[%{customdata}] = %{marker.color}<extra></extra>",
         "marker": {
          "color": [
           "#AA0DFE",
           "#3283FE",
           "#85660D",
           "#782AB6",
           "#565656",
           "#1C8356",
           "#16FF32",
           "#F7E1A0",
           "#E2E2E2",
           "#1CBE4F",
           "#C4451C",
           "#DEA0FD",
           "#FE00FA",
           "#325A9B",
           "#FEAF16",
           "#F8A19F",
           "#90AD1C",
           "#F6222E",
           "#1CFFCE",
           "#2ED9FF",
           "#B10DA1",
           "#C075A6",
           "#FC1CBF",
           "#B00068",
           "#FBE426",
           "#FA0087"
          ]
         },
         "orientation": "h",
         "type": "bar",
         "x": [
          1,
          1,
          1,
          1,
          1,
          1,
          1,
          1,
          1,
          1,
          1,
          1,
          1,
          1,
          1,
          1,
          1,
          1,
          1,
          1,
          1,
          1,
          1,
          1,
          1,
          1
         ],
         "y": [
          "Alphabet",
          "Alphabet",
          "Alphabet",
          "Alphabet",
          "Alphabet",
          "Alphabet",
          "Alphabet",
          "Alphabet",
          "Alphabet",
          "Alphabet",
          "Alphabet",
          "Alphabet",
          "Alphabet",
          "Alphabet",
          "Alphabet",
          "Alphabet",
          "Alphabet",
          "Alphabet",
          "Alphabet",
          "Alphabet",
          "Alphabet",
          "Alphabet",
          "Alphabet",
          "Alphabet",
          "Alphabet",
          "Alphabet"
         ]
        },
        {
         "customdata": [
          0,
          1,
          2,
          3,
          4,
          5,
          6,
          7,
          8,
          9
         ],
         "hovertemplate": "%{y}[%{customdata}] = %{marker.color}<extra></extra>",
         "marker": {
          "color": [
           "#4C78A8",
           "#F58518",
           "#E45756",
           "#72B7B2",
           "#54A24B",
           "#EECA3B",
           "#B279A2",
           "#FF9DA6",
           "#9D755D",
           "#BAB0AC"
          ]
         },
         "orientation": "h",
         "type": "bar",
         "x": [
          1,
          1,
          1,
          1,
          1,
          1,
          1,
          1,
          1,
          1
         ],
         "y": [
          "T10",
          "T10",
          "T10",
          "T10",
          "T10",
          "T10",
          "T10",
          "T10",
          "T10",
          "T10"
         ]
        },
        {
         "customdata": [
          0,
          1,
          2,
          3,
          4,
          5,
          6,
          7,
          8,
          9
         ],
         "hovertemplate": "%{y}[%{customdata}] = %{marker.color}<extra></extra>",
         "marker": {
          "color": [
           "#3366CC",
           "#DC3912",
           "#FF9900",
           "#109618",
           "#990099",
           "#0099C6",
           "#DD4477",
           "#66AA00",
           "#B82E2E",
           "#316395"
          ]
         },
         "orientation": "h",
         "type": "bar",
         "x": [
          1,
          1,
          1,
          1,
          1,
          1,
          1,
          1,
          1,
          1
         ],
         "y": [
          "G10",
          "G10",
          "G10",
          "G10",
          "G10",
          "G10",
          "G10",
          "G10",
          "G10",
          "G10"
         ]
        },
        {
         "customdata": [
          0,
          1,
          2,
          3,
          4,
          5,
          6,
          7,
          8,
          9
         ],
         "hovertemplate": "%{y}[%{customdata}] = %{marker.color}<extra></extra>",
         "marker": {
          "color": [
           "#1F77B4",
           "#FF7F0E",
           "#2CA02C",
           "#D62728",
           "#9467BD",
           "#8C564B",
           "#E377C2",
           "#7F7F7F",
           "#BCBD22",
           "#17BECF"
          ]
         },
         "orientation": "h",
         "type": "bar",
         "x": [
          1,
          1,
          1,
          1,
          1,
          1,
          1,
          1,
          1,
          1
         ],
         "y": [
          "D3",
          "D3",
          "D3",
          "D3",
          "D3",
          "D3",
          "D3",
          "D3",
          "D3",
          "D3"
         ]
        },
        {
         "customdata": [
          0,
          1,
          2,
          3,
          4,
          5,
          6,
          7,
          8,
          9
         ],
         "hovertemplate": "%{y}[%{customdata}] = %{marker.color}<extra></extra>",
         "marker": {
          "color": [
           "#636EFA",
           "#EF553B",
           "#00CC96",
           "#AB63FA",
           "#FFA15A",
           "#19D3F3",
           "#FF6692",
           "#B6E880",
           "#FF97FF",
           "#FECB52"
          ]
         },
         "orientation": "h",
         "type": "bar",
         "x": [
          1,
          1,
          1,
          1,
          1,
          1,
          1,
          1,
          1,
          1
         ],
         "y": [
          "Plotly",
          "Plotly",
          "Plotly",
          "Plotly",
          "Plotly",
          "Plotly",
          "Plotly",
          "Plotly",
          "Plotly",
          "Plotly"
         ]
        }
       ],
       "layout": {
        "bargap": 0.5,
        "barmode": "stack",
        "barnorm": "fraction",
        "height": 760,
        "showlegend": false,
        "template": {
         "data": {
          "bar": [
           {
            "error_x": {
             "color": "#2a3f5f"
            },
            "error_y": {
             "color": "#2a3f5f"
            },
            "marker": {
             "line": {
              "color": "#E5ECF6",
              "width": 0.5
             }
            },
            "type": "bar"
           }
          ],
          "barpolar": [
           {
            "marker": {
             "line": {
              "color": "#E5ECF6",
              "width": 0.5
             }
            },
            "type": "barpolar"
           }
          ],
          "carpet": [
           {
            "aaxis": {
             "endlinecolor": "#2a3f5f",
             "gridcolor": "white",
             "linecolor": "white",
             "minorgridcolor": "white",
             "startlinecolor": "#2a3f5f"
            },
            "baxis": {
             "endlinecolor": "#2a3f5f",
             "gridcolor": "white",
             "linecolor": "white",
             "minorgridcolor": "white",
             "startlinecolor": "#2a3f5f"
            },
            "type": "carpet"
           }
          ],
          "choropleth": [
           {
            "colorbar": {
             "outlinewidth": 0,
             "ticks": ""
            },
            "type": "choropleth"
           }
          ],
          "contour": [
           {
            "colorbar": {
             "outlinewidth": 0,
             "ticks": ""
            },
            "colorscale": [
             [
              0,
              "#0d0887"
             ],
             [
              0.1111111111111111,
              "#46039f"
             ],
             [
              0.2222222222222222,
              "#7201a8"
             ],
             [
              0.3333333333333333,
              "#9c179e"
             ],
             [
              0.4444444444444444,
              "#bd3786"
             ],
             [
              0.5555555555555556,
              "#d8576b"
             ],
             [
              0.6666666666666666,
              "#ed7953"
             ],
             [
              0.7777777777777778,
              "#fb9f3a"
             ],
             [
              0.8888888888888888,
              "#fdca26"
             ],
             [
              1,
              "#f0f921"
             ]
            ],
            "type": "contour"
           }
          ],
          "contourcarpet": [
           {
            "colorbar": {
             "outlinewidth": 0,
             "ticks": ""
            },
            "type": "contourcarpet"
           }
          ],
          "heatmap": [
           {
            "colorbar": {
             "outlinewidth": 0,
             "ticks": ""
            },
            "colorscale": [
             [
              0,
              "#0d0887"
             ],
             [
              0.1111111111111111,
              "#46039f"
             ],
             [
              0.2222222222222222,
              "#7201a8"
             ],
             [
              0.3333333333333333,
              "#9c179e"
             ],
             [
              0.4444444444444444,
              "#bd3786"
             ],
             [
              0.5555555555555556,
              "#d8576b"
             ],
             [
              0.6666666666666666,
              "#ed7953"
             ],
             [
              0.7777777777777778,
              "#fb9f3a"
             ],
             [
              0.8888888888888888,
              "#fdca26"
             ],
             [
              1,
              "#f0f921"
             ]
            ],
            "type": "heatmap"
           }
          ],
          "heatmapgl": [
           {
            "colorbar": {
             "outlinewidth": 0,
             "ticks": ""
            },
            "colorscale": [
             [
              0,
              "#0d0887"
             ],
             [
              0.1111111111111111,
              "#46039f"
             ],
             [
              0.2222222222222222,
              "#7201a8"
             ],
             [
              0.3333333333333333,
              "#9c179e"
             ],
             [
              0.4444444444444444,
              "#bd3786"
             ],
             [
              0.5555555555555556,
              "#d8576b"
             ],
             [
              0.6666666666666666,
              "#ed7953"
             ],
             [
              0.7777777777777778,
              "#fb9f3a"
             ],
             [
              0.8888888888888888,
              "#fdca26"
             ],
             [
              1,
              "#f0f921"
             ]
            ],
            "type": "heatmapgl"
           }
          ],
          "histogram": [
           {
            "marker": {
             "colorbar": {
              "outlinewidth": 0,
              "ticks": ""
             }
            },
            "type": "histogram"
           }
          ],
          "histogram2d": [
           {
            "colorbar": {
             "outlinewidth": 0,
             "ticks": ""
            },
            "colorscale": [
             [
              0,
              "#0d0887"
             ],
             [
              0.1111111111111111,
              "#46039f"
             ],
             [
              0.2222222222222222,
              "#7201a8"
             ],
             [
              0.3333333333333333,
              "#9c179e"
             ],
             [
              0.4444444444444444,
              "#bd3786"
             ],
             [
              0.5555555555555556,
              "#d8576b"
             ],
             [
              0.6666666666666666,
              "#ed7953"
             ],
             [
              0.7777777777777778,
              "#fb9f3a"
             ],
             [
              0.8888888888888888,
              "#fdca26"
             ],
             [
              1,
              "#f0f921"
             ]
            ],
            "type": "histogram2d"
           }
          ],
          "histogram2dcontour": [
           {
            "colorbar": {
             "outlinewidth": 0,
             "ticks": ""
            },
            "colorscale": [
             [
              0,
              "#0d0887"
             ],
             [
              0.1111111111111111,
              "#46039f"
             ],
             [
              0.2222222222222222,
              "#7201a8"
             ],
             [
              0.3333333333333333,
              "#9c179e"
             ],
             [
              0.4444444444444444,
              "#bd3786"
             ],
             [
              0.5555555555555556,
              "#d8576b"
             ],
             [
              0.6666666666666666,
              "#ed7953"
             ],
             [
              0.7777777777777778,
              "#fb9f3a"
             ],
             [
              0.8888888888888888,
              "#fdca26"
             ],
             [
              1,
              "#f0f921"
             ]
            ],
            "type": "histogram2dcontour"
           }
          ],
          "mesh3d": [
           {
            "colorbar": {
             "outlinewidth": 0,
             "ticks": ""
            },
            "type": "mesh3d"
           }
          ],
          "parcoords": [
           {
            "line": {
             "colorbar": {
              "outlinewidth": 0,
              "ticks": ""
             }
            },
            "type": "parcoords"
           }
          ],
          "scatter": [
           {
            "marker": {
             "colorbar": {
              "outlinewidth": 0,
              "ticks": ""
             }
            },
            "type": "scatter"
           }
          ],
          "scatter3d": [
           {
            "line": {
             "colorbar": {
              "outlinewidth": 0,
              "ticks": ""
             }
            },
            "marker": {
             "colorbar": {
              "outlinewidth": 0,
              "ticks": ""
             }
            },
            "type": "scatter3d"
           }
          ],
          "scattercarpet": [
           {
            "marker": {
             "colorbar": {
              "outlinewidth": 0,
              "ticks": ""
             }
            },
            "type": "scattercarpet"
           }
          ],
          "scattergeo": [
           {
            "marker": {
             "colorbar": {
              "outlinewidth": 0,
              "ticks": ""
             }
            },
            "type": "scattergeo"
           }
          ],
          "scattergl": [
           {
            "marker": {
             "colorbar": {
              "outlinewidth": 0,
              "ticks": ""
             }
            },
            "type": "scattergl"
           }
          ],
          "scattermapbox": [
           {
            "marker": {
             "colorbar": {
              "outlinewidth": 0,
              "ticks": ""
             }
            },
            "type": "scattermapbox"
           }
          ],
          "scatterpolar": [
           {
            "marker": {
             "colorbar": {
              "outlinewidth": 0,
              "ticks": ""
             }
            },
            "type": "scatterpolar"
           }
          ],
          "scatterpolargl": [
           {
            "marker": {
             "colorbar": {
              "outlinewidth": 0,
              "ticks": ""
             }
            },
            "type": "scatterpolargl"
           }
          ],
          "scatterternary": [
           {
            "marker": {
             "colorbar": {
              "outlinewidth": 0,
              "ticks": ""
             }
            },
            "type": "scatterternary"
           }
          ],
          "surface": [
           {
            "colorbar": {
             "outlinewidth": 0,
             "ticks": ""
            },
            "colorscale": [
             [
              0,
              "#0d0887"
             ],
             [
              0.1111111111111111,
              "#46039f"
             ],
             [
              0.2222222222222222,
              "#7201a8"
             ],
             [
              0.3333333333333333,
              "#9c179e"
             ],
             [
              0.4444444444444444,
              "#bd3786"
             ],
             [
              0.5555555555555556,
              "#d8576b"
             ],
             [
              0.6666666666666666,
              "#ed7953"
             ],
             [
              0.7777777777777778,
              "#fb9f3a"
             ],
             [
              0.8888888888888888,
              "#fdca26"
             ],
             [
              1,
              "#f0f921"
             ]
            ],
            "type": "surface"
           }
          ],
          "table": [
           {
            "cells": {
             "fill": {
              "color": "#EBF0F8"
             },
             "line": {
              "color": "white"
             }
            },
            "header": {
             "fill": {
              "color": "#C8D4E3"
             },
             "line": {
              "color": "white"
             }
            },
            "type": "table"
           }
          ]
         },
         "layout": {
          "annotationdefaults": {
           "arrowcolor": "#2a3f5f",
           "arrowhead": 0,
           "arrowwidth": 1
          },
          "colorscale": {
           "diverging": [
            [
             0,
             "#8e0152"
            ],
            [
             0.1,
             "#c51b7d"
            ],
            [
             0.2,
             "#de77ae"
            ],
            [
             0.3,
             "#f1b6da"
            ],
            [
             0.4,
             "#fde0ef"
            ],
            [
             0.5,
             "#f7f7f7"
            ],
            [
             0.6,
             "#e6f5d0"
            ],
            [
             0.7,
             "#b8e186"
            ],
            [
             0.8,
             "#7fbc41"
            ],
            [
             0.9,
             "#4d9221"
            ],
            [
             1,
             "#276419"
            ]
           ],
           "sequential": [
            [
             0,
             "#0d0887"
            ],
            [
             0.1111111111111111,
             "#46039f"
            ],
            [
             0.2222222222222222,
             "#7201a8"
            ],
            [
             0.3333333333333333,
             "#9c179e"
            ],
            [
             0.4444444444444444,
             "#bd3786"
            ],
            [
             0.5555555555555556,
             "#d8576b"
            ],
            [
             0.6666666666666666,
             "#ed7953"
            ],
            [
             0.7777777777777778,
             "#fb9f3a"
            ],
            [
             0.8888888888888888,
             "#fdca26"
            ],
            [
             1,
             "#f0f921"
            ]
           ],
           "sequentialminus": [
            [
             0,
             "#0d0887"
            ],
            [
             0.1111111111111111,
             "#46039f"
            ],
            [
             0.2222222222222222,
             "#7201a8"
            ],
            [
             0.3333333333333333,
             "#9c179e"
            ],
            [
             0.4444444444444444,
             "#bd3786"
            ],
            [
             0.5555555555555556,
             "#d8576b"
            ],
            [
             0.6666666666666666,
             "#ed7953"
            ],
            [
             0.7777777777777778,
             "#fb9f3a"
            ],
            [
             0.8888888888888888,
             "#fdca26"
            ],
            [
             1,
             "#f0f921"
            ]
           ]
          },
          "colorway": [
           "#636efa",
           "#EF553B",
           "#00cc96",
           "#ab63fa",
           "#FFA15A",
           "#19d3f3",
           "#FF6692",
           "#B6E880",
           "#FF97FF",
           "#FECB52"
          ],
          "font": {
           "color": "#2a3f5f"
          },
          "geo": {
           "bgcolor": "white",
           "lakecolor": "white",
           "landcolor": "#E5ECF6",
           "showlakes": true,
           "showland": true,
           "subunitcolor": "white"
          },
          "hoverlabel": {
           "align": "left"
          },
          "hovermode": "closest",
          "mapbox": {
           "style": "light"
          },
          "paper_bgcolor": "white",
          "plot_bgcolor": "#E5ECF6",
          "polar": {
           "angularaxis": {
            "gridcolor": "white",
            "linecolor": "white",
            "ticks": ""
           },
           "bgcolor": "#E5ECF6",
           "radialaxis": {
            "gridcolor": "white",
            "linecolor": "white",
            "ticks": ""
           }
          },
          "scene": {
           "xaxis": {
            "backgroundcolor": "#E5ECF6",
            "gridcolor": "white",
            "gridwidth": 2,
            "linecolor": "white",
            "showbackground": true,
            "ticks": "",
            "zerolinecolor": "white"
           },
           "yaxis": {
            "backgroundcolor": "#E5ECF6",
            "gridcolor": "white",
            "gridwidth": 2,
            "linecolor": "white",
            "showbackground": true,
            "ticks": "",
            "zerolinecolor": "white"
           },
           "zaxis": {
            "backgroundcolor": "#E5ECF6",
            "gridcolor": "white",
            "gridwidth": 2,
            "linecolor": "white",
            "showbackground": true,
            "ticks": "",
            "zerolinecolor": "white"
           }
          },
          "shapedefaults": {
           "line": {
            "color": "#2a3f5f"
           }
          },
          "ternary": {
           "aaxis": {
            "gridcolor": "white",
            "linecolor": "white",
            "ticks": ""
           },
           "baxis": {
            "gridcolor": "white",
            "linecolor": "white",
            "ticks": ""
           },
           "bgcolor": "#E5ECF6",
           "caxis": {
            "gridcolor": "white",
            "linecolor": "white",
            "ticks": ""
           }
          },
          "title": {
           "x": 0.05
          },
          "xaxis": {
           "automargin": true,
           "gridcolor": "white",
           "linecolor": "white",
           "ticks": "",
           "zerolinecolor": "white",
           "zerolinewidth": 2
          },
          "yaxis": {
           "automargin": true,
           "gridcolor": "white",
           "linecolor": "white",
           "ticks": "",
           "zerolinecolor": "white",
           "zerolinewidth": 2
          }
         }
        },
        "title": {
         "text": "_plotly_utils.colors.qualitative"
        },
        "xaxis": {
         "range": [
          -0.02,
          1.02
         ],
         "showgrid": false,
         "showticklabels": false
        }
       }
      }
     },
     "metadata": {}
    }
   ],
   "source": [
    "import plotly.express as px\n",
    "\n",
    "fig = px.colors.qualitative.swatches()\n",
    "fig.show()"
   ]
  }
 ]
}