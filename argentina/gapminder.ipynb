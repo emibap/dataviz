{
 "cells": [
  {
   "cell_type": "code",
   "execution_count": 168,
   "metadata": {},
   "outputs": [],
   "source": [
    "import plotly.graph_objects as go\n",
    "import numpy as np\n",
    "import pandas as pd\n",
    "\n",
    "from util.functions import *"
   ]
  },
  {
   "cell_type": "code",
   "execution_count": 169,
   "metadata": {},
   "outputs": [
    {
     "data": {
      "text/html": [
       "<div>\n",
       "<style scoped>\n",
       "    .dataframe tbody tr th:only-of-type {\n",
       "        vertical-align: middle;\n",
       "    }\n",
       "\n",
       "    .dataframe tbody tr th {\n",
       "        vertical-align: top;\n",
       "    }\n",
       "\n",
       "    .dataframe thead th {\n",
       "        text-align: right;\n",
       "    }\n",
       "</style>\n",
       "<table border=\"1\" class=\"dataframe\">\n",
       "  <thead>\n",
       "    <tr style=\"text-align: right;\">\n",
       "      <th></th>\n",
       "      <th>country</th>\n",
       "      <th>1960</th>\n",
       "      <th>1961</th>\n",
       "      <th>1962</th>\n",
       "      <th>1963</th>\n",
       "      <th>1964</th>\n",
       "      <th>1965</th>\n",
       "      <th>1966</th>\n",
       "      <th>1967</th>\n",
       "      <th>1968</th>\n",
       "      <th>...</th>\n",
       "      <th>2013</th>\n",
       "      <th>2014</th>\n",
       "      <th>2015</th>\n",
       "      <th>2016</th>\n",
       "      <th>2017</th>\n",
       "      <th>2018</th>\n",
       "      <th>2019</th>\n",
       "      <th>2020</th>\n",
       "      <th>2021</th>\n",
       "      <th>2022</th>\n",
       "    </tr>\n",
       "  </thead>\n",
       "  <tbody>\n",
       "    <tr>\n",
       "      <th>0</th>\n",
       "      <td>Argentina</td>\n",
       "      <td>NaN</td>\n",
       "      <td>NaN</td>\n",
       "      <td>NaN</td>\n",
       "      <td>NaN</td>\n",
       "      <td>NaN</td>\n",
       "      <td>NaN</td>\n",
       "      <td>NaN</td>\n",
       "      <td>NaN</td>\n",
       "      <td>NaN</td>\n",
       "      <td>...</td>\n",
       "      <td>40.9</td>\n",
       "      <td>41.6</td>\n",
       "      <td>41.8</td>\n",
       "      <td>42</td>\n",
       "      <td>41.1</td>\n",
       "      <td>41.3</td>\n",
       "      <td>42.9</td>\n",
       "      <td>42.3</td>\n",
       "      <td>42</td>\n",
       "      <td>41.4</td>\n",
       "    </tr>\n",
       "  </tbody>\n",
       "</table>\n",
       "<p>1 rows × 64 columns</p>\n",
       "</div>"
      ],
      "text/plain": [
       "     country  1960  1961  1962  1963  1964  1965  1966  1967  1968  ...  2013  \\\n",
       "0  Argentina   NaN   NaN   NaN   NaN   NaN   NaN   NaN   NaN   NaN  ...  40.9   \n",
       "\n",
       "   2014  2015  2016  2017  2018  2019  2020  2021  2022  \n",
       "0  41.6  41.8    42  41.1  41.3  42.9  42.3    42  41.4  \n",
       "\n",
       "[1 rows x 64 columns]"
      ]
     },
     "execution_count": 169,
     "metadata": {},
     "output_type": "execute_result"
    }
   ],
   "source": [
    "# gini = pd.read_csv(\"assets/gini.csv\") \n",
    "# gini = pd.read_csv(\"assets/API_ARG_DS2_en_csv_v2_2164835.csv\") \n",
    "gini = pd.read_csv(\"assets/GINI_Arg_Banco_Mundial.csv\") \n",
    "gini.head()"
   ]
  },
  {
   "cell_type": "code",
   "execution_count": 170,
   "metadata": {},
   "outputs": [
    {
     "data": {
      "text/html": [
       "<div>\n",
       "<style scoped>\n",
       "    .dataframe tbody tr th:only-of-type {\n",
       "        vertical-align: middle;\n",
       "    }\n",
       "\n",
       "    .dataframe tbody tr th {\n",
       "        vertical-align: top;\n",
       "    }\n",
       "\n",
       "    .dataframe thead th {\n",
       "        text-align: right;\n",
       "    }\n",
       "</style>\n",
       "<table border=\"1\" class=\"dataframe\">\n",
       "  <thead>\n",
       "    <tr style=\"text-align: right;\">\n",
       "      <th></th>\n",
       "      <th>1960</th>\n",
       "      <th>1961</th>\n",
       "      <th>1962</th>\n",
       "      <th>1963</th>\n",
       "      <th>1964</th>\n",
       "      <th>1965</th>\n",
       "      <th>1966</th>\n",
       "      <th>1967</th>\n",
       "      <th>1968</th>\n",
       "      <th>1969</th>\n",
       "      <th>...</th>\n",
       "      <th>2013</th>\n",
       "      <th>2014</th>\n",
       "      <th>2015</th>\n",
       "      <th>2016</th>\n",
       "      <th>2017</th>\n",
       "      <th>2018</th>\n",
       "      <th>2019</th>\n",
       "      <th>2020</th>\n",
       "      <th>2021</th>\n",
       "      <th>2022</th>\n",
       "    </tr>\n",
       "  </thead>\n",
       "  <tbody>\n",
       "    <tr>\n",
       "      <th>0</th>\n",
       "      <td>NaN</td>\n",
       "      <td>NaN</td>\n",
       "      <td>NaN</td>\n",
       "      <td>NaN</td>\n",
       "      <td>NaN</td>\n",
       "      <td>NaN</td>\n",
       "      <td>NaN</td>\n",
       "      <td>NaN</td>\n",
       "      <td>NaN</td>\n",
       "      <td>NaN</td>\n",
       "      <td>...</td>\n",
       "      <td>40.9</td>\n",
       "      <td>41.6</td>\n",
       "      <td>41.8</td>\n",
       "      <td>42</td>\n",
       "      <td>41.1</td>\n",
       "      <td>41.3</td>\n",
       "      <td>42.9</td>\n",
       "      <td>42.3</td>\n",
       "      <td>42</td>\n",
       "      <td>41.4</td>\n",
       "    </tr>\n",
       "  </tbody>\n",
       "</table>\n",
       "<p>1 rows × 63 columns</p>\n",
       "</div>"
      ],
      "text/plain": [
       "   1960  1961  1962  1963  1964  1965  1966  1967  1968  1969  ...  2013  \\\n",
       "0   NaN   NaN   NaN   NaN   NaN   NaN   NaN   NaN   NaN   NaN  ...  40.9   \n",
       "\n",
       "   2014  2015  2016  2017  2018  2019  2020  2021  2022  \n",
       "0  41.6  41.8    42  41.1  41.3  42.9  42.3    42  41.4  \n",
       "\n",
       "[1 rows x 63 columns]"
      ]
     },
     "execution_count": 170,
     "metadata": {},
     "output_type": "execute_result"
    }
   ],
   "source": [
    "gini_arg = gini.loc[(gini.country == \"Argentina\")].copy()\n",
    "# gini_arg = gini.loc[(gini[\"Country Name\"] == \"Argentina\")].copy()\n",
    "\n",
    "gini_arg.drop(columns='country', inplace=True)\n",
    "gini_arg.tail(5)"
   ]
  },
  {
   "cell_type": "code",
   "execution_count": 171,
   "metadata": {},
   "outputs": [
    {
     "data": {
      "text/html": [
       "<div>\n",
       "<style scoped>\n",
       "    .dataframe tbody tr th:only-of-type {\n",
       "        vertical-align: middle;\n",
       "    }\n",
       "\n",
       "    .dataframe tbody tr th {\n",
       "        vertical-align: top;\n",
       "    }\n",
       "\n",
       "    .dataframe thead th {\n",
       "        text-align: right;\n",
       "    }\n",
       "</style>\n",
       "<table border=\"1\" class=\"dataframe\">\n",
       "  <thead>\n",
       "    <tr style=\"text-align: right;\">\n",
       "      <th></th>\n",
       "      <th>1960</th>\n",
       "      <th>1961</th>\n",
       "      <th>1962</th>\n",
       "      <th>1963</th>\n",
       "      <th>1964</th>\n",
       "      <th>1965</th>\n",
       "      <th>1966</th>\n",
       "      <th>1967</th>\n",
       "      <th>1968</th>\n",
       "      <th>1969</th>\n",
       "      <th>...</th>\n",
       "      <th>2013</th>\n",
       "      <th>2014</th>\n",
       "      <th>2015</th>\n",
       "      <th>2016</th>\n",
       "      <th>2017</th>\n",
       "      <th>2018</th>\n",
       "      <th>2019</th>\n",
       "      <th>2020</th>\n",
       "      <th>2021</th>\n",
       "      <th>2022</th>\n",
       "    </tr>\n",
       "  </thead>\n",
       "  <tbody>\n",
       "    <tr>\n",
       "      <th>0</th>\n",
       "      <td>7410.305029</td>\n",
       "      <td>7687.517338</td>\n",
       "      <td>7498.840061</td>\n",
       "      <td>6986.564802</td>\n",
       "      <td>7572.231166</td>\n",
       "      <td>8241.529337</td>\n",
       "      <td>8059.450431</td>\n",
       "      <td>8187.373351</td>\n",
       "      <td>8450.037064</td>\n",
       "      <td>9126.186479</td>\n",
       "      <td>...</td>\n",
       "      <td>14071.508683</td>\n",
       "      <td>13567.948416</td>\n",
       "      <td>13789.060425</td>\n",
       "      <td>13360.211835</td>\n",
       "      <td>13595.037355</td>\n",
       "      <td>13105.397163</td>\n",
       "      <td>12716.224204</td>\n",
       "      <td>11341.268366</td>\n",
       "      <td>12402.490791</td>\n",
       "      <td>12932.46953</td>\n",
       "    </tr>\n",
       "  </tbody>\n",
       "</table>\n",
       "<p>1 rows × 63 columns</p>\n",
       "</div>"
      ],
      "text/plain": [
       "          1960         1961         1962         1963         1964  \\\n",
       "0  7410.305029  7687.517338  7498.840061  6986.564802  7572.231166   \n",
       "\n",
       "          1965         1966         1967         1968         1969  ...  \\\n",
       "0  8241.529337  8059.450431  8187.373351  8450.037064  9126.186479  ...   \n",
       "\n",
       "           2013          2014          2015          2016          2017  \\\n",
       "0  14071.508683  13567.948416  13789.060425  13360.211835  13595.037355   \n",
       "\n",
       "           2018          2019          2020          2021         2022  \n",
       "0  13105.397163  12716.224204  11341.268366  12402.490791  12932.46953  \n",
       "\n",
       "[1 rows x 63 columns]"
      ]
     },
     "execution_count": 171,
     "metadata": {},
     "output_type": "execute_result"
    }
   ],
   "source": [
    "gdp = pd.read_csv(\"assets/PIB_per_capita_arg__2015_constant_banco_mundial.csv\")\n",
    "# gdp = pd.read_csv(\"assets/income_per_person_gdppercapita_ppp_inflation_adjusted.csv\")\n",
    "# gdp = pd.read_csv(\"assets/PIB_per_capita_PPP_2011_Banco_Mundial.csv\")\n",
    "# gdp = pd.read_csv(\"assets/gdppercapita_us_inflation_adjusted.csv\")\n",
    "\n",
    "gdp_arg = gdp.loc[(gdp.country == \"Argentina\")].copy()\n",
    "\n",
    "gdp_arg.drop(columns='country', inplace=True)\n",
    "\n",
    "gdp_arg.head()"
   ]
  },
  {
   "cell_type": "code",
   "execution_count": 172,
   "metadata": {},
   "outputs": [
    {
     "data": {
      "text/html": [
       "<div>\n",
       "<style scoped>\n",
       "    .dataframe tbody tr th:only-of-type {\n",
       "        vertical-align: middle;\n",
       "    }\n",
       "\n",
       "    .dataframe tbody tr th {\n",
       "        vertical-align: top;\n",
       "    }\n",
       "\n",
       "    .dataframe thead th {\n",
       "        text-align: right;\n",
       "    }\n",
       "</style>\n",
       "<table border=\"1\" class=\"dataframe\">\n",
       "  <thead>\n",
       "    <tr style=\"text-align: right;\">\n",
       "      <th></th>\n",
       "      <th>year</th>\n",
       "      <th>gdp</th>\n",
       "    </tr>\n",
       "  </thead>\n",
       "  <tbody>\n",
       "    <tr>\n",
       "      <th>0</th>\n",
       "      <td>1986</td>\n",
       "      <td>9397.883608</td>\n",
       "    </tr>\n",
       "    <tr>\n",
       "      <th>1</th>\n",
       "      <td>1987</td>\n",
       "      <td>9507.339813</td>\n",
       "    </tr>\n",
       "    <tr>\n",
       "      <th>2</th>\n",
       "      <td>1988</td>\n",
       "      <td>9262.963927</td>\n",
       "    </tr>\n",
       "    <tr>\n",
       "      <th>3</th>\n",
       "      <td>1989</td>\n",
       "      <td>8473.026569</td>\n",
       "    </tr>\n",
       "    <tr>\n",
       "      <th>4</th>\n",
       "      <td>1990</td>\n",
       "      <td>8144.494294</td>\n",
       "    </tr>\n",
       "  </tbody>\n",
       "</table>\n",
       "</div>"
      ],
      "text/plain": [
       "   year          gdp\n",
       "0  1986  9397.883608\n",
       "1  1987  9507.339813\n",
       "2  1988  9262.963927\n",
       "3  1989  8473.026569\n",
       "4  1990  8144.494294"
      ]
     },
     "execution_count": 172,
     "metadata": {},
     "output_type": "execute_result"
    }
   ],
   "source": [
    "# Preparo dataset para cubrir fechas mayores a 1985 y menores a 2023\n",
    "gdp_arg2 = pd.melt(gdp_arg, var_name=\"year\", value_name=\"gdp\")\n",
    "gdp_arg2.year = pd.to_numeric(gdp_arg2.year)\n",
    "gdp_arg2 = gdp_arg2.loc[(gdp_arg2.year > 1985) & (gdp_arg2.year <= 2022)]\n",
    "gdp_arg2.reset_index(drop=True, inplace=True)\n",
    "gdp_arg2.head()"
   ]
  },
  {
   "cell_type": "code",
   "execution_count": 173,
   "metadata": {},
   "outputs": [
    {
     "data": {
      "text/html": [
       "<div>\n",
       "<style scoped>\n",
       "    .dataframe tbody tr th:only-of-type {\n",
       "        vertical-align: middle;\n",
       "    }\n",
       "\n",
       "    .dataframe tbody tr th {\n",
       "        vertical-align: top;\n",
       "    }\n",
       "\n",
       "    .dataframe thead th {\n",
       "        text-align: right;\n",
       "    }\n",
       "</style>\n",
       "<table border=\"1\" class=\"dataframe\">\n",
       "  <thead>\n",
       "    <tr style=\"text-align: right;\">\n",
       "      <th></th>\n",
       "      <th>gini</th>\n",
       "    </tr>\n",
       "  </thead>\n",
       "  <tbody>\n",
       "    <tr>\n",
       "      <th>0</th>\n",
       "      <td>42.8</td>\n",
       "    </tr>\n",
       "    <tr>\n",
       "      <th>1</th>\n",
       "      <td>45.3</td>\n",
       "    </tr>\n",
       "    <tr>\n",
       "      <th>2</th>\n",
       "      <td>45.3</td>\n",
       "    </tr>\n",
       "    <tr>\n",
       "      <th>3</th>\n",
       "      <td>46.1</td>\n",
       "    </tr>\n",
       "    <tr>\n",
       "      <th>4</th>\n",
       "      <td>46.1</td>\n",
       "    </tr>\n",
       "  </tbody>\n",
       "</table>\n",
       "</div>"
      ],
      "text/plain": [
       "   gini\n",
       "0  42.8\n",
       "1  45.3\n",
       "2  45.3\n",
       "3  46.1\n",
       "4  46.1"
      ]
     },
     "execution_count": 173,
     "metadata": {},
     "output_type": "execute_result"
    }
   ],
   "source": [
    "gini_arg2 = pd.melt(gini_arg, var_name=\"year\", value_name=\"gini\")\n",
    "gini_arg2.year = pd.to_numeric(gini_arg2.year)\n",
    "gini_arg2 = gini_arg2.loc[(gini_arg2.year > 1985) & (gini_arg2.year <= 2022)]\n",
    "gini_arg2.drop(columns='year', inplace=True)\n",
    "gini_arg2.reset_index(drop=True, inplace=True)\n",
    "gini_arg2.head()"
   ]
  },
  {
   "cell_type": "code",
   "execution_count": 174,
   "metadata": {},
   "outputs": [
    {
     "data": {
      "text/html": [
       "<div>\n",
       "<style scoped>\n",
       "    .dataframe tbody tr th:only-of-type {\n",
       "        vertical-align: middle;\n",
       "    }\n",
       "\n",
       "    .dataframe tbody tr th {\n",
       "        vertical-align: top;\n",
       "    }\n",
       "\n",
       "    .dataframe thead th {\n",
       "        text-align: right;\n",
       "    }\n",
       "</style>\n",
       "<table border=\"1\" class=\"dataframe\">\n",
       "  <thead>\n",
       "    <tr style=\"text-align: right;\">\n",
       "      <th></th>\n",
       "      <th>year</th>\n",
       "      <th>gdp</th>\n",
       "      <th>gini</th>\n",
       "    </tr>\n",
       "  </thead>\n",
       "  <tbody>\n",
       "    <tr>\n",
       "      <th>32</th>\n",
       "      <td>2018</td>\n",
       "      <td>13105.397163</td>\n",
       "      <td>41.3</td>\n",
       "    </tr>\n",
       "    <tr>\n",
       "      <th>33</th>\n",
       "      <td>2019</td>\n",
       "      <td>12716.224204</td>\n",
       "      <td>42.9</td>\n",
       "    </tr>\n",
       "    <tr>\n",
       "      <th>34</th>\n",
       "      <td>2020</td>\n",
       "      <td>11341.268366</td>\n",
       "      <td>42.3</td>\n",
       "    </tr>\n",
       "    <tr>\n",
       "      <th>35</th>\n",
       "      <td>2021</td>\n",
       "      <td>12402.490791</td>\n",
       "      <td>42.0</td>\n",
       "    </tr>\n",
       "    <tr>\n",
       "      <th>36</th>\n",
       "      <td>2022</td>\n",
       "      <td>12932.469530</td>\n",
       "      <td>41.4</td>\n",
       "    </tr>\n",
       "  </tbody>\n",
       "</table>\n",
       "</div>"
      ],
      "text/plain": [
       "    year           gdp  gini\n",
       "32  2018  13105.397163  41.3\n",
       "33  2019  12716.224204  42.9\n",
       "34  2020  11341.268366  42.3\n",
       "35  2021  12402.490791  42.0\n",
       "36  2022  12932.469530  41.4"
      ]
     },
     "execution_count": 174,
     "metadata": {},
     "output_type": "execute_result"
    }
   ],
   "source": [
    "arg = pd.concat([gdp_arg2, gini_arg2], axis=1)\n",
    "arg.tail()"
   ]
  },
  {
   "cell_type": "code",
   "execution_count": 175,
   "metadata": {},
   "outputs": [
    {
     "data": {
      "text/html": [
       "<div>\n",
       "<style scoped>\n",
       "    .dataframe tbody tr th:only-of-type {\n",
       "        vertical-align: middle;\n",
       "    }\n",
       "\n",
       "    .dataframe tbody tr th {\n",
       "        vertical-align: top;\n",
       "    }\n",
       "\n",
       "    .dataframe thead th {\n",
       "        text-align: right;\n",
       "    }\n",
       "</style>\n",
       "<table border=\"1\" class=\"dataframe\">\n",
       "  <thead>\n",
       "    <tr style=\"text-align: right;\">\n",
       "      <th></th>\n",
       "      <th>year</th>\n",
       "      <th>gdp</th>\n",
       "      <th>gini</th>\n",
       "    </tr>\n",
       "  </thead>\n",
       "  <tbody>\n",
       "    <tr>\n",
       "      <th>count</th>\n",
       "      <td>37.000000</td>\n",
       "      <td>37.000000</td>\n",
       "      <td>37.000000</td>\n",
       "    </tr>\n",
       "    <tr>\n",
       "      <th>mean</th>\n",
       "      <td>2004.000000</td>\n",
       "      <td>11366.629596</td>\n",
       "      <td>45.616216</td>\n",
       "    </tr>\n",
       "    <tr>\n",
       "      <th>std</th>\n",
       "      <td>10.824355</td>\n",
       "      <td>1838.134250</td>\n",
       "      <td>3.648098</td>\n",
       "    </tr>\n",
       "    <tr>\n",
       "      <th>min</th>\n",
       "      <td>1986.000000</td>\n",
       "      <td>8144.494294</td>\n",
       "      <td>40.900000</td>\n",
       "    </tr>\n",
       "    <tr>\n",
       "      <th>25%</th>\n",
       "      <td>1995.000000</td>\n",
       "      <td>9957.256522</td>\n",
       "      <td>42.300000</td>\n",
       "    </tr>\n",
       "    <tr>\n",
       "      <th>50%</th>\n",
       "      <td>2004.000000</td>\n",
       "      <td>11141.310672</td>\n",
       "      <td>45.300000</td>\n",
       "    </tr>\n",
       "    <tr>\n",
       "      <th>75%</th>\n",
       "      <td>2013.000000</td>\n",
       "      <td>13105.397163</td>\n",
       "      <td>48.400000</td>\n",
       "    </tr>\n",
       "    <tr>\n",
       "      <th>max</th>\n",
       "      <td>2022.000000</td>\n",
       "      <td>14200.269889</td>\n",
       "      <td>53.800000</td>\n",
       "    </tr>\n",
       "  </tbody>\n",
       "</table>\n",
       "</div>"
      ],
      "text/plain": [
       "              year           gdp       gini\n",
       "count    37.000000     37.000000  37.000000\n",
       "mean   2004.000000  11366.629596  45.616216\n",
       "std      10.824355   1838.134250   3.648098\n",
       "min    1986.000000   8144.494294  40.900000\n",
       "25%    1995.000000   9957.256522  42.300000\n",
       "50%    2004.000000  11141.310672  45.300000\n",
       "75%    2013.000000  13105.397163  48.400000\n",
       "max    2022.000000  14200.269889  53.800000"
      ]
     },
     "execution_count": 175,
     "metadata": {},
     "output_type": "execute_result"
    }
   ],
   "source": [
    "arg.describe()"
   ]
  },
  {
   "cell_type": "code",
   "execution_count": 176,
   "metadata": {},
   "outputs": [],
   "source": [
    "arg = arg.reset_index(drop=True)\n",
    "# arg"
   ]
  },
  {
   "cell_type": "code",
   "execution_count": 177,
   "metadata": {},
   "outputs": [
    {
     "data": {
      "text/html": [
       "<div>\n",
       "<style scoped>\n",
       "    .dataframe tbody tr th:only-of-type {\n",
       "        vertical-align: middle;\n",
       "    }\n",
       "\n",
       "    .dataframe tbody tr th {\n",
       "        vertical-align: top;\n",
       "    }\n",
       "\n",
       "    .dataframe thead th {\n",
       "        text-align: right;\n",
       "    }\n",
       "</style>\n",
       "<table border=\"1\" class=\"dataframe\">\n",
       "  <thead>\n",
       "    <tr style=\"text-align: right;\">\n",
       "      <th></th>\n",
       "      <th>president</th>\n",
       "      <th>from</th>\n",
       "      <th>to</th>\n",
       "      <th>annotation_x</th>\n",
       "      <th>annotation_y</th>\n",
       "      <th>note</th>\n",
       "    </tr>\n",
       "  </thead>\n",
       "  <tbody>\n",
       "    <tr>\n",
       "      <th>0</th>\n",
       "      <td>Alfonsín</td>\n",
       "      <td>1986-01-01</td>\n",
       "      <td>1989-07-08</td>\n",
       "      <td>9100</td>\n",
       "      <td>43.50</td>\n",
       "      <td>NaN</td>\n",
       "    </tr>\n",
       "    <tr>\n",
       "      <th>1</th>\n",
       "      <td>Menem (1)</td>\n",
       "      <td>1989-07-08</td>\n",
       "      <td>1995-07-08</td>\n",
       "      <td>9600</td>\n",
       "      <td>46.10</td>\n",
       "      <td>NaN</td>\n",
       "    </tr>\n",
       "    <tr>\n",
       "      <th>2</th>\n",
       "      <td>Menem (2)</td>\n",
       "      <td>1995-07-08</td>\n",
       "      <td>1999-12-10</td>\n",
       "      <td>11610</td>\n",
       "      <td>49.00</td>\n",
       "      <td>NaN</td>\n",
       "    </tr>\n",
       "    <tr>\n",
       "      <th>3</th>\n",
       "      <td>De la Rúa</td>\n",
       "      <td>1999-12-10</td>\n",
       "      <td>2001-12-21</td>\n",
       "      <td>10650</td>\n",
       "      <td>53.00</td>\n",
       "      <td>NaN</td>\n",
       "    </tr>\n",
       "    <tr>\n",
       "      <th>4</th>\n",
       "      <td>5 Presidentes</td>\n",
       "      <td>2001-12-21</td>\n",
       "      <td>2002-01-02</td>\n",
       "      <td>10100</td>\n",
       "      <td>53.70</td>\n",
       "      <td>NaN</td>\n",
       "    </tr>\n",
       "    <tr>\n",
       "      <th>5</th>\n",
       "      <td>Duhalde</td>\n",
       "      <td>2002-01-02</td>\n",
       "      <td>2003-05-25</td>\n",
       "      <td>8600</td>\n",
       "      <td>53.00</td>\n",
       "      <td>NaN</td>\n",
       "    </tr>\n",
       "    <tr>\n",
       "      <th>6</th>\n",
       "      <td>Kirchner</td>\n",
       "      <td>2003-05-25</td>\n",
       "      <td>2007-12-10</td>\n",
       "      <td>11800</td>\n",
       "      <td>47.20</td>\n",
       "      <td>NaN</td>\n",
       "    </tr>\n",
       "    <tr>\n",
       "      <th>7</th>\n",
       "      <td>Fernández C. (1)</td>\n",
       "      <td>2007-12-10</td>\n",
       "      <td>2011-12-10</td>\n",
       "      <td>14300</td>\n",
       "      <td>43.40</td>\n",
       "      <td>NaN</td>\n",
       "    </tr>\n",
       "    <tr>\n",
       "      <th>8</th>\n",
       "      <td>Fernández C. (2)</td>\n",
       "      <td>2011-12-10</td>\n",
       "      <td>2015-12-10</td>\n",
       "      <td>14700</td>\n",
       "      <td>40.80</td>\n",
       "      <td>NaN</td>\n",
       "    </tr>\n",
       "    <tr>\n",
       "      <th>9</th>\n",
       "      <td>Macri</td>\n",
       "      <td>2015-12-10</td>\n",
       "      <td>2019-12-10</td>\n",
       "      <td>13400</td>\n",
       "      <td>42.35</td>\n",
       "      <td>NaN</td>\n",
       "    </tr>\n",
       "    <tr>\n",
       "      <th>10</th>\n",
       "      <td>Fernández A.</td>\n",
       "      <td>2019-12-10</td>\n",
       "      <td>NaN</td>\n",
       "      <td>11500</td>\n",
       "      <td>41.30</td>\n",
       "      <td>NaN</td>\n",
       "    </tr>\n",
       "  </tbody>\n",
       "</table>\n",
       "</div>"
      ],
      "text/plain": [
       "              president        from          to  annotation_x  annotation_y  \\\n",
       "0              Alfonsín  1986-01-01  1989-07-08          9100         43.50   \n",
       "1             Menem (1)  1989-07-08  1995-07-08          9600         46.10   \n",
       "2             Menem (2)  1995-07-08  1999-12-10         11610         49.00   \n",
       "3             De la Rúa  1999-12-10  2001-12-21         10650         53.00   \n",
       "4         5 Presidentes  2001-12-21  2002-01-02         10100         53.70   \n",
       "5               Duhalde  2002-01-02  2003-05-25          8600         53.00   \n",
       "6              Kirchner  2003-05-25  2007-12-10         11800         47.20   \n",
       "7      Fernández C. (1)  2007-12-10  2011-12-10         14300         43.40   \n",
       "8   Fernández C. (2)     2011-12-10  2015-12-10         14700         40.80   \n",
       "9                 Macri  2015-12-10  2019-12-10         13400         42.35   \n",
       "10         Fernández A.  2019-12-10         NaN         11500         41.30   \n",
       "\n",
       "    note  \n",
       "0    NaN  \n",
       "1    NaN  \n",
       "2    NaN  \n",
       "3    NaN  \n",
       "4    NaN  \n",
       "5    NaN  \n",
       "6    NaN  \n",
       "7    NaN  \n",
       "8    NaN  \n",
       "9    NaN  \n",
       "10   NaN  "
      ]
     },
     "execution_count": 177,
     "metadata": {},
     "output_type": "execute_result"
    }
   ],
   "source": [
    "presidentials2 = pd.read_csv(\"assets/presidentials.csv\")\n",
    "presidentials2 = presidentials2.loc[presidentials2.country == \"Argentina\"].copy()\n",
    "presidentials2.drop(columns='country', inplace=True)\n",
    "presidentials2.head(11)"
   ]
  },
  {
   "cell_type": "code",
   "execution_count": 178,
   "metadata": {},
   "outputs": [],
   "source": [
    "import math\n",
    "df = arg.copy()\n",
    "\n",
    "df[\"president\"] = presidentials2[\"president\"].head(1).values[0]\n",
    "\n",
    "for presi in presidentials2[\"president\"].unique():\n",
    "    presi_row = presidentials2[presidentials2.president == presi]\n",
    "    if not pd.isnull(presi_row[\"to\"].values[0]):\n",
    "        str_to = presi_row[\"to\"].values[0]\n",
    "        floor_to = get_year_from_datestr(str_to) - 1\n",
    "        percent_to = get_date_year_percentage(str_to)\n",
    "\n",
    "        row_num = df.index[df[\"year\"] == floor_to][0] + 1\n",
    "        row_val = df.loc[df[\"year\"] == floor_to].copy()\n",
    "        row_val_next_year = df.loc[df[\"year\"] == (floor_to+1)].copy()\n",
    "        row_val.year = floor_to + percent_to\n",
    "        row_val.gdp = row_val.gdp.values[0] + (row_val_next_year.gdp.values[0] - row_val.gdp.values[0]) * percent_to\n",
    "        row_val.gini = row_val.gini.values[0] + (row_val_next_year.gini.values[0] - row_val.gini.values[0]) * percent_to\n",
    "\n",
    "        df = insert_row(row_num, df, row_val.values[0]) \n",
    "\n",
    "    str_from = presi_row[\"from\"].values[0]\n",
    "    floor_from = get_year_from_datestr(str_from) - 1\n",
    "    percent_from = get_date_year_percentage(str_from)\n",
    "    df.loc[df.year > (floor_from + percent_from), \"president\"] = presi"
   ]
  },
  {
   "cell_type": "code",
   "execution_count": 179,
   "metadata": {},
   "outputs": [],
   "source": [
    "events = pd.read_csv(\"assets/events.csv\")\n"
   ]
  },
  {
   "cell_type": "code",
   "execution_count": 180,
   "metadata": {},
   "outputs": [
    {
     "data": {
      "application/vnd.plotly.v1+json": {
       "config": {
        "displayModeBar": false,
        "plotlyServerURL": "https://plot.ly",
        "showTips": false
       },
       "data": [
        {
         "hoverinfo": [
          "text"
         ],
         "line": {
          "color": "rgb(165, 170, 153)",
          "shape": "spline",
          "width": 5
         },
         "mode": "lines",
         "showlegend": false,
         "textfont": {
          "color": "#090933",
          "family": "Helvetica, Verdana",
          "size": 11
         },
         "type": "scatter",
         "x": [
          9397.88360849477,
          9507.33981264281,
          9262.96392660836,
          8856.092082116495
         ],
         "y": [
          42.8,
          45.3,
          45.3,
          45.71205479452055
         ]
        },
        {
         "hoverinfo": [
          "text"
         ],
         "line": {
          "color": "rgb(237, 100, 90)",
          "shape": "spline",
          "width": 5
         },
         "mode": "lines",
         "showlegend": false,
         "textfont": {
          "color": "#090933",
          "family": "Helvetica, Verdana",
          "size": 11
         },
         "type": "scatter",
         "x": [
          8856.092082116495,
          8473.02656895128,
          8144.49429397801,
          8762.66138351332,
          9327.8594509636,
          9957.25652230492,
          10397.3792874496,
          10176.905397612214
         ],
         "y": [
          45.71205479452055,
          46.1,
          46.1,
          46.8,
          45.5,
          44.9,
          45.9,
          47.445205479452056
         ]
        },
        {
         "hoverinfo": [
          "text"
         ],
         "line": {
          "color": "rgb(118, 78, 159)",
          "shape": "spline",
          "width": 5
         },
         "mode": "lines",
         "showlegend": false,
         "textfont": {
          "color": "#090933",
          "family": "Helvetica, Verdana",
          "size": 11
         },
         "type": "scatter",
         "x": [
          10176.905397612214,
          9969.33157579723,
          10388.5387104408,
          11097.3820634618,
          11391.9451576314,
          10941.614881501424
         ],
         "y": [
          47.445205479452056,
          48.9,
          49.5,
          49.1,
          50.7,
          49.908
         ]
        },
        {
         "hoverinfo": [
          "text"
         ],
         "line": {
          "color": "rgb(47, 138, 196)",
          "shape": "spline",
          "width": 5
         },
         "mode": "lines",
         "showlegend": false,
         "textfont": {
          "color": "#090933",
          "family": "Helvetica, Verdana",
          "size": 11
         },
         "type": "scatter",
         "x": [
          10941.614881501424,
          10880.2062074837,
          10672.7220353121,
          10160.501674454621
         ],
         "y": [
          49.908,
          49.8,
          51.1,
          53.035999999999994
         ]
        },
        {
         "hoverinfo": [
          "text"
         ],
         "line": {
          "color": "rgb(218, 165, 27)",
          "shape": "spline",
          "width": 5
         },
         "mode": "lines",
         "showlegend": false,
         "textfont": {
          "color": "#090933",
          "family": "Helvetica, Verdana",
          "size": 11
         },
         "type": "scatter",
         "x": [
          10160.501674454621,
          10090.6534434286,
          9947.213387270069
         ],
         "y": [
          53.035999999999994,
          53.3,
          53.36
         ]
        },
        {
         "hoverinfo": [
          "text"
         ],
         "line": {
          "color": "rgb(36, 121, 108)",
          "shape": "spline",
          "width": 5
         },
         "mode": "lines",
         "showlegend": false,
         "textfont": {
          "color": "#090933",
          "family": "Helvetica, Verdana",
          "size": 11
         },
         "type": "scatter",
         "x": [
          9947.213387270069,
          8895.31964210751,
          9166.217235566559
         ],
         "y": [
          53.36,
          53.8,
          52.655890410958904
         ]
        },
        {
         "hoverinfo": [
          "text"
         ],
         "line": {
          "color": "rgb(204, 97, 176)",
          "shape": "spline",
          "width": 5
         },
         "mode": "lines",
         "showlegend": false,
         "textfont": {
          "color": "#090933",
          "family": "Helvetica, Verdana",
          "size": 11
         },
         "type": "scatter",
         "x": [
          9166.217235566559,
          9581.96979219468,
          10341.6434058805,
          11141.3106718375,
          11913.9585322637,
          12743.916491716212
         ],
         "y": [
          52.655890410958904,
          50.9,
          48.4,
          47.7,
          46.3,
          46.212
         ]
        },
        {
         "hoverinfo": [
          "text"
         ],
         "line": {
          "color": "rgb(153, 201, 69)",
          "shape": "spline",
          "width": 5
         },
         "mode": "lines",
         "showlegend": false,
         "textfont": {
          "color": "#090933",
          "family": "Helvetica, Verdana",
          "size": 11
         },
         "type": "scatter",
         "x": [
          12743.916491716212,
          12857.0925770961,
          13246.6348917152,
          12336.8619385237,
          13551.3391940229,
          14122.398205656253
         ],
         "y": [
          46.212,
          46.2,
          44.9,
          43.7,
          43.6,
          42.72
         ]
        },
        {
         "hoverinfo": [
          "text"
         ],
         "line": {
          "color": "rgb(82, 188, 163)",
          "shape": "spline",
          "width": 5
         },
         "mode": "lines",
         "showlegend": false,
         "textfont": {
          "color": "#090933",
          "family": "Helvetica, Verdana",
          "size": 11
         },
         "type": "scatter",
         "x": [
          14122.398205656253,
          14200.2698890608,
          13895.6337072986,
          14071.5086831557,
          13567.9484159809,
          13762.526983717069
         ],
         "y": [
          42.72,
          42.6,
          41.3,
          40.9,
          41.6,
          41.775999999999996
         ]
        },
        {
         "hoverinfo": [
          "text"
         ],
         "line": {
          "color": "rgb(93, 105, 177)",
          "shape": "spline",
          "width": 5
         },
         "mode": "lines",
         "showlegend": false,
         "textfont": {
          "color": "#090933",
          "family": "Helvetica, Verdana",
          "size": 11
         },
         "type": "scatter",
         "x": [
          13762.526983717069,
          13789.060424772,
          13360.2118345982,
          13595.0373551081,
          13105.397163317,
          12762.924958989912
         ],
         "y": [
          41.775999999999996,
          41.8,
          42,
          41.1,
          41.3,
          42.708
         ]
        },
        {
         "hoverinfo": [
          "text"
         ],
         "line": {
          "color": "rgb(229, 134, 6)",
          "shape": "spline",
          "width": 5
         },
         "mode": "lines",
         "showlegend": false,
         "textfont": {
          "color": "#090933",
          "family": "Helvetica, Verdana",
          "size": 11
         },
         "type": "scatter",
         "x": [
          12762.924958989912,
          12716.2242038544,
          11341.2683655863,
          12402.4907912317,
          12932.4695302972
         ],
         "y": [
          42.708,
          42.9,
          42.3,
          42,
          41.4
         ]
        },
        {
         "hoverinfo": [
          "text"
         ],
         "hovertemplate": "Finales de año: <b>%{text}</b><br>PBI PPP: <b>$%{x:.0f}</b><br>Gini: <b>%{y:.2f}</b><br>",
         "line": {
          "shape": "spline"
         },
         "marker": {
          "color": "white",
          "line": {
           "color": "black",
           "width": 2
          },
          "size": 6
         },
         "mode": "markers+text",
         "showlegend": false,
         "text": [
          1986,
          1987,
          1988,
          1989,
          1990,
          1991,
          1992,
          1993,
          1994,
          1995,
          1996,
          1997,
          1998,
          1999,
          2000,
          2001,
          2002,
          2003,
          2004,
          2005,
          2006,
          2007,
          2008,
          2009,
          2010,
          2011,
          2012,
          2013,
          2014,
          2015,
          2016,
          2017,
          2018,
          2019,
          2020,
          2021,
          2022
         ],
         "textfont": {
          "color": "#090933",
          "family": "Helvetica, Verdana",
          "size": 11
         },
         "textposition": [
          "bottom left",
          "top right",
          "bottom center",
          "top center",
          "bottom left",
          "top center",
          "top right",
          "top center",
          "top right",
          "top left",
          "top left",
          "bottom right",
          "top right",
          "bottom center",
          "top right",
          "top right",
          "top left",
          "top right",
          "top right",
          "top right",
          "top right",
          "top right",
          "top right",
          "top left",
          "top right",
          "top right",
          "middle right",
          "bottom right",
          "middle right",
          "top center",
          "top left",
          "bottom right",
          "top right",
          "top right",
          "top left",
          "bottom left",
          "bottom left"
         ],
         "texttemplate": "<b>%{text}</b>",
         "type": "scatter",
         "x": [
          9397.88360849477,
          9507.33981264281,
          9262.96392660836,
          8473.02656895128,
          8144.49429397801,
          8762.66138351332,
          9327.8594509636,
          9957.25652230492,
          10397.3792874496,
          9969.33157579723,
          10388.5387104408,
          11097.3820634618,
          11391.9451576314,
          10880.2062074837,
          10672.7220353121,
          10090.6534434286,
          8895.31964210751,
          9581.96979219468,
          10341.6434058805,
          11141.3106718375,
          11913.9585322637,
          12857.0925770961,
          13246.6348917152,
          12336.8619385237,
          13551.3391940229,
          14200.2698890608,
          13895.6337072986,
          14071.5086831557,
          13567.9484159809,
          13789.060424772,
          13360.2118345982,
          13595.0373551081,
          13105.397163317,
          12716.2242038544,
          11341.2683655863,
          12402.4907912317,
          12932.4695302972
         ],
         "y": [
          42.8,
          45.3,
          45.3,
          46.1,
          46.1,
          46.8,
          45.5,
          44.9,
          45.9,
          48.9,
          49.5,
          49.1,
          50.7,
          49.8,
          51.1,
          53.3,
          53.8,
          50.9,
          48.4,
          47.7,
          46.3,
          46.2,
          44.9,
          43.7,
          43.6,
          42.6,
          41.3,
          40.9,
          41.6,
          41.8,
          42,
          41.1,
          41.3,
          42.9,
          42.3,
          42,
          41.4
         ]
        }
       ],
       "layout": {
        "annotations": [
         {
          "font": {
           "color": "rgb(165, 170, 153)",
           "family": "Helvetica, Verdana",
           "size": 12
          },
          "showarrow": false,
          "text": "<b>Alfonsín</b>",
          "x": 9100,
          "xref": "x",
          "y": 43.5,
          "yref": "y",
          "yshift": 10
         },
         {
          "font": {
           "color": "rgb(237, 100, 90)",
           "family": "Helvetica, Verdana",
           "size": 12
          },
          "showarrow": false,
          "text": "<b>Menem (1)</b>",
          "x": 9600,
          "xref": "x",
          "y": 46.1,
          "yref": "y",
          "yshift": 10
         },
         {
          "font": {
           "color": "rgb(118, 78, 159)",
           "family": "Helvetica, Verdana",
           "size": 12
          },
          "showarrow": false,
          "text": "<b>Menem (2)</b>",
          "x": 11610,
          "xref": "x",
          "y": 49,
          "yref": "y",
          "yshift": 10
         },
         {
          "font": {
           "color": "rgb(47, 138, 196)",
           "family": "Helvetica, Verdana",
           "size": 12
          },
          "showarrow": false,
          "text": "<b>De la Rúa</b>",
          "x": 10650,
          "xref": "x",
          "y": 53,
          "yref": "y",
          "yshift": 10
         },
         {
          "font": {
           "color": "rgb(218, 165, 27)",
           "family": "Helvetica, Verdana",
           "size": 12
          },
          "showarrow": false,
          "text": "<b>5 Presidentes</b>",
          "x": 10100,
          "xref": "x",
          "y": 53.7,
          "yref": "y",
          "yshift": 10
         },
         {
          "font": {
           "color": "rgb(36, 121, 108)",
           "family": "Helvetica, Verdana",
           "size": 12
          },
          "showarrow": false,
          "text": "<b>Duhalde</b>",
          "x": 8600,
          "xref": "x",
          "y": 53,
          "yref": "y",
          "yshift": 10
         },
         {
          "font": {
           "color": "rgb(204, 97, 176)",
           "family": "Helvetica, Verdana",
           "size": 12
          },
          "showarrow": false,
          "text": "<b>Kirchner</b>",
          "x": 11800,
          "xref": "x",
          "y": 47.2,
          "yref": "y",
          "yshift": 10
         },
         {
          "font": {
           "color": "rgb(153, 201, 69)",
           "family": "Helvetica, Verdana",
           "size": 12
          },
          "showarrow": false,
          "text": "<b>Fernández C. (1)</b>",
          "x": 14300,
          "xref": "x",
          "y": 43.4,
          "yref": "y",
          "yshift": 10
         },
         {
          "font": {
           "color": "rgb(82, 188, 163)",
           "family": "Helvetica, Verdana",
           "size": 12
          },
          "showarrow": false,
          "text": "<b>Fernández C. (2)   </b>",
          "x": 14700,
          "xref": "x",
          "y": 40.8,
          "yref": "y",
          "yshift": 10
         },
         {
          "font": {
           "color": "rgb(93, 105, 177)",
           "family": "Helvetica, Verdana",
           "size": 12
          },
          "showarrow": false,
          "text": "<b>Macri</b>",
          "x": 13400,
          "xref": "x",
          "y": 42.35,
          "yref": "y",
          "yshift": 10
         },
         {
          "font": {
           "color": "rgb(229, 134, 6)",
           "family": "Helvetica, Verdana",
           "size": 12
          },
          "showarrow": false,
          "text": "<b>Fernández A.</b>",
          "x": 11500,
          "xref": "x",
          "y": 41.3,
          "yref": "y",
          "yshift": 10
         },
         {
          "align": "right",
          "font": {
           "family": "Helvetica, Verdana",
           "size": 13
          },
          "showarrow": false,
          "text": "<b>Índice de desigualdad GINI</b><br>Valores más altos indican mayor desigualdad",
          "x": 0.9,
          "xref": "paper",
          "y": 0.935,
          "yref": "paper"
         },
         {
          "align": "center",
          "arrowcolor": "black",
          "arrowhead": 2,
          "arrowside": "end+start",
          "arrowsize": 1,
          "arrowwidth": 2,
          "ax": 0,
          "ay": 74,
          "opacity": 1,
          "showarrow": true,
          "x": 0.91,
          "xref": "paper",
          "y": 0.96,
          "yref": "paper"
         },
         {
          "align": "center",
          "font": {
           "family": "Helvetica, Verdana",
           "size": 13
          },
          "showarrow": false,
          "text": "<b>Producto Bruto Interno per Capita</b><br>USD ajustados por inflación a valor constante 2015",
          "x": 0.073,
          "xref": "paper",
          "y": 0.016,
          "yref": "paper"
         },
         {
          "align": "center",
          "arrowcolor": "black",
          "arrowhead": 2,
          "arrowside": "end+start",
          "arrowsize": 1,
          "arrowwidth": 2,
          "ax": 180,
          "ay": 0,
          "opacity": 1,
          "showarrow": true,
          "x": 0.15,
          "xref": "paper",
          "y": 0.09,
          "yref": "paper"
         },
         {
          "align": "center",
          "arrowcolor": "grey",
          "arrowhead": 2,
          "arrowsize": 1,
          "arrowwidth": 1,
          "ax": 60,
          "ay": 0,
          "font": {
           "color": "grey",
           "family": "Helvetica, Verdana",
           "size": 12
          },
          "showarrow": true,
          "text": "<i>Plan Austral</i>",
          "x": 9411.018352992536,
          "xref": "x",
          "xshift": 10,
          "y": 43.099999999999994,
          "yref": "y",
          "yshift": 0
         },
         {
          "align": "center",
          "arrowcolor": "grey",
          "arrowhead": 2,
          "arrowsize": 1,
          "arrowwidth": 1,
          "ax": -30,
          "ay": 10,
          "font": {
           "color": "grey",
           "family": "Helvetica, Verdana",
           "size": 12
          },
          "showarrow": true,
          "text": "<i> </i>",
          "x": 9037.885884974561,
          "xref": "x",
          "xshift": 0,
          "y": 45.52794520547945,
          "yref": "y",
          "yshift": -10
         },
         {
          "align": "center",
          "arrowcolor": "grey",
          "arrowhead": 2,
          "arrowsize": 1,
          "arrowwidth": 1,
          "ax": 0,
          "ay": 40,
          "font": {
           "color": "grey",
           "family": "Helvetica, Verdana",
           "size": 12
          },
          "showarrow": true,
          "text": "<i>Hiperinflación</i>",
          "x": 8419.921351900806,
          "xref": "x",
          "xshift": 0,
          "y": 46.1,
          "yref": "y",
          "yshift": -10
         },
         {
          "align": "center",
          "arrowcolor": "grey",
          "arrowhead": 2,
          "arrowsize": 1,
          "arrowwidth": 1,
          "ax": -10,
          "ay": -20,
          "font": {
           "color": "grey",
           "family": "Helvetica, Verdana",
           "size": 12
          },
          "showarrow": true,
          "text": "<i>Convertibilidad</i>",
          "x": 8288.451013458836,
          "xref": "x",
          "xshift": 0,
          "y": 46.26301369863014,
          "yref": "y",
          "yshift": 15
         },
         {
          "align": "center",
          "arrowcolor": "grey",
          "arrowhead": 2,
          "arrowsize": 1,
          "arrowwidth": 1,
          "ax": 60,
          "ay": 30,
          "font": {
           "color": "grey",
           "family": "Helvetica, Verdana",
           "size": 12
          },
          "showarrow": true,
          "text": "<i>Efecto Tequila</i>",
          "x": 10344.564555632238,
          "xref": "x",
          "xshift": 10,
          "y": 45.78,
          "yref": "y",
          "yshift": 0
         },
         {
          "align": "center",
          "arrowcolor": "grey",
          "arrowhead": 2,
          "arrowsize": 1,
          "arrowwidth": 1,
          "ax": 30,
          "ay": -30,
          "font": {
           "color": "grey",
           "family": "Helvetica, Verdana",
           "size": 12
          },
          "showarrow": true,
          "text": "<i>Megacanje FMI</i>",
          "x": 10602.873804286079,
          "xref": "x",
          "xshift": 0,
          "y": 51.364000000000004,
          "yref": "y",
          "yshift": 10
         },
         {
          "align": "center",
          "arrowcolor": "grey",
          "arrowhead": 2,
          "arrowsize": 1,
          "arrowwidth": 1,
          "ax": -20,
          "ay": 30,
          "font": {
           "color": "grey",
           "family": "Helvetica, Verdana",
           "size": 12
          },
          "showarrow": true,
          "text": "<i>Corralito</i>",
          "x": 10160.501674454621,
          "xref": "x",
          "xshift": 0,
          "y": 53.035999999999994,
          "yref": "y",
          "yshift": -10
         },
         {
          "align": "center",
          "arrowcolor": "grey",
          "arrowhead": 2,
          "arrowsize": 1,
          "arrowwidth": 1,
          "ax": -30,
          "ay": 30,
          "font": {
           "color": "grey",
           "family": "Helvetica, Verdana",
           "size": 12
          },
          "showarrow": true,
          "text": "<i>Salda deuda FMI</i>",
          "x": 11234.028415088644,
          "xref": "x",
          "xshift": 0,
          "y": 47.532000000000004,
          "yref": "y",
          "yshift": -10
         },
         {
          "align": "center",
          "arrowcolor": "grey",
          "arrowhead": 2,
          "arrowsize": 1,
          "arrowwidth": 1,
          "ax": 70,
          "ay": 0,
          "font": {
           "color": "grey",
           "family": "Helvetica, Verdana",
           "size": 12
          },
          "showarrow": true,
          "text": "<i>Recesión global</i>",
          "x": 12903.837654850393,
          "xref": "x",
          "xshift": 20,
          "y": 46.044000000000004,
          "yref": "y",
          "yshift": 0
         },
         {
          "align": "center",
          "arrowcolor": "grey",
          "arrowhead": 2,
          "arrowsize": 1,
          "arrowwidth": 1,
          "ax": -10,
          "ay": 22,
          "font": {
           "color": "grey",
           "family": "Helvetica, Verdana",
           "size": 12
          },
          "showarrow": true,
          "text": "<i>Rescate FMI</i>",
          "x": 13384.424998639051,
          "xref": "x",
          "xshift": 0,
          "y": 41.186027397260276,
          "yref": "y",
          "yshift": -10
         },
         {
          "align": "center",
          "arrowcolor": "grey",
          "arrowhead": 2,
          "arrowsize": 1,
          "arrowwidth": 1,
          "ax": -50,
          "ay": -20,
          "font": {
           "color": "grey",
           "family": "Helvetica, Verdana",
           "size": 12
          },
          "showarrow": true,
          "text": "<i>Cuarentena COVID</i>",
          "x": 12092.610353710945,
          "xref": "x",
          "xshift": 10,
          "y": 42.62786885245902,
          "yref": "y",
          "yshift": 15
         }
        ],
        "font": {
         "family": "Helvetica, Verdana"
        },
        "height": 800,
        "hoverdistance": 100,
        "legend": {
         "itemclick": "toggleothers",
         "itemdoubleclick": "toggle"
        },
        "paper_bgcolor": "#ffffff",
        "plot_bgcolor": "#ffffff",
        "spikedistance": 1000,
        "template": {
         "data": {
          "bar": [
           {
            "error_x": {
             "color": "#2a3f5f"
            },
            "error_y": {
             "color": "#2a3f5f"
            },
            "marker": {
             "line": {
              "color": "#E5ECF6",
              "width": 0.5
             },
             "pattern": {
              "fillmode": "overlay",
              "size": 10,
              "solidity": 0.2
             }
            },
            "type": "bar"
           }
          ],
          "barpolar": [
           {
            "marker": {
             "line": {
              "color": "#E5ECF6",
              "width": 0.5
             },
             "pattern": {
              "fillmode": "overlay",
              "size": 10,
              "solidity": 0.2
             }
            },
            "type": "barpolar"
           }
          ],
          "carpet": [
           {
            "aaxis": {
             "endlinecolor": "#2a3f5f",
             "gridcolor": "white",
             "linecolor": "white",
             "minorgridcolor": "white",
             "startlinecolor": "#2a3f5f"
            },
            "baxis": {
             "endlinecolor": "#2a3f5f",
             "gridcolor": "white",
             "linecolor": "white",
             "minorgridcolor": "white",
             "startlinecolor": "#2a3f5f"
            },
            "type": "carpet"
           }
          ],
          "choropleth": [
           {
            "colorbar": {
             "outlinewidth": 0,
             "ticks": ""
            },
            "type": "choropleth"
           }
          ],
          "contour": [
           {
            "colorbar": {
             "outlinewidth": 0,
             "ticks": ""
            },
            "colorscale": [
             [
              0,
              "#0d0887"
             ],
             [
              0.1111111111111111,
              "#46039f"
             ],
             [
              0.2222222222222222,
              "#7201a8"
             ],
             [
              0.3333333333333333,
              "#9c179e"
             ],
             [
              0.4444444444444444,
              "#bd3786"
             ],
             [
              0.5555555555555556,
              "#d8576b"
             ],
             [
              0.6666666666666666,
              "#ed7953"
             ],
             [
              0.7777777777777778,
              "#fb9f3a"
             ],
             [
              0.8888888888888888,
              "#fdca26"
             ],
             [
              1,
              "#f0f921"
             ]
            ],
            "type": "contour"
           }
          ],
          "contourcarpet": [
           {
            "colorbar": {
             "outlinewidth": 0,
             "ticks": ""
            },
            "type": "contourcarpet"
           }
          ],
          "heatmap": [
           {
            "colorbar": {
             "outlinewidth": 0,
             "ticks": ""
            },
            "colorscale": [
             [
              0,
              "#0d0887"
             ],
             [
              0.1111111111111111,
              "#46039f"
             ],
             [
              0.2222222222222222,
              "#7201a8"
             ],
             [
              0.3333333333333333,
              "#9c179e"
             ],
             [
              0.4444444444444444,
              "#bd3786"
             ],
             [
              0.5555555555555556,
              "#d8576b"
             ],
             [
              0.6666666666666666,
              "#ed7953"
             ],
             [
              0.7777777777777778,
              "#fb9f3a"
             ],
             [
              0.8888888888888888,
              "#fdca26"
             ],
             [
              1,
              "#f0f921"
             ]
            ],
            "type": "heatmap"
           }
          ],
          "heatmapgl": [
           {
            "colorbar": {
             "outlinewidth": 0,
             "ticks": ""
            },
            "colorscale": [
             [
              0,
              "#0d0887"
             ],
             [
              0.1111111111111111,
              "#46039f"
             ],
             [
              0.2222222222222222,
              "#7201a8"
             ],
             [
              0.3333333333333333,
              "#9c179e"
             ],
             [
              0.4444444444444444,
              "#bd3786"
             ],
             [
              0.5555555555555556,
              "#d8576b"
             ],
             [
              0.6666666666666666,
              "#ed7953"
             ],
             [
              0.7777777777777778,
              "#fb9f3a"
             ],
             [
              0.8888888888888888,
              "#fdca26"
             ],
             [
              1,
              "#f0f921"
             ]
            ],
            "type": "heatmapgl"
           }
          ],
          "histogram": [
           {
            "marker": {
             "pattern": {
              "fillmode": "overlay",
              "size": 10,
              "solidity": 0.2
             }
            },
            "type": "histogram"
           }
          ],
          "histogram2d": [
           {
            "colorbar": {
             "outlinewidth": 0,
             "ticks": ""
            },
            "colorscale": [
             [
              0,
              "#0d0887"
             ],
             [
              0.1111111111111111,
              "#46039f"
             ],
             [
              0.2222222222222222,
              "#7201a8"
             ],
             [
              0.3333333333333333,
              "#9c179e"
             ],
             [
              0.4444444444444444,
              "#bd3786"
             ],
             [
              0.5555555555555556,
              "#d8576b"
             ],
             [
              0.6666666666666666,
              "#ed7953"
             ],
             [
              0.7777777777777778,
              "#fb9f3a"
             ],
             [
              0.8888888888888888,
              "#fdca26"
             ],
             [
              1,
              "#f0f921"
             ]
            ],
            "type": "histogram2d"
           }
          ],
          "histogram2dcontour": [
           {
            "colorbar": {
             "outlinewidth": 0,
             "ticks": ""
            },
            "colorscale": [
             [
              0,
              "#0d0887"
             ],
             [
              0.1111111111111111,
              "#46039f"
             ],
             [
              0.2222222222222222,
              "#7201a8"
             ],
             [
              0.3333333333333333,
              "#9c179e"
             ],
             [
              0.4444444444444444,
              "#bd3786"
             ],
             [
              0.5555555555555556,
              "#d8576b"
             ],
             [
              0.6666666666666666,
              "#ed7953"
             ],
             [
              0.7777777777777778,
              "#fb9f3a"
             ],
             [
              0.8888888888888888,
              "#fdca26"
             ],
             [
              1,
              "#f0f921"
             ]
            ],
            "type": "histogram2dcontour"
           }
          ],
          "mesh3d": [
           {
            "colorbar": {
             "outlinewidth": 0,
             "ticks": ""
            },
            "type": "mesh3d"
           }
          ],
          "parcoords": [
           {
            "line": {
             "colorbar": {
              "outlinewidth": 0,
              "ticks": ""
             }
            },
            "type": "parcoords"
           }
          ],
          "pie": [
           {
            "automargin": true,
            "type": "pie"
           }
          ],
          "scatter": [
           {
            "fillpattern": {
             "fillmode": "overlay",
             "size": 10,
             "solidity": 0.2
            },
            "type": "scatter"
           }
          ],
          "scatter3d": [
           {
            "line": {
             "colorbar": {
              "outlinewidth": 0,
              "ticks": ""
             }
            },
            "marker": {
             "colorbar": {
              "outlinewidth": 0,
              "ticks": ""
             }
            },
            "type": "scatter3d"
           }
          ],
          "scattercarpet": [
           {
            "marker": {
             "colorbar": {
              "outlinewidth": 0,
              "ticks": ""
             }
            },
            "type": "scattercarpet"
           }
          ],
          "scattergeo": [
           {
            "marker": {
             "colorbar": {
              "outlinewidth": 0,
              "ticks": ""
             }
            },
            "type": "scattergeo"
           }
          ],
          "scattergl": [
           {
            "marker": {
             "colorbar": {
              "outlinewidth": 0,
              "ticks": ""
             }
            },
            "type": "scattergl"
           }
          ],
          "scattermapbox": [
           {
            "marker": {
             "colorbar": {
              "outlinewidth": 0,
              "ticks": ""
             }
            },
            "type": "scattermapbox"
           }
          ],
          "scatterpolar": [
           {
            "marker": {
             "colorbar": {
              "outlinewidth": 0,
              "ticks": ""
             }
            },
            "type": "scatterpolar"
           }
          ],
          "scatterpolargl": [
           {
            "marker": {
             "colorbar": {
              "outlinewidth": 0,
              "ticks": ""
             }
            },
            "type": "scatterpolargl"
           }
          ],
          "scatterternary": [
           {
            "marker": {
             "colorbar": {
              "outlinewidth": 0,
              "ticks": ""
             }
            },
            "type": "scatterternary"
           }
          ],
          "surface": [
           {
            "colorbar": {
             "outlinewidth": 0,
             "ticks": ""
            },
            "colorscale": [
             [
              0,
              "#0d0887"
             ],
             [
              0.1111111111111111,
              "#46039f"
             ],
             [
              0.2222222222222222,
              "#7201a8"
             ],
             [
              0.3333333333333333,
              "#9c179e"
             ],
             [
              0.4444444444444444,
              "#bd3786"
             ],
             [
              0.5555555555555556,
              "#d8576b"
             ],
             [
              0.6666666666666666,
              "#ed7953"
             ],
             [
              0.7777777777777778,
              "#fb9f3a"
             ],
             [
              0.8888888888888888,
              "#fdca26"
             ],
             [
              1,
              "#f0f921"
             ]
            ],
            "type": "surface"
           }
          ],
          "table": [
           {
            "cells": {
             "fill": {
              "color": "#EBF0F8"
             },
             "line": {
              "color": "white"
             }
            },
            "header": {
             "fill": {
              "color": "#C8D4E3"
             },
             "line": {
              "color": "white"
             }
            },
            "type": "table"
           }
          ]
         },
         "layout": {
          "annotationdefaults": {
           "arrowcolor": "#2a3f5f",
           "arrowhead": 0,
           "arrowwidth": 1
          },
          "autotypenumbers": "strict",
          "coloraxis": {
           "colorbar": {
            "outlinewidth": 0,
            "ticks": ""
           }
          },
          "colorscale": {
           "diverging": [
            [
             0,
             "#8e0152"
            ],
            [
             0.1,
             "#c51b7d"
            ],
            [
             0.2,
             "#de77ae"
            ],
            [
             0.3,
             "#f1b6da"
            ],
            [
             0.4,
             "#fde0ef"
            ],
            [
             0.5,
             "#f7f7f7"
            ],
            [
             0.6,
             "#e6f5d0"
            ],
            [
             0.7,
             "#b8e186"
            ],
            [
             0.8,
             "#7fbc41"
            ],
            [
             0.9,
             "#4d9221"
            ],
            [
             1,
             "#276419"
            ]
           ],
           "sequential": [
            [
             0,
             "#0d0887"
            ],
            [
             0.1111111111111111,
             "#46039f"
            ],
            [
             0.2222222222222222,
             "#7201a8"
            ],
            [
             0.3333333333333333,
             "#9c179e"
            ],
            [
             0.4444444444444444,
             "#bd3786"
            ],
            [
             0.5555555555555556,
             "#d8576b"
            ],
            [
             0.6666666666666666,
             "#ed7953"
            ],
            [
             0.7777777777777778,
             "#fb9f3a"
            ],
            [
             0.8888888888888888,
             "#fdca26"
            ],
            [
             1,
             "#f0f921"
            ]
           ],
           "sequentialminus": [
            [
             0,
             "#0d0887"
            ],
            [
             0.1111111111111111,
             "#46039f"
            ],
            [
             0.2222222222222222,
             "#7201a8"
            ],
            [
             0.3333333333333333,
             "#9c179e"
            ],
            [
             0.4444444444444444,
             "#bd3786"
            ],
            [
             0.5555555555555556,
             "#d8576b"
            ],
            [
             0.6666666666666666,
             "#ed7953"
            ],
            [
             0.7777777777777778,
             "#fb9f3a"
            ],
            [
             0.8888888888888888,
             "#fdca26"
            ],
            [
             1,
             "#f0f921"
            ]
           ]
          },
          "colorway": [
           "#636efa",
           "#EF553B",
           "#00cc96",
           "#ab63fa",
           "#FFA15A",
           "#19d3f3",
           "#FF6692",
           "#B6E880",
           "#FF97FF",
           "#FECB52"
          ],
          "font": {
           "color": "#2a3f5f"
          },
          "geo": {
           "bgcolor": "white",
           "lakecolor": "white",
           "landcolor": "#E5ECF6",
           "showlakes": true,
           "showland": true,
           "subunitcolor": "white"
          },
          "hoverlabel": {
           "align": "left"
          },
          "hovermode": "closest",
          "mapbox": {
           "style": "light"
          },
          "paper_bgcolor": "white",
          "plot_bgcolor": "#E5ECF6",
          "polar": {
           "angularaxis": {
            "gridcolor": "white",
            "linecolor": "white",
            "ticks": ""
           },
           "bgcolor": "#E5ECF6",
           "radialaxis": {
            "gridcolor": "white",
            "linecolor": "white",
            "ticks": ""
           }
          },
          "scene": {
           "xaxis": {
            "backgroundcolor": "#E5ECF6",
            "gridcolor": "white",
            "gridwidth": 2,
            "linecolor": "white",
            "showbackground": true,
            "ticks": "",
            "zerolinecolor": "white"
           },
           "yaxis": {
            "backgroundcolor": "#E5ECF6",
            "gridcolor": "white",
            "gridwidth": 2,
            "linecolor": "white",
            "showbackground": true,
            "ticks": "",
            "zerolinecolor": "white"
           },
           "zaxis": {
            "backgroundcolor": "#E5ECF6",
            "gridcolor": "white",
            "gridwidth": 2,
            "linecolor": "white",
            "showbackground": true,
            "ticks": "",
            "zerolinecolor": "white"
           }
          },
          "shapedefaults": {
           "line": {
            "color": "#2a3f5f"
           }
          },
          "ternary": {
           "aaxis": {
            "gridcolor": "white",
            "linecolor": "white",
            "ticks": ""
           },
           "baxis": {
            "gridcolor": "white",
            "linecolor": "white",
            "ticks": ""
           },
           "bgcolor": "#E5ECF6",
           "caxis": {
            "gridcolor": "white",
            "linecolor": "white",
            "ticks": ""
           }
          },
          "title": {
           "x": 0.05
          },
          "xaxis": {
           "automargin": true,
           "gridcolor": "white",
           "linecolor": "white",
           "ticks": "",
           "title": {
            "standoff": 15
           },
           "zerolinecolor": "white",
           "zerolinewidth": 2
          },
          "yaxis": {
           "automargin": true,
           "gridcolor": "white",
           "linecolor": "white",
           "ticks": "",
           "title": {
            "standoff": 15
           },
           "zerolinecolor": "white",
           "zerolinewidth": 2
          }
         }
        },
        "title": {
         "text": "<b>Evolución económica y desigualdad</b> (Argentina 1986 - 2022)"
        },
        "width": 1000,
        "xaxis": {
         "linecolor": "#BCCCDC",
         "mirror": "ticks",
         "showgrid": false,
         "showspikes": true,
         "spikecolor": "#999999",
         "spikedash": "dot",
         "spikemode": "across",
         "spikethickness": 1,
         "tickcolor": "black",
         "ticklen": 6,
         "ticks": "outside",
         "tickwidth": 2
        },
        "yaxis": {
         "linecolor": "#BCCCDC",
         "mirror": "ticks",
         "showgrid": false,
         "showspikes": true,
         "spikecolor": "#999999",
         "spikedash": "dot",
         "spikemode": "across",
         "spikethickness": 1,
         "tickcolor": "black",
         "ticklen": 6,
         "ticks": "outside",
         "tickwidth": 2
        }
       }
      }
     },
     "metadata": {},
     "output_type": "display_data"
    }
   ],
   "source": [
    "all = df\n",
    "\n",
    "hoverinfo = ['text']\n",
    "line_shape = 'spline'\n",
    "line_shape_presis = 'linear'\n",
    "mode = 'markers+text'\n",
    "mode_presis = 'lines'\n",
    "marker=dict(\n",
    "    color='white',\n",
    "    size=6,\n",
    "    line=dict(\n",
    "        color='black',\n",
    "        width=2\n",
    "    )\n",
    ")\n",
    "\n",
    "# Acomodo marcadores de años\n",
    "years = arg.copy()\n",
    "years[\"textposition\"] = \"top left\"\n",
    "years.loc[years.year.isin([1989, 1991, 1993, 2015]), \"textposition\"] = \"top center\"\n",
    "years.loc[years.year.isin([1988, 1999]), \"textposition\"] = \"bottom center\"\n",
    "years.loc[years.year.isin([1987, 1992, 1994, 1998, 2000, 2001, 2003, 2004, 2005, 2006, 2007, 2008, 2010, 2011, 2018, 2019]), \"textposition\"] = \"top right\"\n",
    "years.loc[years.year.isin([1986, 1990, 2021, 2022]), \"textposition\"] = \"bottom left\"\n",
    "years.loc[years.year.isin([2012, 2014]), \"textposition\"] = \"middle right\"\n",
    "years.loc[years.year.isin([1997, 2013, 2017]), \"textposition\"] = \"bottom right\"\n",
    "textpositions = years[\"textposition\"].values\n",
    "years = years[\"year\"].values\n",
    "\n",
    "\n",
    "showlegend=False\n",
    "\n",
    "fig = go.Figure()\n",
    "\n",
    "import plotly.express as px\n",
    "colors = px.colors.qualitative.Vivid.copy()\n",
    "\n",
    "presi_tail = pd.DataFrame()\n",
    "for presi_key in presidentials2['president'].unique():\n",
    "    presi_row = presidentials2[presidentials2.president == presi_key]\n",
    "    presi_df = all.loc[(all['president'] == presi_key)].copy()\n",
    "\n",
    "    # Agrego el último valor de una presidencia en la otra para segmentar correctamente por color\n",
    "    if not presi_tail.empty:\n",
    "        presi_df = pd.concat([presi_tail, presi_df])\n",
    "        # presi_df = presi_tail.append(presi_df)\n",
    "\n",
    "    presi_tail = presi_df.tail(1)\n",
    "\n",
    "    presi_color = colors.pop()\n",
    "\n",
    "    fig.add_trace(go.Scatter(\n",
    "        x = presi_df.gdp,\n",
    "        y = presi_df.gini,\n",
    "        hoverinfo = hoverinfo,\n",
    "        line_shape = line_shape,\n",
    "        line=dict(color = presi_color, width = 5),\n",
    "        mode = mode_presis,\n",
    "        showlegend = showlegend\n",
    "    ))\n",
    "\n",
    "    fig.add_annotation(x=presi_row[\"annotation_x\"].values[0], y=presi_row[\"annotation_y\"].values[0],\n",
    "        text = (\"<b>%s</b>\" % presi_key),\n",
    "        font=dict(\n",
    "            family=\"Helvetica, Verdana\",\n",
    "            size=12,\n",
    "            color=presi_color\n",
    "            ),\n",
    "        showarrow=False,\n",
    "        xref=\"x\", yref=\"y\",\n",
    "        yshift=10)\n",
    "\n",
    "# Con puntos\n",
    "fig.add_trace(go.Scatter(\n",
    "    x = arg.gdp,\n",
    "    y = arg.gini,\n",
    "    text = years,\n",
    "    texttemplate = \"<b>%{text}</b>\",\n",
    "    hoverinfo = hoverinfo,\n",
    "    hovertemplate = \"Finales de año: <b>%{text}</b><br>PBI PPP: <b>$%{x:.0f}</b><br>Gini: <b>%{y:.2f}</b><br>\",\n",
    "    line_shape = line_shape,\n",
    "    mode = mode,\n",
    "    marker = marker,\n",
    "    textposition = textpositions,\n",
    "    showlegend = showlegend\n",
    "))\n",
    "\n",
    "fig.update_traces(textfont = {'family': \"Helvetica, Verdana\", 'size': 11, 'color': \"#090933\"})\n",
    "\n",
    "fig.update_layout(\n",
    "    height=800,\n",
    "    width=1000,\n",
    "    title_text= '<b>Evolución económica y desigualdad</b> (Argentina %s - %s)' % (int(all.year.min()), int(all.year.max())),\n",
    "    font=dict(\n",
    "        family=\"Helvetica, Verdana\",\n",
    "        # size=18,\n",
    "    ),\n",
    "    paper_bgcolor='#ffffff',\n",
    "    plot_bgcolor='#ffffff',\n",
    "    hoverdistance=100, # Distance to show hover label of data point\n",
    "    spikedistance=1000, # Distance to show spike\n",
    "    xaxis=dict(\n",
    "        # title= \"<b>Producto Bruto Interno per Capita\",\n",
    "        linecolor=\"#BCCCDC\",  # Sets color of X-axis line\n",
    "        showgrid=False,  # Removes X-axis grid lines,\n",
    "        showspikes=True, # Show spike line for X-axis\n",
    "        # Format spike\n",
    "        spikethickness=1,\n",
    "        spikedash=\"dot\",\n",
    "        spikecolor=\"#999999\",\n",
    "        spikemode=\"across\",\n",
    "        mirror=True,          # Refleja las líneas en el eje opuesto\n",
    "    ),\n",
    "    yaxis=dict(\n",
    "        # title= \"<b>Índice de desigualdad GINI</b>\",\n",
    "        linecolor=\"#BCCCDC\",  # Sets color of Y-axis line\n",
    "        showgrid=False,  # Removes Y-axis grid lines \n",
    "        showspikes=True, # Show spike line for X-axis\n",
    "        # Format spike\n",
    "        spikethickness=1,\n",
    "        spikedash=\"dot\",\n",
    "        spikecolor=\"#999999\",\n",
    "        spikemode=\"across\",  \n",
    "        mirror=True,          # Refleja las líneas en el eje opuesto\n",
    "    ),\n",
    "    legend=dict(\n",
    "        # Adjust click behavior\n",
    "        itemclick=\"toggleothers\",\n",
    "        itemdoubleclick=\"toggle\",\n",
    "    )\n",
    ")\n",
    "\n",
    "# Ticks en ambos lados\n",
    "fig.update_layout(\n",
    "    xaxis=dict(\n",
    "        ticks='outside',  # Muestra las marcas hacia fuera del gráfico\n",
    "        ticklen=6,        # Longitud de las marcas\n",
    "        tickwidth=2,      # Ancho de las marcas\n",
    "        tickcolor='black', # Color de las marcas\n",
    "        mirror='ticks',   # Refleja las marcas en el eje opuesto\n",
    "        # ... otras configuraciones para xaxis ...\n",
    "    ),\n",
    "    yaxis=dict(\n",
    "        ticks='outside',  # Muestra las marcas hacia fuera del gráfico\n",
    "        ticklen=6,        # Longitud de las marcas\n",
    "        tickwidth=2,      # Ancho de las marcas\n",
    "        tickcolor='black', # Color de las marcas\n",
    "        mirror='ticks',   # Refleja las marcas en el eje opuesto\n",
    "        # ... otras configuraciones para yaxis ...\n",
    "    ),\n",
    "    # ... otras configuraciones para fig.update_layout ...\n",
    ")\n",
    "\n",
    "# Eje vertical (Título)\n",
    "# #####################\n",
    "fig.add_annotation(\n",
    "    xref=\"paper\",\n",
    "    yref=\"paper\",\n",
    "    x=0.9,\n",
    "    y=0.935,\n",
    "    align=\"right\",\n",
    "    text=\"<b>Índice de desigualdad GINI</b><br>Valores más altos indican mayor desigualdad\",\n",
    "    showarrow=False,\n",
    "    font=dict(\n",
    "        family=\"Helvetica, Verdana\",\n",
    "        size=13\n",
    "    )\n",
    ")\n",
    "\n",
    "# Flecha vertical\n",
    "fig.add_annotation(\n",
    "    x=0.91,\n",
    "    y=0.96,\n",
    "    xref=\"paper\",\n",
    "    yref=\"paper\",\n",
    "    showarrow=True,\n",
    "    arrowside=\"end+start\",\n",
    "    align=\"center\",\n",
    "    arrowhead=2,\n",
    "    arrowsize=1,\n",
    "    arrowwidth=2,\n",
    "    arrowcolor=\"black\",\n",
    "    ax=0,\n",
    "    ay=74,\n",
    "    opacity=1\n",
    ")\n",
    "\n",
    "# Eje horizontal (Título)\n",
    "# #######################\n",
    "fig.add_annotation(\n",
    "    xref=\"paper\",\n",
    "    yref=\"paper\",\n",
    "    x=0.073,\n",
    "    y=0.016,\n",
    "    align=\"center\",\n",
    "    text=\"<b>Producto Bruto Interno per Capita</b><br>USD ajustados por inflación a valor constante 2015\",\n",
    "    showarrow=False,\n",
    "    font=dict(\n",
    "        family=\"Helvetica, Verdana\",\n",
    "        size=13\n",
    "    )\n",
    ")\n",
    "\n",
    "# Flecha horizontal\n",
    "fig.add_annotation(\n",
    "    x=0.15,\n",
    "    y=0.09,\n",
    "    xref=\"paper\",\n",
    "    yref=\"paper\",\n",
    "    showarrow=True,\n",
    "    arrowside=\"end+start\",\n",
    "    align=\"center\",\n",
    "    arrowhead=2,\n",
    "    arrowsize=1,\n",
    "    arrowwidth=2,\n",
    "    arrowcolor=\"black\",\n",
    "    ax=180,\n",
    "    ay=0,\n",
    "    opacity=1\n",
    ")\n",
    "\n",
    "\n",
    "# Eventos del país y mundiales\n",
    "\n",
    "for idx, event in events.iterrows():\n",
    "    # print(event)\n",
    "    str_to = event.date\n",
    "    floor_to = get_year_from_datestr(str_to) - 1\n",
    "    percent_to = get_date_year_percentage(str_to)\n",
    "\n",
    "    row_val = df.loc[df[\"year\"] == floor_to].copy()\n",
    "    row_val_next_year = df.loc[df[\"year\"] == (floor_to+1)].copy()\n",
    "\n",
    "    # print(row_val.year.values[0], row_val.gdp.values[0], row_val.gini.values[0])\n",
    "\n",
    "    # print(event.date, row_val.gdp.values[0] + (row_val_next_year.gdp.values[0] - row_val.gdp.values[0]) * percent_to, row_val.gini.values[0] + (row_val_next_year.gini.values[0] - row_val.gini.values[0]) * percent_to)\n",
    "\n",
    "    # events.iloc[idx]scope = \"uto\"\n",
    "\n",
    "    fig.add_annotation(\n",
    "        x = row_val.gdp.values[0] + (row_val_next_year.gdp.values[0] - row_val.gdp.values[0]) * percent_to ,\n",
    "        y = row_val.gini.values[0] + (row_val_next_year.gini.values[0] - row_val.gini.values[0]) * percent_to,\n",
    "        text = ('<i>%s</i>' %event.event_name),\n",
    "        font=dict(\n",
    "            family=\"Helvetica, Verdana\",\n",
    "            size=12,\n",
    "            color= \"grey\"\n",
    "            ),\n",
    "        showarrow=True,\n",
    "        # arrowside=\"end\",\n",
    "        align=\"center\",\n",
    "        arrowhead=2,\n",
    "        arrowsize=1,\n",
    "        arrowwidth=1,\n",
    "        arrowcolor=\"grey\",\n",
    "        ax = event.ax,\n",
    "        ay = event.ay,\n",
    "        xref=\"x\", \n",
    "        yref=\"y\",\n",
    "        xshift=event.xshift,\n",
    "        yshift=event.yshift\n",
    "        )\n",
    "\n",
    "\n",
    "fig.show(config={\"displayModeBar\": False, \"showTips\": False}) # Remove floating menu and unnecesary dialog box"
   ]
  },
  {
   "cell_type": "code",
   "execution_count": null,
   "metadata": {},
   "outputs": [],
   "source": []
  }
 ],
 "metadata": {
  "kernelspec": {
   "display_name": "base",
   "language": "python",
   "name": "python3"
  },
  "language_info": {
   "codemirror_mode": {
    "name": "ipython",
    "version": 3
   },
   "file_extension": ".py",
   "mimetype": "text/x-python",
   "name": "python",
   "nbconvert_exporter": "python",
   "pygments_lexer": "ipython3",
   "version": "3.11.3"
  },
  "orig_nbformat": 2
 },
 "nbformat": 4,
 "nbformat_minor": 2
}
